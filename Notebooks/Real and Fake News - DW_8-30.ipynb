{
 "cells": [
  {
   "cell_type": "markdown",
   "metadata": {},
   "source": [
    "# 1) Import packages and loading data"
   ]
  },
  {
   "cell_type": "code",
   "execution_count": 1,
   "metadata": {},
   "outputs": [],
   "source": [
    "# import packages\n",
    "import pandas as pd\n",
    "import re\n",
    "import os\n",
    "import nltk\n",
    "pd.set_option('display.max_columns', None)\n",
    "import matplotlib.pyplot as plt\n",
    "import seaborn as sns"
   ]
  },
  {
   "cell_type": "code",
   "execution_count": 2,
   "metadata": {},
   "outputs": [
    {
     "data": {
      "text/plain": [
       "'C:\\\\Users\\\\gianl\\\\Capstone2\\\\Jup_notebook'"
      ]
     },
     "execution_count": 2,
     "metadata": {},
     "output_type": "execute_result"
    }
   ],
   "source": [
    "# check working directory\n",
    "os.getcwd()"
   ]
  },
  {
   "cell_type": "code",
   "execution_count": 3,
   "metadata": {},
   "outputs": [],
   "source": [
    "df_True= pd.read_csv('C:\\\\Users\\\\gianl\\\\Capstone2\\\\data\\True.csv')\n",
    "df_False= pd.read_csv('C:\\\\Users\\\\gianl\\\\Capstone2\\\\data\\Fake.csv')"
   ]
  },
  {
   "cell_type": "code",
   "execution_count": 4,
   "metadata": {},
   "outputs": [],
   "source": [
    "# Assigning 0/1 to Real/Fake \n",
    "df_True['Real_Fake'] = 0\n",
    "df_False['Real_Fake'] = 1"
   ]
  },
  {
   "cell_type": "code",
   "execution_count": 5,
   "metadata": {},
   "outputs": [
    {
     "name": "stdout",
     "output_type": "stream",
     "text": [
      "                                               title  \\\n",
      "0  As U.S. budget fight looms, Republicans flip t...   \n",
      "1  U.S. military to accept transgender recruits o...   \n",
      "2  Senior U.S. Republican senator: 'Let Mr. Muell...   \n",
      "3  FBI Russia probe helped by Australian diplomat...   \n",
      "4  Trump wants Postal Service to charge 'much mor...   \n",
      "\n",
      "                                                text       subject  \\\n",
      "0  WASHINGTON (Reuters) - The head of a conservat...  politicsNews   \n",
      "1  WASHINGTON (Reuters) - Transgender people will...  politicsNews   \n",
      "2  WASHINGTON (Reuters) - The special counsel inv...  politicsNews   \n",
      "3  WASHINGTON (Reuters) - Trump campaign adviser ...  politicsNews   \n",
      "4  SEATTLE/WASHINGTON (Reuters) - President Donal...  politicsNews   \n",
      "\n",
      "                 date  Real_Fake  \n",
      "0  December 31, 2017           0  \n",
      "1  December 29, 2017           0  \n",
      "2  December 31, 2017           0  \n",
      "3  December 30, 2017           0  \n",
      "4  December 29, 2017           0  \n",
      "(21417, 5)\n"
     ]
    }
   ],
   "source": [
    "### Checking real news dataframe\n",
    "print(df_True.head())\n",
    "print(df_True.shape)"
   ]
  },
  {
   "cell_type": "code",
   "execution_count": 6,
   "metadata": {},
   "outputs": [
    {
     "name": "stdout",
     "output_type": "stream",
     "text": [
      "                                               title  \\\n",
      "0   Donald Trump Sends Out Embarrassing New Year’...   \n",
      "1   Drunk Bragging Trump Staffer Started Russian ...   \n",
      "2   Sheriff David Clarke Becomes An Internet Joke...   \n",
      "3   Trump Is So Obsessed He Even Has Obama’s Name...   \n",
      "4   Pope Francis Just Called Out Donald Trump Dur...   \n",
      "\n",
      "                                                text subject  \\\n",
      "0  Donald Trump just couldn t wish all Americans ...    News   \n",
      "1  House Intelligence Committee Chairman Devin Nu...    News   \n",
      "2  On Friday, it was revealed that former Milwauk...    News   \n",
      "3  On Christmas day, Donald Trump announced that ...    News   \n",
      "4  Pope Francis used his annual Christmas Day mes...    News   \n",
      "\n",
      "                date  Real_Fake  \n",
      "0  December 31, 2017          1  \n",
      "1  December 31, 2017          1  \n",
      "2  December 30, 2017          1  \n",
      "3  December 29, 2017          1  \n",
      "4  December 25, 2017          1  \n",
      "(23481, 5)\n"
     ]
    }
   ],
   "source": [
    "### Checking fake news dataframe\n",
    "print(df_False.head())\n",
    "print(df_False.shape)"
   ]
  },
  {
   "cell_type": "markdown",
   "metadata": {},
   "source": [
    "### Merging Real and Fake news dataframes"
   ]
  },
  {
   "cell_type": "code",
   "execution_count": 7,
   "metadata": {},
   "outputs": [
    {
     "name": "stdout",
     "output_type": "stream",
     "text": [
      "                                               title  \\\n",
      "0  As U.S. budget fight looms, Republicans flip t...   \n",
      "1  U.S. military to accept transgender recruits o...   \n",
      "2  Senior U.S. Republican senator: 'Let Mr. Muell...   \n",
      "3  FBI Russia probe helped by Australian diplomat...   \n",
      "4  Trump wants Postal Service to charge 'much mor...   \n",
      "\n",
      "                                                text       subject  \\\n",
      "0  WASHINGTON (Reuters) - The head of a conservat...  politicsNews   \n",
      "1  WASHINGTON (Reuters) - Transgender people will...  politicsNews   \n",
      "2  WASHINGTON (Reuters) - The special counsel inv...  politicsNews   \n",
      "3  WASHINGTON (Reuters) - Trump campaign adviser ...  politicsNews   \n",
      "4  SEATTLE/WASHINGTON (Reuters) - President Donal...  politicsNews   \n",
      "\n",
      "                 date  Real_Fake  \n",
      "0  December 31, 2017           0  \n",
      "1  December 29, 2017           0  \n",
      "2  December 31, 2017           0  \n",
      "3  December 30, 2017           0  \n",
      "4  December 29, 2017           0  \n",
      "(44898, 5)\n",
      "RangeIndex(start=0, stop=44898, step=1)\n"
     ]
    }
   ],
   "source": [
    "df= pd.concat([df_True, df_False], ignore_index = True)\n",
    "print(df.head(5))\n",
    "print(df.shape)\n",
    "print(df.index)"
   ]
  },
  {
   "cell_type": "markdown",
   "metadata": {},
   "source": [
    "# 2) Cleaning"
   ]
  },
  {
   "cell_type": "markdown",
   "metadata": {},
   "source": [
    "### Removing white spaces at the end and beginning"
   ]
  },
  {
   "cell_type": "code",
   "execution_count": 8,
   "metadata": {
    "scrolled": true
   },
   "outputs": [
    {
     "name": "stdout",
     "output_type": "stream",
     "text": [
      "1784\n",
      "26693\n",
      "9045\n",
      "65\n"
     ]
    }
   ],
   "source": [
    "print(df['text'].str.startswith(' ').sum())\n",
    "print(df['text'].str.endswith(' ').sum())\n",
    "print(df['title'].str.startswith(' ').sum())\n",
    "print(df['title'].str.endswith(' ').sum())"
   ]
  },
  {
   "cell_type": "code",
   "execution_count": 9,
   "metadata": {},
   "outputs": [
    {
     "name": "stdout",
     "output_type": "stream",
     "text": [
      "0\n",
      "0\n",
      "0\n",
      "0\n"
     ]
    }
   ],
   "source": [
    "#stripping white spaces at the beginning and end\n",
    "df['text'] = df['text'].str.strip()\n",
    "df['title'] = df['title'].str.strip()\n",
    "\n",
    "print(df['text'].str.startswith(' ').sum())\n",
    "print(df['text'].str.endswith(' ').sum())\n",
    "print(df['title'].str.startswith(' ').sum())\n",
    "print(df['title'].str.endswith(' ').sum())"
   ]
  },
  {
   "cell_type": "markdown",
   "metadata": {},
   "source": [
    "### Converting date into datetime datatype. Then removal of row with NaT "
   ]
  },
  {
   "cell_type": "code",
   "execution_count": 10,
   "metadata": {},
   "outputs": [
    {
     "name": "stdout",
     "output_type": "stream",
     "text": [
      "10\n"
     ]
    }
   ],
   "source": [
    "# converting date to datetime\n",
    "df['date'] = pd.to_datetime(df['date'], errors='coerce')\n",
    "\n",
    "# checking for NaT on date column\n",
    "print(df['date'].isna().sum())"
   ]
  },
  {
   "cell_type": "code",
   "execution_count": 11,
   "metadata": {
    "scrolled": false
   },
   "outputs": [
    {
     "data": {
      "text/html": [
       "<div>\n",
       "<style scoped>\n",
       "    .dataframe tbody tr th:only-of-type {\n",
       "        vertical-align: middle;\n",
       "    }\n",
       "\n",
       "    .dataframe tbody tr th {\n",
       "        vertical-align: top;\n",
       "    }\n",
       "\n",
       "    .dataframe thead th {\n",
       "        text-align: right;\n",
       "    }\n",
       "</style>\n",
       "<table border=\"1\" class=\"dataframe\">\n",
       "  <thead>\n",
       "    <tr style=\"text-align: right;\">\n",
       "      <th></th>\n",
       "      <th>title</th>\n",
       "      <th>text</th>\n",
       "      <th>subject</th>\n",
       "      <th>date</th>\n",
       "      <th>Real_Fake</th>\n",
       "    </tr>\n",
       "  </thead>\n",
       "  <tbody>\n",
       "    <tr>\n",
       "      <th>30775</th>\n",
       "      <td>https://100percentfedup.com/served-roy-moore-v...</td>\n",
       "      <td>https://100percentfedup.com/served-roy-moore-v...</td>\n",
       "      <td>politics</td>\n",
       "      <td>NaT</td>\n",
       "      <td>1</td>\n",
       "    </tr>\n",
       "    <tr>\n",
       "      <th>36924</th>\n",
       "      <td>https://100percentfedup.com/video-hillary-aske...</td>\n",
       "      <td>https://100percentfedup.com/video-hillary-aske...</td>\n",
       "      <td>politics</td>\n",
       "      <td>NaT</td>\n",
       "      <td>1</td>\n",
       "    </tr>\n",
       "    <tr>\n",
       "      <th>36925</th>\n",
       "      <td>https://100percentfedup.com/12-yr-old-black-co...</td>\n",
       "      <td>https://100percentfedup.com/12-yr-old-black-co...</td>\n",
       "      <td>politics</td>\n",
       "      <td>NaT</td>\n",
       "      <td>1</td>\n",
       "    </tr>\n",
       "    <tr>\n",
       "      <th>37256</th>\n",
       "      <td>https://fedup.wpengine.com/wp-content/uploads/...</td>\n",
       "      <td>https://fedup.wpengine.com/wp-content/uploads/...</td>\n",
       "      <td>politics</td>\n",
       "      <td>NaT</td>\n",
       "      <td>1</td>\n",
       "    </tr>\n",
       "    <tr>\n",
       "      <th>37257</th>\n",
       "      <td>https://fedup.wpengine.com/wp-content/uploads/...</td>\n",
       "      <td>https://fedup.wpengine.com/wp-content/uploads/...</td>\n",
       "      <td>politics</td>\n",
       "      <td>NaT</td>\n",
       "      <td>1</td>\n",
       "    </tr>\n",
       "    <tr>\n",
       "      <th>38849</th>\n",
       "      <td>https://fedup.wpengine.com/wp-content/uploads/...</td>\n",
       "      <td>https://fedup.wpengine.com/wp-content/uploads/...</td>\n",
       "      <td>Government News</td>\n",
       "      <td>NaT</td>\n",
       "      <td>1</td>\n",
       "    </tr>\n",
       "    <tr>\n",
       "      <th>38850</th>\n",
       "      <td>https://fedup.wpengine.com/wp-content/uploads/...</td>\n",
       "      <td>https://fedup.wpengine.com/wp-content/uploads/...</td>\n",
       "      <td>Government News</td>\n",
       "      <td>NaT</td>\n",
       "      <td>1</td>\n",
       "    </tr>\n",
       "    <tr>\n",
       "      <th>40350</th>\n",
       "      <td>Homepage</td>\n",
       "      <td>[vc_row][vc_column width= 1/1 ][td_block_trend...</td>\n",
       "      <td>left-news</td>\n",
       "      <td>NaT</td>\n",
       "      <td>1</td>\n",
       "    </tr>\n",
       "    <tr>\n",
       "      <th>43286</th>\n",
       "      <td>https://fedup.wpengine.com/wp-content/uploads/...</td>\n",
       "      <td>https://fedup.wpengine.com/wp-content/uploads/...</td>\n",
       "      <td>left-news</td>\n",
       "      <td>NaT</td>\n",
       "      <td>1</td>\n",
       "    </tr>\n",
       "    <tr>\n",
       "      <th>43287</th>\n",
       "      <td>https://fedup.wpengine.com/wp-content/uploads/...</td>\n",
       "      <td>https://fedup.wpengine.com/wp-content/uploads/...</td>\n",
       "      <td>left-news</td>\n",
       "      <td>NaT</td>\n",
       "      <td>1</td>\n",
       "    </tr>\n",
       "  </tbody>\n",
       "</table>\n",
       "</div>"
      ],
      "text/plain": [
       "                                                   title  \\\n",
       "30775  https://100percentfedup.com/served-roy-moore-v...   \n",
       "36924  https://100percentfedup.com/video-hillary-aske...   \n",
       "36925  https://100percentfedup.com/12-yr-old-black-co...   \n",
       "37256  https://fedup.wpengine.com/wp-content/uploads/...   \n",
       "37257  https://fedup.wpengine.com/wp-content/uploads/...   \n",
       "38849  https://fedup.wpengine.com/wp-content/uploads/...   \n",
       "38850  https://fedup.wpengine.com/wp-content/uploads/...   \n",
       "40350                                           Homepage   \n",
       "43286  https://fedup.wpengine.com/wp-content/uploads/...   \n",
       "43287  https://fedup.wpengine.com/wp-content/uploads/...   \n",
       "\n",
       "                                                    text          subject  \\\n",
       "30775  https://100percentfedup.com/served-roy-moore-v...         politics   \n",
       "36924  https://100percentfedup.com/video-hillary-aske...         politics   \n",
       "36925  https://100percentfedup.com/12-yr-old-black-co...         politics   \n",
       "37256  https://fedup.wpengine.com/wp-content/uploads/...         politics   \n",
       "37257  https://fedup.wpengine.com/wp-content/uploads/...         politics   \n",
       "38849  https://fedup.wpengine.com/wp-content/uploads/...  Government News   \n",
       "38850  https://fedup.wpengine.com/wp-content/uploads/...  Government News   \n",
       "40350  [vc_row][vc_column width= 1/1 ][td_block_trend...        left-news   \n",
       "43286  https://fedup.wpengine.com/wp-content/uploads/...        left-news   \n",
       "43287  https://fedup.wpengine.com/wp-content/uploads/...        left-news   \n",
       "\n",
       "      date  Real_Fake  \n",
       "30775  NaT          1  \n",
       "36924  NaT          1  \n",
       "36925  NaT          1  \n",
       "37256  NaT          1  \n",
       "37257  NaT          1  \n",
       "38849  NaT          1  \n",
       "38850  NaT          1  \n",
       "40350  NaT          1  \n",
       "43286  NaT          1  \n",
       "43287  NaT          1  "
      ]
     },
     "execution_count": 11,
     "metadata": {},
     "output_type": "execute_result"
    }
   ],
   "source": [
    "# checking these NaT rows\n",
    "df[df['date'].isna()]"
   ]
  },
  {
   "cell_type": "code",
   "execution_count": 12,
   "metadata": {},
   "outputs": [],
   "source": [
    "# Those rows are useless. let's remove them\n",
    "df_t = df.dropna()"
   ]
  },
  {
   "cell_type": "code",
   "execution_count": 13,
   "metadata": {},
   "outputs": [
    {
     "name": "stdout",
     "output_type": "stream",
     "text": [
      "(44888, 5)\n"
     ]
    }
   ],
   "source": [
    "print(df_t.shape)\n",
    "assert df_t['date'].notnull().all()"
   ]
  },
  {
   "cell_type": "markdown",
   "metadata": {},
   "source": [
    "### Remove news with text shorter than 8 characters "
   ]
  },
  {
   "cell_type": "code",
   "execution_count": 14,
   "metadata": {
    "scrolled": true
   },
   "outputs": [
    {
     "name": "stdout",
     "output_type": "stream",
     "text": [
      "(44236, 5)\n"
     ]
    }
   ],
   "source": [
    "# All the news with text shorter than 8 characters (which is equal to 1-2 words) were removed\n",
    "df_t2 = df_t[df_t['text'].str.len() >8]\n",
    "print(df_t2.shape)"
   ]
  },
  {
   "cell_type": "markdown",
   "metadata": {},
   "source": [
    "### Drop full duplicated rows"
   ]
  },
  {
   "cell_type": "code",
   "execution_count": 15,
   "metadata": {},
   "outputs": [
    {
     "name": "stdout",
     "output_type": "stream",
     "text": [
      "211\n",
      "0\n",
      "shape of dateframe is (44888, 5)\n"
     ]
    }
   ],
   "source": [
    "print(df_t2.duplicated().sum())\n",
    "df_t2 = df_t2.drop_duplicates()\n",
    "print(df_t2.duplicated().sum())\n",
    "print('shape of dateframe is', df_t.shape)"
   ]
  },
  {
   "cell_type": "markdown",
   "metadata": {},
   "source": [
    "## Duplicates for categories, title and text"
   ]
  },
  {
   "cell_type": "code",
   "execution_count": 16,
   "metadata": {
    "scrolled": true
   },
   "outputs": [
    {
     "name": "stdout",
     "output_type": "stream",
     "text": [
      "Duplicates on title column are 5762\n",
      "Duplicates on text column are 5400\n"
     ]
    }
   ],
   "source": [
    "# Check for duplicates in title and text\n",
    "print('Duplicates on title column are', df_t2['title'].duplicated().sum())\n",
    "print('Duplicates on text column are', df_t2['text'].duplicated().sum())"
   ]
  },
  {
   "cell_type": "markdown",
   "metadata": {},
   "source": [
    "#### Let's dig dipper in what is duplicated:"
   ]
  },
  {
   "cell_type": "code",
   "execution_count": 17,
   "metadata": {
    "scrolled": true
   },
   "outputs": [
    {
     "name": "stdout",
     "output_type": "stream",
     "text": [
      "(5387, 5)\n",
      "(13, 5)\n",
      "(375, 5)\n",
      "(38250, 5)\n"
     ]
    }
   ],
   "source": [
    "# there more duplicates on text and title...\n",
    "print(df_t2[(df_t2['title'].duplicated() == True) & (df_t2['text'].duplicated() == True)].shape) \n",
    "print(df_t2[(df_t2['title'].duplicated() == False) & (df_t2['text'].duplicated() == True)].shape)\n",
    "print(df_t2[(df_t2['title'].duplicated() == True) & (df_t2['text'].duplicated() == False)].shape)\n",
    "print(df_t2[(df_t2['title'].duplicated() == False) & (df_t2['text'].duplicated() == False)].shape)"
   ]
  },
  {
   "cell_type": "markdown",
   "metadata": {
    "scrolled": true
   },
   "source": [
    "# Best course of action: create dummy, group by 'text' and aggregate"
   ]
  },
  {
   "cell_type": "markdown",
   "metadata": {},
   "source": [
    "### Get dummies variable for subject / delete subject colum "
   ]
  },
  {
   "cell_type": "code",
   "execution_count": 18,
   "metadata": {
    "scrolled": true
   },
   "outputs": [],
   "source": [
    "df_t2 = pd.concat([df_t2, pd.get_dummies(df_t2['subject'], prefix ='Cat')], axis = 1)\n",
    "del df_t2['subject']"
   ]
  },
  {
   "cell_type": "code",
   "execution_count": 19,
   "metadata": {},
   "outputs": [
    {
     "name": "stdout",
     "output_type": "stream",
     "text": [
      "(44025, 12)\n",
      "                                               title  \\\n",
      "0  As U.S. budget fight looms, Republicans flip t...   \n",
      "1  U.S. military to accept transgender recruits o...   \n",
      "2  Senior U.S. Republican senator: 'Let Mr. Muell...   \n",
      "3  FBI Russia probe helped by Australian diplomat...   \n",
      "4  Trump wants Postal Service to charge 'much mor...   \n",
      "\n",
      "                                                text       date  Real_Fake  \\\n",
      "0  WASHINGTON (Reuters) - The head of a conservat... 2017-12-31          0   \n",
      "1  WASHINGTON (Reuters) - Transgender people will... 2017-12-29          0   \n",
      "2  WASHINGTON (Reuters) - The special counsel inv... 2017-12-31          0   \n",
      "3  WASHINGTON (Reuters) - Trump campaign adviser ... 2017-12-30          0   \n",
      "4  SEATTLE/WASHINGTON (Reuters) - President Donal... 2017-12-29          0   \n",
      "\n",
      "   Cat_Government News  Cat_Middle-east  Cat_News  Cat_US_News  Cat_left-news  \\\n",
      "0                    0                0         0            0              0   \n",
      "1                    0                0         0            0              0   \n",
      "2                    0                0         0            0              0   \n",
      "3                    0                0         0            0              0   \n",
      "4                    0                0         0            0              0   \n",
      "\n",
      "   Cat_politics  Cat_politicsNews  Cat_worldnews  \n",
      "0             0                 1              0  \n",
      "1             0                 1              0  \n",
      "2             0                 1              0  \n",
      "3             0                 1              0  \n",
      "4             0                 1              0  \n"
     ]
    }
   ],
   "source": [
    "print(df_t2.shape)\n",
    "print(df_t2.head())"
   ]
  },
  {
   "cell_type": "code",
   "execution_count": 20,
   "metadata": {},
   "outputs": [],
   "source": [
    "final_df = df_t2.groupby('text').agg({'title': 'first', 'date':'first', 'Real_Fake': 'max', 'Cat_Government News' : 'max', 'Cat_Middle-east': 'max' , 'Cat_News': 'max', 'Cat_US_News': 'max', 'Cat_left-news': 'max', 'Cat_politics': 'max', 'Cat_politicsNews': 'max', 'Cat_worldnews': 'max'})"
   ]
  },
  {
   "cell_type": "code",
   "execution_count": 21,
   "metadata": {
    "scrolled": false
   },
   "outputs": [
    {
     "name": "stdout",
     "output_type": "stream",
     "text": [
      "(38625, 11)\n"
     ]
    },
    {
     "data": {
      "text/html": [
       "<div>\n",
       "<style scoped>\n",
       "    .dataframe tbody tr th:only-of-type {\n",
       "        vertical-align: middle;\n",
       "    }\n",
       "\n",
       "    .dataframe tbody tr th {\n",
       "        vertical-align: top;\n",
       "    }\n",
       "\n",
       "    .dataframe thead th {\n",
       "        text-align: right;\n",
       "    }\n",
       "</style>\n",
       "<table border=\"1\" class=\"dataframe\">\n",
       "  <thead>\n",
       "    <tr style=\"text-align: right;\">\n",
       "      <th></th>\n",
       "      <th>title</th>\n",
       "      <th>date</th>\n",
       "      <th>Real_Fake</th>\n",
       "      <th>Cat_Government News</th>\n",
       "      <th>Cat_Middle-east</th>\n",
       "      <th>Cat_News</th>\n",
       "      <th>Cat_US_News</th>\n",
       "      <th>Cat_left-news</th>\n",
       "      <th>Cat_politics</th>\n",
       "      <th>Cat_politicsNews</th>\n",
       "      <th>Cat_worldnews</th>\n",
       "    </tr>\n",
       "    <tr>\n",
       "      <th>text</th>\n",
       "      <th></th>\n",
       "      <th></th>\n",
       "      <th></th>\n",
       "      <th></th>\n",
       "      <th></th>\n",
       "      <th></th>\n",
       "      <th></th>\n",
       "      <th></th>\n",
       "      <th></th>\n",
       "      <th></th>\n",
       "      <th></th>\n",
       "    </tr>\n",
       "  </thead>\n",
       "  <tbody>\n",
       "    <tr>\n",
       "      <th>\"Fake news\" was born in August 2014 in Ferguson MO. when @MSNBC @nytimes @washingtonpost @CNN all propagated the Hands up, Don't shoot lie. pic.twitter.com/O2cjpm63GQ  David A. Clarke, Jr. (@SheriffClarke) December 6, 2016On Thursday Sheriff Clarke went off on liberal lawyer Eric Guster on Hannity over the  Hands up, Don t Shoot  lie. Clarke slammed the lawyer for pushing lies that have resulted in the deaths of police officers across the country.After Guster defended the  Hands Up, Don t Shoot  movement Sheriff Clarke went off.  GP</th>\n",
       "      <td>SHERIFF CLARKE BLASTS Liberal Crybaby Lawyer: ...</td>\n",
       "      <td>2016-12-09</td>\n",
       "      <td>1</td>\n",
       "      <td>0</td>\n",
       "      <td>0</td>\n",
       "      <td>0</td>\n",
       "      <td>0</td>\n",
       "      <td>1</td>\n",
       "      <td>1</td>\n",
       "      <td>0</td>\n",
       "      <td>0</td>\n",
       "    </tr>\n",
       "    <tr>\n",
       "      <th>#BREAKING @RealBenCarson on #foxreport: If after meeting and they (Trump Transition Team) decide they want me, then I wouldn't turn it down  HARRISFAULKNER (@HARRISFAULKNER) November 21, 2016 I didn t 100% say that I would never serve. I just said that my preference would be to stay outside. Basically I ve said, my preference was to be outside, and to act as an advisor. But if after going through the process, they all conclude that, you now, that it would be much better to have me in the cabinet, I would have to give that some serious consideration. It s just not my preference. Watch here at the 1:20 mark:https://youtu.be/-zuSHm0ASNc</th>\n",
       "      <td>BREAKING: BEN CARSON Makes Surprising Announce...</td>\n",
       "      <td>2016-11-20</td>\n",
       "      <td>1</td>\n",
       "      <td>0</td>\n",
       "      <td>0</td>\n",
       "      <td>0</td>\n",
       "      <td>0</td>\n",
       "      <td>0</td>\n",
       "      <td>1</td>\n",
       "      <td>0</td>\n",
       "      <td>0</td>\n",
       "    </tr>\n",
       "    <tr>\n",
       "      <th>#FeelTheBern of incompetence A survivor of the 2012 Benghazi siege that claimed the lives of four Americans and subject of the movie  13 Hours  repudiated Hillary Clinton Thursday night in Connecticut s largest Democratic stronghold.Kris  Tanto  Paronto, a military contractor and former Army Ranger, said Clinton failed as secretary of state to send in adequate reinforcements when the U.S. mission in Libya was under terrorist attack.Part of the security team that tried to defend the compound, Paronto headlined the annual Lincoln Day fundraising dinner of Bridgeport Republicans, who make up less than 10 percent of the city s electorate.Paronto stopped short of endorsing the GOP s presumptive presidential nominee, Donald Trump, but said he will work with Republicans to shine a light on what happened in the confusion of the attack that killed U.S. ambassador to Libya J. Christopher Stevens on Sept. 11, 2012. I don t think she has a soul,  Paronto said of Clinton during an interview with Hearst Connecticut Media.  I hope it haunts her. I don t think it will. A spokesman for Clinton, who campaigned in Bridgeport ahead of her primary victory last month in Connecticut, declined to comment.Paronto said he has no doubt that there is a nexus between the Benghazi attack and the email scandal that has dogged Clinton, who has been criticized for using a personal server to send and receive classified material when she was secretary of state. He repeated accusations that Clinton misled the victims  families over what incited the attack. She lied to the family members, period,  Paronto said.  People are believing her over the family members of teammates that I lost. Clinton has denied telling the victims  families that an anti-Islam video was to blame for sparking the attack.Andy Wainwright, a Republican State Central Committee member from Stamford, said he recently saw  13 Hours  and was mesmerized. It was not a political movie,  he said.  There was no finger-pointing. It highlights the bureaucracy and a lot of times the military being handcuffed. For entire story: CT Post</th>\n",
       "      <td>Benghazi Survivor On Hillary Clinton: “I Don’t...</td>\n",
       "      <td>2016-05-31</td>\n",
       "      <td>1</td>\n",
       "      <td>0</td>\n",
       "      <td>0</td>\n",
       "      <td>0</td>\n",
       "      <td>0</td>\n",
       "      <td>0</td>\n",
       "      <td>1</td>\n",
       "      <td>0</td>\n",
       "      <td>0</td>\n",
       "    </tr>\n",
       "    <tr>\n",
       "      <th>#FeelTheBernOfSocialismUnivision host Leon Krauze asked avowed Socialist Bernie Sanders about the collapse of several Latin American countries due to their failed socialist policies. Angry Bernie responded with well, anger.WATCH:</th>\n",
       "      <td>ANGRY BERNIE REFUSES To Respond When TV Host A...</td>\n",
       "      <td>2016-05-27</td>\n",
       "      <td>1</td>\n",
       "      <td>0</td>\n",
       "      <td>0</td>\n",
       "      <td>0</td>\n",
       "      <td>0</td>\n",
       "      <td>1</td>\n",
       "      <td>1</td>\n",
       "      <td>0</td>\n",
       "      <td>0</td>\n",
       "    </tr>\n",
       "    <tr>\n",
       "      <th>#FlashbackFriday 1993 #AttorneyGate Clinton AG Reno Fires ALL 93 Republican US Attorneys in one day. #Sessions is following tradition. #MAGA pic.twitter.com/GGf9ur1R9f   ia (@nia4_trump) March 10, 2017WASHINGTON (AP)   Attorney General Jeff Sessions is seeking the resignations of 46 United States attorneys who were appointed during the prior presidential administration.In a statement Friday, the Justice Department said the request was similar to ones made in past presidential transitions. The department said many federal prosecutors appointed in the Obama administration have already left their positions, but that Sessions is now seeking the resignations of 46 holdovers.It is customary, though not automatic, for the country s 93 U.S. attorneys to leave their positions once a new president is in office. The Obama administration allowed political appointees of President George W. Bush to serve until their replacement had been nominated and confirmed.The federal prosecutors are nominated by the president, generally upon the recommendation of a home-state senator.One U.S. attorney appointed by Bush, Rod Rosenstein of Maryland, remained on the job for the entire Obama administration and is the current nominee for deputy attorney general.U.S. attorneys are responsible for prosecuting federal crimes in the territories they oversee. They report to Justice Department leadership in Washington, and their priorities are expected to be in line with those of the attorney general.Via: AP</th>\n",
       "      <td>AWESOME! ATTORNEY GENERAL JEFF SESSIONS Just D...</td>\n",
       "      <td>2017-03-10</td>\n",
       "      <td>1</td>\n",
       "      <td>1</td>\n",
       "      <td>0</td>\n",
       "      <td>0</td>\n",
       "      <td>0</td>\n",
       "      <td>0</td>\n",
       "      <td>1</td>\n",
       "      <td>0</td>\n",
       "      <td>0</td>\n",
       "    </tr>\n",
       "  </tbody>\n",
       "</table>\n",
       "</div>"
      ],
      "text/plain": [
       "                                                                                                title  \\\n",
       "text                                                                                                    \n",
       "\"Fake news\" was born in August 2014 in Ferguson...  SHERIFF CLARKE BLASTS Liberal Crybaby Lawyer: ...   \n",
       "#BREAKING @RealBenCarson on #foxreport: If afte...  BREAKING: BEN CARSON Makes Surprising Announce...   \n",
       "#FeelTheBern of incompetence A survivor of the ...  Benghazi Survivor On Hillary Clinton: “I Don’t...   \n",
       "#FeelTheBernOfSocialismUnivision host Leon Krau...  ANGRY BERNIE REFUSES To Respond When TV Host A...   \n",
       "#FlashbackFriday 1993 #AttorneyGate Clinton AG ...  AWESOME! ATTORNEY GENERAL JEFF SESSIONS Just D...   \n",
       "\n",
       "                                                         date  Real_Fake  \\\n",
       "text                                                                       \n",
       "\"Fake news\" was born in August 2014 in Ferguson... 2016-12-09          1   \n",
       "#BREAKING @RealBenCarson on #foxreport: If afte... 2016-11-20          1   \n",
       "#FeelTheBern of incompetence A survivor of the ... 2016-05-31          1   \n",
       "#FeelTheBernOfSocialismUnivision host Leon Krau... 2016-05-27          1   \n",
       "#FlashbackFriday 1993 #AttorneyGate Clinton AG ... 2017-03-10          1   \n",
       "\n",
       "                                                    Cat_Government News  \\\n",
       "text                                                                      \n",
       "\"Fake news\" was born in August 2014 in Ferguson...                    0   \n",
       "#BREAKING @RealBenCarson on #foxreport: If afte...                    0   \n",
       "#FeelTheBern of incompetence A survivor of the ...                    0   \n",
       "#FeelTheBernOfSocialismUnivision host Leon Krau...                    0   \n",
       "#FlashbackFriday 1993 #AttorneyGate Clinton AG ...                    1   \n",
       "\n",
       "                                                    Cat_Middle-east  Cat_News  \\\n",
       "text                                                                            \n",
       "\"Fake news\" was born in August 2014 in Ferguson...                0         0   \n",
       "#BREAKING @RealBenCarson on #foxreport: If afte...                0         0   \n",
       "#FeelTheBern of incompetence A survivor of the ...                0         0   \n",
       "#FeelTheBernOfSocialismUnivision host Leon Krau...                0         0   \n",
       "#FlashbackFriday 1993 #AttorneyGate Clinton AG ...                0         0   \n",
       "\n",
       "                                                    Cat_US_News  \\\n",
       "text                                                              \n",
       "\"Fake news\" was born in August 2014 in Ferguson...            0   \n",
       "#BREAKING @RealBenCarson on #foxreport: If afte...            0   \n",
       "#FeelTheBern of incompetence A survivor of the ...            0   \n",
       "#FeelTheBernOfSocialismUnivision host Leon Krau...            0   \n",
       "#FlashbackFriday 1993 #AttorneyGate Clinton AG ...            0   \n",
       "\n",
       "                                                    Cat_left-news  \\\n",
       "text                                                                \n",
       "\"Fake news\" was born in August 2014 in Ferguson...              1   \n",
       "#BREAKING @RealBenCarson on #foxreport: If afte...              0   \n",
       "#FeelTheBern of incompetence A survivor of the ...              0   \n",
       "#FeelTheBernOfSocialismUnivision host Leon Krau...              1   \n",
       "#FlashbackFriday 1993 #AttorneyGate Clinton AG ...              0   \n",
       "\n",
       "                                                    Cat_politics  \\\n",
       "text                                                               \n",
       "\"Fake news\" was born in August 2014 in Ferguson...             1   \n",
       "#BREAKING @RealBenCarson on #foxreport: If afte...             1   \n",
       "#FeelTheBern of incompetence A survivor of the ...             1   \n",
       "#FeelTheBernOfSocialismUnivision host Leon Krau...             1   \n",
       "#FlashbackFriday 1993 #AttorneyGate Clinton AG ...             1   \n",
       "\n",
       "                                                    Cat_politicsNews  \\\n",
       "text                                                                   \n",
       "\"Fake news\" was born in August 2014 in Ferguson...                 0   \n",
       "#BREAKING @RealBenCarson on #foxreport: If afte...                 0   \n",
       "#FeelTheBern of incompetence A survivor of the ...                 0   \n",
       "#FeelTheBernOfSocialismUnivision host Leon Krau...                 0   \n",
       "#FlashbackFriday 1993 #AttorneyGate Clinton AG ...                 0   \n",
       "\n",
       "                                                    Cat_worldnews  \n",
       "text                                                               \n",
       "\"Fake news\" was born in August 2014 in Ferguson...              0  \n",
       "#BREAKING @RealBenCarson on #foxreport: If afte...              0  \n",
       "#FeelTheBern of incompetence A survivor of the ...              0  \n",
       "#FeelTheBernOfSocialismUnivision host Leon Krau...              0  \n",
       "#FlashbackFriday 1993 #AttorneyGate Clinton AG ...              0  "
      ]
     },
     "execution_count": 21,
     "metadata": {},
     "output_type": "execute_result"
    }
   ],
   "source": [
    "pd.set_option('display.max_columns', None)\n",
    "print(final_df.shape)\n",
    "final_df.head(5)"
   ]
  },
  {
   "cell_type": "code",
   "execution_count": 22,
   "metadata": {
    "scrolled": true
   },
   "outputs": [],
   "source": [
    "# reset index\n",
    "final_df = final_df.reset_index(drop = False)\n",
    "final_df2 = final_df.set_index('date').sort_index()"
   ]
  },
  {
   "cell_type": "code",
   "execution_count": 23,
   "metadata": {
    "scrolled": false
   },
   "outputs": [
    {
     "data": {
      "text/html": [
       "<div>\n",
       "<style scoped>\n",
       "    .dataframe tbody tr th:only-of-type {\n",
       "        vertical-align: middle;\n",
       "    }\n",
       "\n",
       "    .dataframe tbody tr th {\n",
       "        vertical-align: top;\n",
       "    }\n",
       "\n",
       "    .dataframe thead th {\n",
       "        text-align: right;\n",
       "    }\n",
       "</style>\n",
       "<table border=\"1\" class=\"dataframe\">\n",
       "  <thead>\n",
       "    <tr style=\"text-align: right;\">\n",
       "      <th></th>\n",
       "      <th>text</th>\n",
       "      <th>title</th>\n",
       "      <th>Real_Fake</th>\n",
       "      <th>Cat_Government News</th>\n",
       "      <th>Cat_Middle-east</th>\n",
       "      <th>Cat_News</th>\n",
       "      <th>Cat_US_News</th>\n",
       "      <th>Cat_left-news</th>\n",
       "      <th>Cat_politics</th>\n",
       "      <th>Cat_politicsNews</th>\n",
       "      <th>Cat_worldnews</th>\n",
       "    </tr>\n",
       "    <tr>\n",
       "      <th>date</th>\n",
       "      <th></th>\n",
       "      <th></th>\n",
       "      <th></th>\n",
       "      <th></th>\n",
       "      <th></th>\n",
       "      <th></th>\n",
       "      <th></th>\n",
       "      <th></th>\n",
       "      <th></th>\n",
       "      <th></th>\n",
       "      <th></th>\n",
       "    </tr>\n",
       "  </thead>\n",
       "  <tbody>\n",
       "    <tr>\n",
       "      <th>2015-03-31</th>\n",
       "      <td>The irony here isn t lost on us. Hillary is be...</td>\n",
       "      <td>HILLARY RODHAM NIXON: A CANDIDATE WITH MORE BA...</td>\n",
       "      <td>1</td>\n",
       "      <td>0</td>\n",
       "      <td>0</td>\n",
       "      <td>0</td>\n",
       "      <td>0</td>\n",
       "      <td>1</td>\n",
       "      <td>1</td>\n",
       "      <td>0</td>\n",
       "      <td>0</td>\n",
       "    </tr>\n",
       "    <tr>\n",
       "      <th>2015-03-31</th>\n",
       "      <td>In case you missed it Sen. Harry Reid (R-NV), ...</td>\n",
       "      <td>WATCH DIRTY HARRY REID ON HIS LIE ABOUT ROMNEY...</td>\n",
       "      <td>1</td>\n",
       "      <td>0</td>\n",
       "      <td>0</td>\n",
       "      <td>0</td>\n",
       "      <td>0</td>\n",
       "      <td>1</td>\n",
       "      <td>1</td>\n",
       "      <td>0</td>\n",
       "      <td>0</td>\n",
       "    </tr>\n",
       "    <tr>\n",
       "      <th>2015-03-31</th>\n",
       "      <td>Nothing like political cronyism to make your s...</td>\n",
       "      <td>OH NO! GUESS WHO FUNDED THE SHRINE TO TED KENNEDY</td>\n",
       "      <td>1</td>\n",
       "      <td>0</td>\n",
       "      <td>0</td>\n",
       "      <td>0</td>\n",
       "      <td>0</td>\n",
       "      <td>0</td>\n",
       "      <td>1</td>\n",
       "      <td>0</td>\n",
       "      <td>0</td>\n",
       "    </tr>\n",
       "  </tbody>\n",
       "</table>\n",
       "</div>"
      ],
      "text/plain": [
       "                                                         text  \\\n",
       "date                                                            \n",
       "2015-03-31  The irony here isn t lost on us. Hillary is be...   \n",
       "2015-03-31  In case you missed it Sen. Harry Reid (R-NV), ...   \n",
       "2015-03-31  Nothing like political cronyism to make your s...   \n",
       "\n",
       "                                                        title  Real_Fake  \\\n",
       "date                                                                       \n",
       "2015-03-31  HILLARY RODHAM NIXON: A CANDIDATE WITH MORE BA...          1   \n",
       "2015-03-31  WATCH DIRTY HARRY REID ON HIS LIE ABOUT ROMNEY...          1   \n",
       "2015-03-31  OH NO! GUESS WHO FUNDED THE SHRINE TO TED KENNEDY          1   \n",
       "\n",
       "            Cat_Government News  Cat_Middle-east  Cat_News  Cat_US_News  \\\n",
       "date                                                                      \n",
       "2015-03-31                    0                0         0            0   \n",
       "2015-03-31                    0                0         0            0   \n",
       "2015-03-31                    0                0         0            0   \n",
       "\n",
       "            Cat_left-news  Cat_politics  Cat_politicsNews  Cat_worldnews  \n",
       "date                                                                      \n",
       "2015-03-31              1             1                 0              0  \n",
       "2015-03-31              1             1                 0              0  \n",
       "2015-03-31              0             1                 0              0  "
      ]
     },
     "execution_count": 23,
     "metadata": {},
     "output_type": "execute_result"
    }
   ],
   "source": [
    "final_df2.head(3)"
   ]
  },
  {
   "cell_type": "markdown",
   "metadata": {},
   "source": [
    "# News cleaning"
   ]
  },
  {
   "cell_type": "markdown",
   "metadata": {},
   "source": [
    "### A) Removal of cross site scripting: from // < to gt;"
   ]
  },
  {
   "cell_type": "code",
   "execution_count": 24,
   "metadata": {
    "scrolled": false
   },
   "outputs": [
    {
     "name": "stdout",
     "output_type": "stream",
     "text": [
      "Children are proof that hate is taught and learned. We are not born with prejudice. It is our upbringings that make us hate those unlike ourselves. Case in point   a 7-year-old boy and his little sister, who is 5, who are protesting North Carolina s sweeping anti-LGBT legislation, because their best friend, who is transgender, is being directly affected by it. The children s story was so inspiring that it was picked up by the popular Facebook page  Have a Gay Day. // < ![CDATA[ // < ![CDATA[ // < ![CDATA[ (function(d, s, id) { var js, fjs = d.getElementsByTagName(s)[0]; if (d.getElementById(id)) return; js = d.createElement(s); js.id = id; js.src = \"//connect.facebook.net/en_US/sdk.js#xfbml=1&#038;version=v2.3\"; fjs.parentNode.insertBefore(js, fjs);}(document, 'script', 'facebook-jssdk')); // ]]&gt;This.Posted by Have A Gay Day on Tuesday, April 5, 2016Their mother, Janna Harris Cadenas, is very proud of her children. She posted to the  Have a Gay Day  Facebook page:Now that I went through all the posts  This is my son in the picture. His name is McCartney, he is 7 years old. He asked me to take him to this rally because his best friend is Transgender and for her privacy and age, she was not able to attend. My son is a beautiful, kind and intelligent soul. He was fully aware of why he was there this day and not only did he know what his sign said, he knew which song it references and can tell you every word of that song and just about any other Beatles song you can throw at him for that matter. That s his dog in the picture behind him. HIS name is Rigby, after the Beatles song. He s our newest rescue and he was proud to be mistaken for a girl all day while my Daughter Starkey Jude was mistaken for a boy. She didn t mind either and knew why she was there as well, she s 5. Guess I got pretty lucky to get the amazing, loving, accepting children I was blessed with. Oh, and they are both vegetarians and go to animal rights protests too. I m pretty sure I m winning at Momming these 2 amazing humans. If you doubt that feel free to ask them their opinions, they will definitely tell you.We need more citizens like Janna Harris Cadenas and her children. The sweep of anti-LGBT legislation across the southeast by bigots in power is nothing short of shameful. These lawmakers need to take a cue from these children, and realize that hate is not the way. It is not a family value or a Christian value, and it is certainly not an American value.You re awesome, Mrs. Cadenas, and thank you and your children for your support of our vulnerable community.Featured image via screen capture from The Gaily Grind\n"
     ]
    }
   ],
   "source": [
    "# Example below\n",
    "print(final_df2.iloc[5789, 0])"
   ]
  },
  {
   "cell_type": "code",
   "execution_count": 25,
   "metadata": {},
   "outputs": [
    {
     "name": "stdout",
     "output_type": "stream",
     "text": [
      "Children are proof that hate is taught and learned. We are not born with prejudice. It is our upbringings that make us hate those unlike ourselves. Case in point   a 7-year-old boy and his little sister, who is 5, who are protesting North Carolina s sweeping anti-LGBT legislation, because their best friend, who is transgender, is being directly affected by it. The children s story was so inspiring that it was picked up by the popular Facebook page  Have a Gay Day. .This.Posted by Have A Gay Day on Tuesday, April 5, 2016Their mother, Janna Harris Cadenas, is very proud of her children. She posted to the  Have a Gay Day  Facebook page:Now that I went through all the posts  This is my son in the picture. His name is McCartney, he is 7 years old. He asked me to take him to this rally because his best friend is Transgender and for her privacy and age, she was not able to attend. My son is a beautiful, kind and intelligent soul. He was fully aware of why he was there this day and not only did he know what his sign said, he knew which song it references and can tell you every word of that song and just about any other Beatles song you can throw at him for that matter. That s his dog in the picture behind him. HIS name is Rigby, after the Beatles song. He s our newest rescue and he was proud to be mistaken for a girl all day while my Daughter Starkey Jude was mistaken for a boy. She didn t mind either and knew why she was there as well, she s 5. Guess I got pretty lucky to get the amazing, loving, accepting children I was blessed with. Oh, and they are both vegetarians and go to animal rights protests too. I m pretty sure I m winning at Momming these 2 amazing humans. If you doubt that feel free to ask them their opinions, they will definitely tell you.We need more citizens like Janna Harris Cadenas and her children. The sweep of anti-LGBT legislation across the southeast by bigots in power is nothing short of shameful. These lawmakers need to take a cue from these children, and realize that hate is not the way. It is not a family value or a Christian value, and it is certainly not an American value.You re awesome, Mrs. Cadenas, and thank you and your children for your support of our vulnerable community.Featured image via screen capture from The Gaily Grind\n"
     ]
    }
   ],
   "source": [
    "# They start with  // < and end with &gt;\n",
    "# I used the non-greedy search/substitution of the text to avoid the removal of most of the text in those texts with more than one (// <  -  &gt;) pair\n",
    "final_df2['text'] = final_df2['text'].apply(lambda x : re.sub(r\"// <.*?&gt;\", '.', x))\n",
    "# check  the same text\n",
    "print(final_df2.iloc[5789, 0])"
   ]
  },
  {
   "cell_type": "markdown",
   "metadata": {},
   "source": [
    "### B) Removal of cross site scripting: from &lt to &gt;"
   ]
  },
  {
   "cell_type": "code",
   "execution_count": 26,
   "metadata": {},
   "outputs": [
    {
     "name": "stdout",
     "output_type": "stream",
     "text": [
      "Some companies definitely prefer increased profit over principle and, clearly, patriotism. Yet another U.S. company, this time Carrier, decided that they would be relocating their Indianapolis, IN, plant to Monterrey, Mexico. This relocation will, in turn, put 2,100 people out of work come 2017.The company, of course, in a state-run by a supposed business friendly Republican, Gov. Mike Pence, is blaming regulations and the high cost to run business here at home. In a statement put out by HVAC Systems and Services North America president Chris Nelson: This move is intended to address the challenges we continue to face in a rapidly changing HVAC industry, with the continued migration of the HVAC industry to Mexico, including our suppliers and competitors, and ongoing cost and pricing pressures driven, in part, by new regulatory requirements, Relocating our operations to a region where we have existing infrastructure and a strong supplier base will allow us to operate more cost effectively so that we can continue to produce high-quality HVAC products that are competitively positioned while continuing to meet customer needs. Nelson, trying to have a heart, but failing miserably, also said: This decision is difficult and we recognize the impact on employees, their families and the community. We are committed to ensuring that our employees are treated respectfully and to working closely with their representatives throughout this transition. Actually having a heart, Indianapolis Mayor Joe Hogsett (D) issued his own statement regarding the devastating blow to the local economy: A job lost in any part of our community affects us all, and I believe these are the times we must come together as one city to lift up our neighbors. That is why this afternoon I will issue and Executive Order to create a task force that will convene local, state, and federal resources and direct every tool at our disposal toward supporting these workers in the days ahead. You can actually witness and listen to Carrier tell their employees that they will soon be out of work in this video below. The gasps are audible and the anger is palpable, justifiably so. You can hear the company try to explain themselves to their employees. And unfortunately, due to the rotten discourse created by the likes of people like Donald Trump, you can hear one employee blame Mexicans. To add insult to injury, Carrier simply states: This is simply a business decision. Watch here:.&lt;/span&gt;(function(d, s, id) {  var js, <span class=\"mceItemHidden\" data-mce-bogus=\"1\"><span class=\"hiddenSpellError\" pre=\"\" data-mce-bogus=\"1\">fjs</span></span> = d.getElementsByTagName(s)[0];  if (d.getElementById(id)) return;  js = d.createElement(s); js.id = id;  js.src = \"//connect.facebook.net/en_US/sdk.js#xfbml=1&amp;version=v2.3\";  <span class=\"hiddenSpellError\" pre=\"\" data-mce-bogus=\"1\">fjs</span>.parentNode.insertBefore(js, fjs);}(document, 'script', '<span class=\"hiddenSpellError\" pre=\"\" data-mce-bogus=\"1\">facebook-jssdk</span>')); // ]]&gt;Carrier indianapolis plant is closing 2017Posted by LaKeisha Austin on Wednesday, February 10, 2016Video/Featured image from Facebook\n"
     ]
    }
   ],
   "source": [
    "# Example below\n",
    "print(final_df2.iloc[3245, 0])"
   ]
  },
  {
   "cell_type": "code",
   "execution_count": 27,
   "metadata": {},
   "outputs": [
    {
     "name": "stdout",
     "output_type": "stream",
     "text": [
      "Some companies definitely prefer increased profit over principle and, clearly, patriotism. Yet another U.S. company, this time Carrier, decided that they would be relocating their Indianapolis, IN, plant to Monterrey, Mexico. This relocation will, in turn, put 2,100 people out of work come 2017.The company, of course, in a state-run by a supposed business friendly Republican, Gov. Mike Pence, is blaming regulations and the high cost to run business here at home. In a statement put out by HVAC Systems and Services North America president Chris Nelson: This move is intended to address the challenges we continue to face in a rapidly changing HVAC industry, with the continued migration of the HVAC industry to Mexico, including our suppliers and competitors, and ongoing cost and pricing pressures driven, in part, by new regulatory requirements, Relocating our operations to a region where we have existing infrastructure and a strong supplier base will allow us to operate more cost effectively so that we can continue to produce high-quality HVAC products that are competitively positioned while continuing to meet customer needs. Nelson, trying to have a heart, but failing miserably, also said: This decision is difficult and we recognize the impact on employees, their families and the community. We are committed to ensuring that our employees are treated respectfully and to working closely with their representatives throughout this transition. Actually having a heart, Indianapolis Mayor Joe Hogsett (D) issued his own statement regarding the devastating blow to the local economy: A job lost in any part of our community affects us all, and I believe these are the times we must come together as one city to lift up our neighbors. That is why this afternoon I will issue and Executive Order to create a task force that will convene local, state, and federal resources and direct every tool at our disposal toward supporting these workers in the days ahead. You can actually witness and listen to Carrier tell their employees that they will soon be out of work in this video below. The gasps are audible and the anger is palpable, justifiably so. You can hear the company try to explain themselves to their employees. And unfortunately, due to the rotten discourse created by the likes of people like Donald Trump, you can hear one employee blame Mexicans. To add insult to injury, Carrier simply states: This is simply a business decision. Watch here:..Carrier indianapolis plant is closing 2017Posted by LaKeisha Austin on Wednesday, February 10, 2016Video/Featured image from Facebook\n"
     ]
    }
   ],
   "source": [
    "# They start with &lt and end with &gt;\n",
    "# I used the greedy search/substitution of the text\n",
    "final_df2['text'] = final_df2['text'].apply(lambda x : re.sub(r'&lt.+&gt;', '.', x))\n",
    "# check  the same new's body\n",
    "print(final_df2.iloc[3245, 0])"
   ]
  },
  {
   "cell_type": "markdown",
   "metadata": {},
   "source": [
    "### C) Removal of cross site scripting: from .</ < to &gt"
   ]
  },
  {
   "cell_type": "code",
   "execution_count": 28,
   "metadata": {},
   "outputs": [
    {
     "name": "stdout",
     "output_type": "stream",
     "text": [
      "Donald Rumsfeld is in full damage control mode after a declassified memo from 2002 making the rounds revealed that he lied about Iraq s  WMDs.  Like anyone desperate to sway public opinion and keep himself out of jail, Rumsfeld is giving interviews to tell  his side.  Why he decided to go The Late Show with Stephen Colbert is unclear. Colbert is a screaming liberal, very smart and very well-informed. Perhaps Rumsfeld thought he could outmaneuver the comedian? Maybe he thought Colbert would go easy on him? Maybe Rumsfeld is suffering from dementia?Needless to say, the interview did not go well for Rumsfeld:The talk show host said this showed Bush administration officials believed there were weapons of mass destruction   but they had no hard evidence of their existence. I believe that sincerely   I don t think anybody made up the belief that there were weapons of mass destruction,  Colbert said, as Rumsfeld insisted those beliefs were sincere.  That is cynicism beyond what I would ever want to think of my government. I believe that everybody believed that they were there, but there was no hard proof that they were there,  he continued.  And yet it was presented to the American people as if there was. So there was an unknown known for the American people. It was known that there was not hard evidence, but we were presented a partial picture   and that s the unknown known that we were denied. Do you think that was the right thing to do? In this, Colbert is far nicer than I would have been. We already know that Bush and his neo-con administration wanted an excuse to invade Iraq. In the immediate aftermath of 9/11, Bush demanded that the intelligence community  find  a connection between Iraq and the attacks. When they couldn t find a connection, one was manufactured for the sole purpose of selling the American people on the war. In this  known known  context, it takes very little to imagine Bush, Cheney and Rumsfeld fabricating their  belief  in WMDs from whole cloth.But the best moment came when Colbert got Rumsfeld to admit, out loud, that the utter certainty about WMDs that we were sold was, in fact, total bullshit: Were there things that the administration or you knew that we didn t learn about out of the best possible intentions   which is, there were things that would undermine the case for a war you thought was necessary to save the United States,  Colbert said.At last, Rumsfeld delivered a straight answer. The president had available to him intelligence from all elements of the government, and the National Security Council members had that information,  Rumsfeld said.  It was all shared, it was all supplied, and it s never certain  if it were a fact, it wouldn t be called intelligence. Translation into non-weasel speak: We lied when we said we  knew  for a fact that the WMDs existed.If you ll recall, the made up connection to 9/11 and WMDs were the entire basis for the Iraq War and Rumsfeld just admitted they lied about them.For the revisionists out there, a quick history lesson. Rumsfeld didn t say he  thought  Iraq had WMDs. Or that we were pretty sure or even very confident. He didn t equivocate in the slightest. He said we knew where they were. STEPHANOPOULOS: And is it curious to you that given how much control U.S. and coalition forces now have in the country, they haven t found any weapons of mass destruction?SEC. RUMSFELD:  We know where they are. They re in the area around Tikrit and Baghdad and east, west, south and north somewhat.-ABC s This Week, 3/30/03If the American people had been told that our intelligence on WMDs was as shaky as it actually was, no one but the most bloodthirsty among us would have supported it. Americans are more than happy to bomb people that attack us or a friend, but preemptive war is not, and has never been, a part of our DNA. Rumsfeld and his co-conspirators knew this so they lied through their teeth. It took a comedian to finally get one of the blood-soaked architects of America s worst war since Vietnam to admit it.Bravo, Mr. Colbert! Bravo!Here s the amazing video:Featured image via screencap..</b></e></a> // ]]&gt;\n"
     ]
    }
   ],
   "source": [
    "# Example below\n",
    "print(final_df2.iloc[2512, 0])"
   ]
  },
  {
   "cell_type": "code",
   "execution_count": 29,
   "metadata": {},
   "outputs": [
    {
     "name": "stdout",
     "output_type": "stream",
     "text": [
      "Donald Rumsfeld is in full damage control mode after a declassified memo from 2002 making the rounds revealed that he lied about Iraq s  WMDs.  Like anyone desperate to sway public opinion and keep himself out of jail, Rumsfeld is giving interviews to tell  his side.  Why he decided to go The Late Show with Stephen Colbert is unclear. Colbert is a screaming liberal, very smart and very well-informed. Perhaps Rumsfeld thought he could outmaneuver the comedian? Maybe he thought Colbert would go easy on him? Maybe Rumsfeld is suffering from dementia?Needless to say, the interview did not go well for Rumsfeld:The talk show host said this showed Bush administration officials believed there were weapons of mass destruction   but they had no hard evidence of their existence. I believe that sincerely   I don t think anybody made up the belief that there were weapons of mass destruction,  Colbert said, as Rumsfeld insisted those beliefs were sincere.  That is cynicism beyond what I would ever want to think of my government. I believe that everybody believed that they were there, but there was no hard proof that they were there,  he continued.  And yet it was presented to the American people as if there was. So there was an unknown known for the American people. It was known that there was not hard evidence, but we were presented a partial picture   and that s the unknown known that we were denied. Do you think that was the right thing to do? In this, Colbert is far nicer than I would have been. We already know that Bush and his neo-con administration wanted an excuse to invade Iraq. In the immediate aftermath of 9/11, Bush demanded that the intelligence community  find  a connection between Iraq and the attacks. When they couldn t find a connection, one was manufactured for the sole purpose of selling the American people on the war. In this  known known  context, it takes very little to imagine Bush, Cheney and Rumsfeld fabricating their  belief  in WMDs from whole cloth.But the best moment came when Colbert got Rumsfeld to admit, out loud, that the utter certainty about WMDs that we were sold was, in fact, total bullshit: Were there things that the administration or you knew that we didn t learn about out of the best possible intentions   which is, there were things that would undermine the case for a war you thought was necessary to save the United States,  Colbert said.At last, Rumsfeld delivered a straight answer. The president had available to him intelligence from all elements of the government, and the National Security Council members had that information,  Rumsfeld said.  It was all shared, it was all supplied, and it s never certain  if it were a fact, it wouldn t be called intelligence. Translation into non-weasel speak: We lied when we said we  knew  for a fact that the WMDs existed.If you ll recall, the made up connection to 9/11 and WMDs were the entire basis for the Iraq War and Rumsfeld just admitted they lied about them.For the revisionists out there, a quick history lesson. Rumsfeld didn t say he  thought  Iraq had WMDs. Or that we were pretty sure or even very confident. He didn t equivocate in the slightest. He said we knew where they were. STEPHANOPOULOS: And is it curious to you that given how much control U.S. and coalition forces now have in the country, they haven t found any weapons of mass destruction?SEC. RUMSFELD:  We know where they are. They re in the area around Tikrit and Baghdad and east, west, south and north somewhat.-ABC s This Week, 3/30/03If the American people had been told that our intelligence on WMDs was as shaky as it actually was, no one but the most bloodthirsty among us would have supported it. Americans are more than happy to bomb people that attack us or a friend, but preemptive war is not, and has never been, a part of our DNA. Rumsfeld and his co-conspirators knew this so they lied through their teeth. It took a comedian to finally get one of the blood-soaked architects of America s worst war since Vietnam to admit it.Bravo, Mr. Colbert! Bravo!Here s the amazing video:Featured image via screencap..\n"
     ]
    }
   ],
   "source": [
    "# They start with .< and end with &gt;\n",
    "# I used the greedy search/substitution of the text\n",
    "final_df2['text'] = final_df2['text'].apply(lambda x : re.sub(r'\\.\\<.+&gt;', '.', x))\n",
    "# check  the same new's body\n",
    "print(final_df2.iloc[2512, 0])"
   ]
  },
  {
   "cell_type": "markdown",
   "metadata": {},
   "source": [
    "### D) Removal of cross site scripting: from // to ]]>, non-greedy"
   ]
  },
  {
   "cell_type": "code",
   "execution_count": 30,
   "metadata": {},
   "outputs": [
    {
     "name": "stdout",
     "output_type": "stream",
     "text": [
      "High school kids out of control? Noooo! We ve been reporting of the huge groups of high school kids getting violent at malls and other places in towns across America. Basically they re organized riots There were reports of an organized riot, called  a purge,  to be carried out by students from three Baltimore high schools in the name of Freddie Gray and unrest over police brutality.// <![CDATA[ var p = new anv_pl_def(); p.config = {}; p.config.width = 640; p.config.height = 360; p.loadVideoExpressV3('eyJ1cGxvYWRfaWQiOiJleHByZXNzLTE0MzAxNjg0ODc4OTQiLCJ2aWRlb190eXBlIjoiMSIsInNyY19pbWFnZV91cmwiOiJodHRwOi8vbWVkaWEyLmFiYzJuZXdzLmNvbS9waG90by8yMDE1LzA0LzI3LzE2eDkvTW9yZV92aW9sZW5jZV9pbl90aGVfc3RyZWV0c19vZl9CYWx0aW1vcl8yODc0NTgwMDAxXzE3NDE3Nzc0X3ZlcjEuMF82NDBfNDgwLmpwZyIsImRlZl90aXRsZSI6Ik1vcmUgdmlvbGVuY2UgaW4gdGhlIHN0cmVldHMgb2YgQmFsdGltb3JlIGJ5IE1vbmRhd21pbiBNYWxsIiwidGl0bGUiOiJNb3JlIHZpb2xlbmNlIGluIHRoZSBzdHJlZXRzIG9mIEJhbHRpbW9yZSBieSBNb25kYXdtaW4gTWFsbCIsImRlZl9kZWNzcmlwdGlvbiI6IiIsInB1Ymxpc2hlZF91cmxzIjpbeyJmb3JtYXQiOiJtcDQ7IiwiZW1iZWRfdXJsIjoiaHR0cDovL21lZGlhMi5hYmMybmV3cy5jb20vdmlkZW8vdmlkZW9fc3R1ZGlvLzIwMTUvMDQvMjcvTW9yZV92aW9sZW5jZV9pbl90aGVfc3RyZWV0c19vZl9CYWx0aW1vcl8yODc0NTgubXA0IiwicHJvdG9jb2wiOiJodHRwOiIsImNkbl9uYW1lIjoiQWthbWFpIiwia2JwcyI6NTAwfV0sImNhcHRpb25zIjpbeyJsYW5ndWFnZSI6ImVuIiwiZm9ybWF0IjoiREZYUCIsInVybCI6Imh0dHA6Ly9tZWRpYTIuYWJjMm5ld3MuY29tL3ZpZGVvL3ZpZGVvX3N0dWRpby8yMDE1LzA0LzI3L2NhcHRpb25zL01vcmVfdmlvbGVuY2VfaW5fdGhlX3N0cmVldHNfb2ZfQmFsdGltb3JfMjg3NDU4MDAwMC5kZnhwIn1dLCJ0c19wdWJsaXNoZWQiOiIyMDE1XzA0XzI3In0=|1000011|SPS'); // ]]>At least seven police officers were injured. At least one police officer suffered a broken bone. Another officer was knocked unconscious.Read more: abc2news\n"
     ]
    }
   ],
   "source": [
    "# Example below\n",
    "print(final_df2.iloc[133, 0])"
   ]
  },
  {
   "cell_type": "code",
   "execution_count": 31,
   "metadata": {},
   "outputs": [
    {
     "name": "stdout",
     "output_type": "stream",
     "text": [
      "High school kids out of control? Noooo! We ve been reporting of the huge groups of high school kids getting violent at malls and other places in towns across America. Basically they re organized riots There were reports of an organized riot, called  a purge,  to be carried out by students from three Baltimore high schools in the name of Freddie Gray and unrest over police brutality..At least seven police officers were injured. At least one police officer suffered a broken bone. Another officer was knocked unconscious.Read more: abc2news\n"
     ]
    }
   ],
   "source": [
    "# They start with // and end with ]]>\n",
    "# I used the greedy search/substitution of the text\n",
    "final_df2['text'] = final_df2['text'].apply(lambda x : re.sub('// \\<.*?]]>', '.', x))\n",
    "# check  the same text\n",
    "print(final_df2.iloc[133, 0])"
   ]
  },
  {
   "cell_type": "markdown",
   "metadata": {},
   "source": [
    "### E) Removal of cross site scripting: from < to >, non-greedy"
   ]
  },
  {
   "cell_type": "code",
   "execution_count": 32,
   "metadata": {},
   "outputs": [
    {
     "name": "stdout",
     "output_type": "stream",
     "text": [
      "(Reuters) - Republican Donald Trump trails Democrat Hillary Clinton by 10 points in the 2016 presidential campaign, according to a poll released on Tuesday, showing little change from a week ago and suggesting his comments about a Mexican-American judge had yet to affect his standing in the race. The latest Reuters/Ipsos poll came after several days in which Trump faced sharp criticism over his insistence that a federal judge who was born in Indiana to Mexican parents was biased in a case involving the celebrity billionaire. But the fallout from Trump’s comments appeared to have done little to help Clinton build her lead over the presumptive Republican nominee.   The online survey showed that 44.3 percent of likely voters said they would vote for Clinton, compared with 34.7 percent who would support Trump. A further 20.9 percent said they would not vote for either candidate. The results were little changed from last week’s survey. The poll was conducted from Friday to Tuesday, starting shortly after Trump’s first comments about U.S. District Judge Gonzalo Curiel, who is overseeing fraud lawsuits against Trump University, the New York businessman’s defunct real estate school. Trump has suggested that Curiel’s heritage is influencing the judge’s opinion about the case because of Trump’s campaign rhetoric about illegal immigration. U.S. House of Representatives Speaker Paul Ryan called Trump’s comments textbook racism on Tuesday, while Senate Republican leader Mitch McConnell said Trump should stop attacking minority groups. Bowing to pressure from fellow Republicans, Trump said on Tuesday he would no longer talk about the judge, adding that his previous remarks about Curiel had been misconstrued. Other events, including news that Clinton had secured enough  delegates and superdelegates to become the first female presidential candidate of a major U.S. political party, occurred toward the end of the poll. The poll included 1,261 respondents and had a credibility interval of 3.2 percentage points. See the poll results in Reuters' Polling Explorer. [polling.reuters.com/#poll/TM651Y15_13/filters/LIKELY:1/dates/20160401-20160607/type/day] For most of the year, Clinton has maintained an edge over Trump in the Reuters/Ipsos poll of likely voters. That edge briefly disappeared in May after Trump’s remaining rivals for the Republican nomination dropped out and party leaders started to line up behind his campaign.  Trump’s level of support has since eroded as he sparred with his party’s leadership and continued to be dogged with questions about Trump University. The Reuters/Ipsos poll differs from others that are often days removed from when their data was collected. As a result, the Reuters/Ipsos poll often detects shifts in opinion well ahead of other surveys.  <^^^^^^^^^^^^^^^^^^^^^^^^^^^^^^^^^^^^^^^^^^^^^^^^^^^^^^^^^^^ Polling Explorer (Clinton versus Trump) polling.reuters.com/#poll/TM651Y15_13/filters/LIKELY:1/dates/20160401-20160607/type/day ^^^^^^^^^^^^^^^^^^^^^^^^^^^^^^^^^^^^^^^^^^^^^^^^^^^^^^^^^^^>\n"
     ]
    }
   ],
   "source": [
    "# Example below\n",
    "print(final_df2.iloc[8106, 0])"
   ]
  },
  {
   "cell_type": "code",
   "execution_count": 33,
   "metadata": {},
   "outputs": [
    {
     "name": "stdout",
     "output_type": "stream",
     "text": [
      "(Reuters) - Republican Donald Trump trails Democrat Hillary Clinton by 10 points in the 2016 presidential campaign, according to a poll released on Tuesday, showing little change from a week ago and suggesting his comments about a Mexican-American judge had yet to affect his standing in the race. The latest Reuters/Ipsos poll came after several days in which Trump faced sharp criticism over his insistence that a federal judge who was born in Indiana to Mexican parents was biased in a case involving the celebrity billionaire. But the fallout from Trump’s comments appeared to have done little to help Clinton build her lead over the presumptive Republican nominee.   The online survey showed that 44.3 percent of likely voters said they would vote for Clinton, compared with 34.7 percent who would support Trump. A further 20.9 percent said they would not vote for either candidate. The results were little changed from last week’s survey. The poll was conducted from Friday to Tuesday, starting shortly after Trump’s first comments about U.S. District Judge Gonzalo Curiel, who is overseeing fraud lawsuits against Trump University, the New York businessman’s defunct real estate school. Trump has suggested that Curiel’s heritage is influencing the judge’s opinion about the case because of Trump’s campaign rhetoric about illegal immigration. U.S. House of Representatives Speaker Paul Ryan called Trump’s comments textbook racism on Tuesday, while Senate Republican leader Mitch McConnell said Trump should stop attacking minority groups. Bowing to pressure from fellow Republicans, Trump said on Tuesday he would no longer talk about the judge, adding that his previous remarks about Curiel had been misconstrued. Other events, including news that Clinton had secured enough  delegates and superdelegates to become the first female presidential candidate of a major U.S. political party, occurred toward the end of the poll. The poll included 1,261 respondents and had a credibility interval of 3.2 percentage points. See the poll results in Reuters' Polling Explorer. [polling.reuters.com/#poll/TM651Y15_13/filters/LIKELY:1/dates/20160401-20160607/type/day] For most of the year, Clinton has maintained an edge over Trump in the Reuters/Ipsos poll of likely voters. That edge briefly disappeared in May after Trump’s remaining rivals for the Republican nomination dropped out and party leaders started to line up behind his campaign.  Trump’s level of support has since eroded as he sparred with his party’s leadership and continued to be dogged with questions about Trump University. The Reuters/Ipsos poll differs from others that are often days removed from when their data was collected. As a result, the Reuters/Ipsos poll often detects shifts in opinion well ahead of other surveys.   \n"
     ]
    }
   ],
   "source": [
    "# They start with < and end with >\n",
    "# getting rid of < .....> \n",
    "final_df2['text'] = final_df2['text'].apply(lambda x : re.sub('<.*?>', ' ',x))\n",
    "# check  the same text\n",
    "print(final_df2.iloc[8106, 0])"
   ]
  },
  {
   "cell_type": "markdown",
   "metadata": {},
   "source": [
    "### F) Removal of cross site scripting: from [polling to ] "
   ]
  },
  {
   "cell_type": "code",
   "execution_count": 34,
   "metadata": {},
   "outputs": [
    {
     "name": "stdout",
     "output_type": "stream",
     "text": [
      "(Reuters) - Republican Donald Trump trails Democrat Hillary Clinton by 10 points in the 2016 presidential campaign, according to a poll released on Tuesday, showing little change from a week ago and suggesting his comments about a Mexican-American judge had yet to affect his standing in the race. The latest Reuters/Ipsos poll came after several days in which Trump faced sharp criticism over his insistence that a federal judge who was born in Indiana to Mexican parents was biased in a case involving the celebrity billionaire. But the fallout from Trump’s comments appeared to have done little to help Clinton build her lead over the presumptive Republican nominee.   The online survey showed that 44.3 percent of likely voters said they would vote for Clinton, compared with 34.7 percent who would support Trump. A further 20.9 percent said they would not vote for either candidate. The results were little changed from last week’s survey. The poll was conducted from Friday to Tuesday, starting shortly after Trump’s first comments about U.S. District Judge Gonzalo Curiel, who is overseeing fraud lawsuits against Trump University, the New York businessman’s defunct real estate school. Trump has suggested that Curiel’s heritage is influencing the judge’s opinion about the case because of Trump’s campaign rhetoric about illegal immigration. U.S. House of Representatives Speaker Paul Ryan called Trump’s comments textbook racism on Tuesday, while Senate Republican leader Mitch McConnell said Trump should stop attacking minority groups. Bowing to pressure from fellow Republicans, Trump said on Tuesday he would no longer talk about the judge, adding that his previous remarks about Curiel had been misconstrued. Other events, including news that Clinton had secured enough  delegates and superdelegates to become the first female presidential candidate of a major U.S. political party, occurred toward the end of the poll. The poll included 1,261 respondents and had a credibility interval of 3.2 percentage points. See the poll results in Reuters' Polling Explorer. [polling.reuters.com/#poll/TM651Y15_13/filters/LIKELY:1/dates/20160401-20160607/type/day] For most of the year, Clinton has maintained an edge over Trump in the Reuters/Ipsos poll of likely voters. That edge briefly disappeared in May after Trump’s remaining rivals for the Republican nomination dropped out and party leaders started to line up behind his campaign.  Trump’s level of support has since eroded as he sparred with his party’s leadership and continued to be dogged with questions about Trump University. The Reuters/Ipsos poll differs from others that are often days removed from when their data was collected. As a result, the Reuters/Ipsos poll often detects shifts in opinion well ahead of other surveys.   \n"
     ]
    }
   ],
   "source": [
    "# Example below\n",
    "print(final_df2.iloc[8106, 0])"
   ]
  },
  {
   "cell_type": "code",
   "execution_count": 35,
   "metadata": {},
   "outputs": [
    {
     "name": "stdout",
     "output_type": "stream",
     "text": [
      "(Reuters) - Republican Donald Trump trails Democrat Hillary Clinton by 10 points in the 2016 presidential campaign, according to a poll released on Tuesday, showing little change from a week ago and suggesting his comments about a Mexican-American judge had yet to affect his standing in the race. The latest Reuters/Ipsos poll came after several days in which Trump faced sharp criticism over his insistence that a federal judge who was born in Indiana to Mexican parents was biased in a case involving the celebrity billionaire. But the fallout from Trump’s comments appeared to have done little to help Clinton build her lead over the presumptive Republican nominee.   The online survey showed that 44.3 percent of likely voters said they would vote for Clinton, compared with 34.7 percent who would support Trump. A further 20.9 percent said they would not vote for either candidate. The results were little changed from last week’s survey. The poll was conducted from Friday to Tuesday, starting shortly after Trump’s first comments about U.S. District Judge Gonzalo Curiel, who is overseeing fraud lawsuits against Trump University, the New York businessman’s defunct real estate school. Trump has suggested that Curiel’s heritage is influencing the judge’s opinion about the case because of Trump’s campaign rhetoric about illegal immigration. U.S. House of Representatives Speaker Paul Ryan called Trump’s comments textbook racism on Tuesday, while Senate Republican leader Mitch McConnell said Trump should stop attacking minority groups. Bowing to pressure from fellow Republicans, Trump said on Tuesday he would no longer talk about the judge, adding that his previous remarks about Curiel had been misconstrued. Other events, including news that Clinton had secured enough  delegates and superdelegates to become the first female presidential candidate of a major U.S. political party, occurred toward the end of the poll. The poll included 1,261 respondents and had a credibility interval of 3.2 percentage points. See the poll results in Reuters' Polling Explorer.   For most of the year, Clinton has maintained an edge over Trump in the Reuters/Ipsos poll of likely voters. That edge briefly disappeared in May after Trump’s remaining rivals for the Republican nomination dropped out and party leaders started to line up behind his campaign.  Trump’s level of support has since eroded as he sparred with his party’s leadership and continued to be dogged with questions about Trump University. The Reuters/Ipsos poll differs from others that are often days removed from when their data was collected. As a result, the Reuters/Ipsos poll often detects shifts in opinion well ahead of other surveys.   \n"
     ]
    }
   ],
   "source": [
    "# They start with [polling and end with ]\n",
    "# getting rid of < .....> \n",
    "final_df2['text'] = final_df2['text'].apply(lambda x : re.sub('\\[polling.*\\]', ' ', x))\n",
    "# check  the same text\n",
    "print(final_df2.iloc[8106, 0])"
   ]
  },
  {
   "cell_type": "markdown",
   "metadata": {},
   "source": [
    "### F) Removal of cross site scripting: from (function  ..... ));, non-greedy"
   ]
  },
  {
   "cell_type": "code",
   "execution_count": 36,
   "metadata": {
    "scrolled": false
   },
   "outputs": [
    {
     "name": "stdout",
     "output_type": "stream",
     "text": [
      "On the sixth year anniversary of the Supreme Court s Citizens United v. FEC decision that granted billionaires, millionaires, and special interests the ability to essentially buy U.S. elections by donating virtually unlimited amounts of money to superPACs, Elizabeth Warren wanted to make a statement, and it wasn t pretty. She not only blasted the Supreme Court for the decision, but the entire U.S. Congress, as well. This is what we ve come to expect and love Senator Warren for, and she didn t disappoint. It was brutal, to say the least.Here is what she had to say, in part: Six years ago today the Supreme Court overturned a century of established law. And, in doing so, unleashed a secret flow of corporate money into our political system. The Supreme Court created a big problem, but that does not mean anyone with any integrity must just roll over and play dead. No, it is time to fight back.This Congress doesn t lack for workable ideas for how to root out the influence of money in politics, this Congress just lacks a spine to do it! (function(d, s, id) {  var js, fjs = d.getElementsByTagName(s)[0];  if (d.getElementById(id)) return;  js = d.createElement(s); js.id = id;  js.src = \"//connect.facebook.net/en_US/sdk.js#xfbml=1&version=v2.3\";  fjs.parentNode.insertBefore(js, fjs);}(document, 'script', 'facebook-jssdk'));Senator Elizabeth Warren goes Bernie Sanders on Congress.U.S. Senator Elizabeth Warren just opened a can of whoop ass on the floor of the Senate today.Listen to her scathing remarks as she calls out Congress, the Supreme Court and most of Washington D.C on campaign finance..Notice how she ends with a comment about the Presidential Elections. Warren does have the courage to stand up to the super wealthy. Would you be excited if Senator Warren was Bernie Sanders choice for Vice President?Posted by Viva Bernie 2016 on Thursday, January 21, 2016She called on Congress to pass three measures to end this none sense once and for all:Pass The Fair Elections Now Act. This will create public funding for congressional elections matching the contributions of small donors so working families would have a louder voice and begin to compete with the rich and powerful. This is a bi-partisan solution, at least outside of Washington. According to a recent poll, Democrats and Republicans both agreed strongly with the idea of citizen-funded elections. 72 percent of Democrats and 62 percent of Republicans said YES. This bill was first introduced by Senator Richard Durbin (D-IL) back in 2014. As you may very well know by now, no actions have been taken on it. Take a look, HERE.Pass the Disclose Act. (This will) force super PACs out of the shadow and make them tell us where the money comes from. 91 percent of Democrats and 91 percent of Republicans agree they need to disclose the source of their funding. This was re-introduced by Rep. Chris Van Hollen (MD-D) in January 2015 and referred to the Subcommittee on the Constitution and Civil Justice back on 2/5/2012. Since then, as you might be able to guess, nothing has been done with it. Take a look, HERE.Pass the Shareholder Protection Act. To force companies to tell their shareholders how much money they re giving to politicans and which politicians they re giving it to. This is the shareholders money and they have a right to know how it s spent. And, if they don t like how the money is being spent, they can put somebody else in charge. This bill was re-introduced, as well, by Senator Robert Menendez (D-NJ) also in January 2015. It was read only twice where it has since collected nothing but dust. Take a look, HERE.She really ended up giving seven ideas, including a constitutional amendment to solve the problem, but summed up the majority of her comments on those first three. Senator Warren decided to speak up on the anniversary of Citizens United because the majority of Congress just doesn t seem to care, and for that we thank her. If anything like this is ever going to get passed, the people will need to DEMAND it.Featured image via screen capture\n"
     ]
    }
   ],
   "source": [
    "# Example below\n",
    "print(final_df2.iloc[2432, 0])"
   ]
  },
  {
   "cell_type": "code",
   "execution_count": 37,
   "metadata": {
    "scrolled": false
   },
   "outputs": [
    {
     "name": "stdout",
     "output_type": "stream",
     "text": [
      "On the sixth year anniversary of the Supreme Court s Citizens United v. FEC decision that granted billionaires, millionaires, and special interests the ability to essentially buy U.S. elections by donating virtually unlimited amounts of money to superPACs, Elizabeth Warren wanted to make a statement, and it wasn t pretty. She not only blasted the Supreme Court for the decision, but the entire U.S. Congress, as well. This is what we ve come to expect and love Senator Warren for, and she didn t disappoint. It was brutal, to say the least.Here is what she had to say, in part: Six years ago today the Supreme Court overturned a century of established law. And, in doing so, unleashed a secret flow of corporate money into our political system. The Supreme Court created a big problem, but that does not mean anyone with any integrity must just roll over and play dead. No, it is time to fight back.This Congress doesn t lack for workable ideas for how to root out the influence of money in politics, this Congress just lacks a spine to do it! .Senator Elizabeth Warren goes Bernie Sanders on Congress.U.S. Senator Elizabeth Warren just opened a can of whoop ass on the floor of the Senate today.Listen to her scathing remarks as she calls out Congress, the Supreme Court and most of Washington D.C on campaign finance..Notice how she ends with a comment about the Presidential Elections. Warren does have the courage to stand up to the super wealthy. Would you be excited if Senator Warren was Bernie Sanders choice for Vice President?Posted by Viva Bernie 2016 on Thursday, January 21, 2016She called on Congress to pass three measures to end this none sense once and for all:Pass The Fair Elections Now Act. This will create public funding for congressional elections matching the contributions of small donors so working families would have a louder voice and begin to compete with the rich and powerful. This is a bi-partisan solution, at least outside of Washington. According to a recent poll, Democrats and Republicans both agreed strongly with the idea of citizen-funded elections. 72 percent of Democrats and 62 percent of Republicans said YES. This bill was first introduced by Senator Richard Durbin (D-IL) back in 2014. As you may very well know by now, no actions have been taken on it. Take a look, HERE.Pass the Disclose Act. (This will) force super PACs out of the shadow and make them tell us where the money comes from. 91 percent of Democrats and 91 percent of Republicans agree they need to disclose the source of their funding. This was re-introduced by Rep. Chris Van Hollen (MD-D) in January 2015 and referred to the Subcommittee on the Constitution and Civil Justice back on 2/5/2012. Since then, as you might be able to guess, nothing has been done with it. Take a look, HERE.Pass the Shareholder Protection Act. To force companies to tell their shareholders how much money they re giving to politicans and which politicians they re giving it to. This is the shareholders money and they have a right to know how it s spent. And, if they don t like how the money is being spent, they can put somebody else in charge. This bill was re-introduced, as well, by Senator Robert Menendez (D-NJ) also in January 2015. It was read only twice where it has since collected nothing but dust. Take a look, HERE.She really ended up giving seven ideas, including a constitutional amendment to solve the problem, but summed up the majority of her comments on those first three. Senator Warren decided to speak up on the anniversary of Citizens United because the majority of Congress just doesn t seem to care, and for that we thank her. If anything like this is ever going to get passed, the people will need to DEMAND it.Featured image via screen capture\n"
     ]
    }
   ],
   "source": [
    "# They start with (function and end with ));\n",
    "# getting rid of (function  ..... )) \n",
    "final_df2['text'] = final_df2['text'].apply(lambda x : re.sub('\\(function.*?\\)\\);', '.',x))\n",
    "# check  the same text\n",
    "print(final_df2.iloc[2432, 0])"
   ]
  },
  {
   "cell_type": "markdown",
   "metadata": {},
   "source": [
    "### G) Dealing with bit.ly, tmsnrt, youtube, facebook and  twitter links.\n",
    "All the links mentioned above will be replaced with a 11-character tokens to smooth their analysis, tracking and removal (if necessary). \n"
   ]
  },
  {
   "cell_type": "code",
   "execution_count": 38,
   "metadata": {},
   "outputs": [],
   "source": [
    "# bit\\.ly links \n",
    "final_df2['text'] = final_df2['text'].apply(lambda x : re.sub('\\(bit\\.ly.{8}\\)', ' bitlyylinkk ', x))\n",
    "final_df2['text'] = final_df2['text'].apply(lambda x : re.sub('\\[bit\\.ly.{8}\\]', ' bitlyylinkk ', x))\n",
    "final_df2['text'] = final_df2['text'].apply(lambda x : re.sub('bit\\.ly.{8}', ' bitlyylinkk ', x))"
   ]
  },
  {
   "cell_type": "code",
   "execution_count": 39,
   "metadata": {},
   "outputs": [],
   "source": [
    "# tmsnrt links\n",
    "final_df2['text'] = final_df2['text'].apply(lambda x : re.sub('tmsnrt\\.rs/.{7}', 'tmsnrtlinnk', x))"
   ]
  },
  {
   "cell_type": "code",
   "execution_count": 40,
   "metadata": {},
   "outputs": [],
   "source": [
    "# Twitter links. \n",
    "# Some links will be fused with the starting work of the next sentence, so I inserted a space before and after\n",
    "final_df2['text'] = final_df2['text'].apply(lambda x : re.sub('https://t\\.co/\\S{10}', ' twitterlink ',x))\n",
    "final_df2['text'] = final_df2['text'].apply(lambda x : re.sub('https://twitter\\.com/.*?/status/\\S{14}', ' twitterlink ',x))\n",
    "final_df2['text'] = final_df2['text'].apply(lambda x: re.sub('pic\\.twitter\\.com/\\S{10}', ' twitterlink ',x))"
   ]
  },
  {
   "cell_type": "code",
   "execution_count": 41,
   "metadata": {},
   "outputs": [],
   "source": [
    "# youtube links. \n",
    "# Some links will be fused with the starting word of the next sentence, so I inserted a space before and after\n",
    "final_df2['text'] = final_df2['text'].apply(lambda x : re.sub('https://www\\.youtube\\.com/watch\\?time.{15,35}$', ' youtubelink ',x))\n",
    "final_df2['text'] = final_df2['text'].apply(lambda x : re.sub('https://www\\.youtube\\.com/watch\\?time.{15,45}The', ' youtubelink The ',x))\n",
    "final_df2['text'] = final_df2['text'].apply(lambda x : re.sub('https://www\\.youtube\\.com/watch\\?time.{15,45}SHE', ' youtubelink SHE',x))\n",
    "final_df2['text'] = final_df2['text'].apply(lambda x : re.sub('https://www\\.youtube\\.com/watch\\?time.{15,45}Featured', ' youtubelink Featured',x))\n",
    "final_df2['text'] = final_df2['text'].apply(lambda x : re.sub('https://www\\.youtube\\.com/watch\\?time.{25}', ' youtubelink ',x))\n",
    "final_df2['text'] = final_df2['text'].apply(lambda x : re.sub('https://youtu\\.be/\\S{11}', ' youtubelink ',x))\n",
    "final_df2['text'] = final_df2['text'].apply(lambda x : re.sub('https://www\\.youtube\\.com/watch\\S{14}', ' youtubelink ',x))  # changed from \\S{13} to \\S{14} 7-29 to fix link issue\n",
    "final_df2['text'] = final_df2['text'].apply(lambda x : re.sub('https://www\\.youtube\\.com/watch.{13}', ' youtubelink ',x))\n",
    "final_df2['text'] = final_df2['text'].apply(lambda x : re.sub(r'\\[.*youtubelink.{0,50}\\]', ' youtubelink ',x))"
   ]
  },
  {
   "cell_type": "code",
   "execution_count": 42,
   "metadata": {},
   "outputs": [],
   "source": [
    "# Facebook links.  \n",
    "final_df2['text'] = final_df2['text'].apply(lambda x : re.sub('https://www\\.face.*?theater', ' facbooolink ',x))\n",
    "final_df2['text']= final_df2['text'].apply(lambda x : re.sub('https://www\\.fac.{60,120}apture', ' facbooolink ',x))\n",
    "final_df2['text']= final_df2['text'].apply(lambda x : re.sub('https://www\\.fac.{60,120}screenshot', ' facbooolink ',x))\n",
    "final_df2['text']= final_df2['text'].apply(lambda x : re.sub('https://www\\.fac.{60,120}US', ' facbooolink ',x))\n",
    "final_df2['text']= final_df2['text'].apply(lambda x : re.sub('https://www\\.fac.{60,120}Images\\)', ' facbooolink ',x))\n",
    "final_df2['text']= final_df2['text'].apply(lambda x : re.sub('https://www\\.fac.{60,120}Images', ' facbooolink ',x))\n",
    "final_df2['text']= final_df2['text'].apply(lambda x : re.sub('https://www\\.fac.{60,120}type=3', ' facbooolink ',x))\n",
    "final_df2['text']= final_df2['text'].apply(lambda x : re.sub('https://www\\.faceb.{45,80}f=nf', ' facbooolink ',x))\n",
    "final_df2['text']= final_df2['text'].apply(lambda x : re.sub('https://www\\.faceb.{60,120}6628568379', ' facbooolink ',x))\n",
    "final_df2['text']= final_df2['text'].apply(lambda x : re.sub('https://www\\.faceb.{45,120}Page=1', ' facbooolink ',x))\n",
    "final_df2['text']= final_df2['text'].apply(lambda x : re.sub('https://www\\.faceb.{45,120}witter', ' facbooolink ',x))\n",
    "final_df2['text']= final_df2['text'].apply(lambda x : re.sub('https://www\\.faceb.{60,120}Flickr', ' facbooolink ',x))\n",
    "final_df2['text']= final_df2['text'].apply(lambda x : re.sub('https://www\\.faceb.{60,120}grab.{0,2}', ' facbooolink ',x))\n",
    "final_df2['text']= final_df2['text'].apply(lambda x : re.sub('https://www\\.facebook\\.com.*/.*/.*/[0-9\\:]{13,19}/', ' facbooolink ',x))\n",
    "final_df2['text']= final_df2['text'].apply(lambda x : re.sub('https://www\\.facebook\\.com.*/.*/.*/[0-9\\:]{13,19}', ' facbooolink ',x))\n",
    "final_df2['text']= final_df2['text'].apply(lambda x : re.sub('https://www\\.facebook\\.com\\S', ' facbooolink ',x))"
   ]
  },
  {
   "cell_type": "markdown",
   "metadata": {},
   "source": [
    "### F) Removing all the remaining links\n",
    "All the other links appeared very rarely in the text of the news and were removed.\n",
    "An example of these links is reported below"
   ]
  },
  {
   "cell_type": "code",
   "execution_count": 43,
   "metadata": {
    "scrolled": false
   },
   "outputs": [
    {
     "name": "stdout",
     "output_type": "stream",
     "text": [
      "Religious bigots continue their hateful rhetoric against transgender people at alarming rates, and now Anne Graham Lotz, daughter of hateful evangelical pastor Franklin Graham and sister to the equally hateful Billy Graham, has jumped into the fray as well. Her statements are especially outrageous; in fact, she has said that the reason the September 11, 2001 terrorist attacks on U.S. soil happened is because God is  upset that transgender people exist.Lotz appeared on a right-wing hate radio show run by Steve Deace to express her horrible opinions. She said to Deace: What I see in the nation of America right now, just the chaos on every level.There is silliness, there is craziness, there s the most illogical rulings. The one in North Carolina on HB2, which is to protect our children in bathrooms and locker rooms, has become something where the justice department is suing us for something that s just common sense.To me it s evidence that God has backed away. Here is a bit of audio of these statements, via Right Wing Watch:[soundcloud url= https://api.soundcloud.com/tracks/263809966  params= color=ff5500  width= 100%  height= 166  iframe= true  /]If you think that s bad, you ain t seen nothing yet. This nutty woman then went on to pretty much directly blame the advancement of transgender rights in the United States for terrorism. Lotz said: In our nation, one of the things we pray for is that some of this craziness would settle down  [but] our nation seems to be shaking its fist in God s face, we re abandoning God as a nation.What happens then is God abandons us and backs away, he he takes his favour and blessing away from us.[If we repent] I think he would begin to reveal the plots of terrorists before they are carried out, even the weather patterns he can control and protect us from violent storms.I think that s why God allows bad things to happen. I think that d why he would allow 9/11 to happen, or the dreadful attack in San Bernardino. To show us we need him. Here is more audio:[soundcloud url= https://api.soundcloud.com/tracks/263809967  params= color=ff5500  width= 100%  height= 166  iframe= true  /]So, in other words, this nutty woman actually believes that giving human being rights is the reason for terrorism. This rhetoric is beyond dangerous, especially considering how misunderstood transgender people are. This is straight up hate speech, and it should not be tolerated. It s people like this who are responsible for the huge uptick in violence against vulnerable groups of people.This woman does not deserve a platform for her hate. Hopefully, one day, she and others like her won t have one.Featured image via Tara Walton/Getty Images\n"
     ]
    }
   ],
   "source": [
    "print(final_df2.iloc[7178, 0])"
   ]
  },
  {
   "cell_type": "code",
   "execution_count": 44,
   "metadata": {},
   "outputs": [
    {
     "name": "stdout",
     "output_type": "stream",
     "text": [
      "Religious bigots continue their hateful rhetoric against transgender people at alarming rates, and now Anne Graham Lotz, daughter of hateful evangelical pastor Franklin Graham and sister to the equally hateful Billy Graham, has jumped into the fray as well. Her statements are especially outrageous; in fact, she has said that the reason the September 11, 2001 terrorist attacks on U.S. soil happened is because God is  upset that transgender people exist.Lotz appeared on a right-wing hate radio show run by Steve Deace to express her horrible opinions. She said to Deace: What I see in the nation of America right now, just the chaos on every level.There is silliness, there is craziness, there s the most illogical rulings. The one in North Carolina on HB2, which is to protect our children in bathrooms and locker rooms, has become something where the justice department is suing us for something that s just common sense.To me it s evidence that God has backed away. Here is a bit of audio of these statements, via Right Wing Watch: If you think that s bad, you ain t seen nothing yet. This nutty woman then went on to pretty much directly blame the advancement of transgender rights in the United States for terrorism. Lotz said: In our nation, one of the things we pray for is that some of this craziness would settle down  [but] our nation seems to be shaking its fist in God s face, we re abandoning God as a nation.What happens then is God abandons us and backs away, he he takes his favour and blessing away from us.[If we repent] I think he would begin to reveal the plots of terrorists before they are carried out, even the weather patterns he can control and protect us from violent storms.I think that s why God allows bad things to happen. I think that d why he would allow 9/11 to happen, or the dreadful attack in San Bernardino. To show us we need him. Here is more audio: So, in other words, this nutty woman actually believes that giving human being rights is the reason for terrorism. This rhetoric is beyond dangerous, especially considering how misunderstood transgender people are. This is straight up hate speech, and it should not be tolerated. It s people like this who are responsible for the huge uptick in violence against vulnerable groups of people.This woman does not deserve a platform for her hate. Hopefully, one day, she and others like her won t have one.Featured image via Tara Walton/Getty Images\n"
     ]
    }
   ],
   "source": [
    "final_df2['text'] = final_df2['text'].apply(lambda x : re.sub(r'\\[soundcloud.*?\\]', ' ',x))\n",
    "# check  the same text\n",
    "print(final_df2.iloc[7178, 0])"
   ]
  },
  {
   "cell_type": "code",
   "execution_count": 45,
   "metadata": {},
   "outputs": [],
   "source": [
    "# With the codes below every weblink (-like) was removed \n",
    "final_df2['text'] = final_df2['text'].apply(lambda x : re.sub(r'https://www.nytimes.*r=1', ' ',x))\n",
    "final_df2['text'] = final_df2['text'].apply(lambda x : re.sub('pic\\.twitter\\.com/.{10}', '',x))\n",
    "final_df2['text'] = final_df2['text'].apply(lambda x : re.sub('https.{70,100}debate', '',x))\n",
    "final_df2['text'] = final_df2['text'].apply(lambda x : re.sub('https.*pledge/', '.',x))\n",
    "final_df2['text'] = final_df2['text'].apply(lambda x : re.sub('https.*?dqV2', '.',x))\n",
    "final_df2['text'] = final_df2['text'].apply(lambda x : re.sub('https.*?-terrorists/', '.',x))\n",
    "final_df2['text'] = final_df2['text'].apply(lambda x : re.sub('https.*?-confetti', '.',x))\n",
    "final_df2['text'] = final_df2['text'].apply(lambda x : re.sub('https.{10,30}press', '.',x))\n",
    "final_df2['text'] = final_df2['text'].apply(lambda x : re.sub('https\\S+', '.',x))"
   ]
  },
  {
   "cell_type": "markdown",
   "metadata": {},
   "source": [
    "# Fixing all the apostrophes\n",
    "This step was done for a pure aesthetic reason: having all the apostrophes looking the same."
   ]
  },
  {
   "cell_type": "code",
   "execution_count": 46,
   "metadata": {},
   "outputs": [
    {
     "data": {
      "text/plain": [
       "886"
      ]
     },
     "execution_count": 46,
     "metadata": {},
     "output_type": "execute_result"
    }
   ],
   "source": [
    "# ‘ apostrophe counts\n",
    "final_df2['text'].str.contains(\"\\‘\").sum()"
   ]
  },
  {
   "cell_type": "code",
   "execution_count": 47,
   "metadata": {},
   "outputs": [
    {
     "data": {
      "text/plain": [
       "9880"
      ]
     },
     "execution_count": 47,
     "metadata": {},
     "output_type": "execute_result"
    }
   ],
   "source": [
    "# “ apostrophe counts\n",
    "final_df2['text'].str.contains(\"\\“\").sum()"
   ]
  },
  {
   "cell_type": "code",
   "execution_count": 48,
   "metadata": {},
   "outputs": [],
   "source": [
    "# Replacing \" “ ” ‘ ’ with '\n",
    "final_df2['title'] = final_df2['title'].apply(lambda stt: re.sub(r\"[\\\"\\“\\”\\‘\\’\\`\\´]\", \"\\'\", stt))\n",
    "final_df2['text'] = final_df2['text'].apply(lambda stt: re.sub(r\"[\\\"\\“\\”\\‘\\’\\`\\´]\", \"\\'\", stt))"
   ]
  },
  {
   "cell_type": "markdown",
   "metadata": {},
   "source": [
    "## Adding space after the dot\n",
    "### After several test with different tonizers, nltk was found to be the most reliable, but sometimes it does not count sentences if a dot is attached to a capital letter."
   ]
  },
  {
   "cell_type": "code",
   "execution_count": 49,
   "metadata": {},
   "outputs": [],
   "source": [
    "# After .\n",
    "final_df2['title'] = final_df2['title'].apply(lambda stt: re.sub(\"\\.\", \". \", stt))\n",
    "final_df2['text'] = final_df2['text'].apply(lambda stt: re.sub(\"\\.\", \". \", stt))\n",
    "# After !\n",
    "final_df2['title'] = final_df2['title'].apply(lambda stt: re.sub(\"!\", \"! \", stt))\n",
    "final_df2['text'] = final_df2['text'].apply(lambda stt: re.sub(\"!\", \"! \", stt))\n",
    "# After ?\n",
    "final_df2['title'] = final_df2['title'].apply(lambda stt: re.sub(\"\\?\", \"? \", stt))\n",
    "final_df2['text'] = final_df2['text'].apply(lambda stt: re.sub(\"\\?\", \"? \", stt))"
   ]
  },
  {
   "cell_type": "markdown",
   "metadata": {},
   "source": [
    "### Removing extra spaces. In the text of some news there are 10 empty spaces between two consecutive words. I decided  to remove them."
   ]
  },
  {
   "cell_type": "code",
   "execution_count": 50,
   "metadata": {},
   "outputs": [],
   "source": [
    "final_df2['title'] = final_df2['title'].apply(lambda stt: re.sub(\" {1,60}\", \" \", stt))\n",
    "final_df2['text'] = final_df2['text'].apply(lambda stt: re.sub(\" {1,60}\", \" \", stt))"
   ]
  },
  {
   "cell_type": "code",
   "execution_count": 51,
   "metadata": {
    "scrolled": true
   },
   "outputs": [
    {
     "name": "stdout",
     "output_type": "stream",
     "text": [
      "The National Rifle Association tells us that all we need to ensure our safety is a good guy with a gun a responsible gun owner who carries his weapon around with him, ready to leap into action at the drop of a hat and save the day when a bad guy with a gun causes trouble. Unfortunately, a good guy and bad guy with a gun look exactly the same until someone pulls out a weapon with nefarious intent. A Nevada man narrowly escaped an encounter with a good-guy-turned-bad-guy as he was riding his motorcycle with some friends along the highway. A man in a red pickup truck in a lane flipped a man who told KTNV he wishes to remain unidentified the bird, prompting the biker to confront him at a stop light. The man politely tapped on the window of the pickup truck in an effort to inquire as to what he did to enrage the men in the pickup truck. Unfortunately, there was no chance of diplomacy. As the passenger rolls down the window, he wells the driver Get that goddamn gun out, motherf*cker. The driver, of course, listens. The driver immediately points the gun at the motorcyclist and demands, Get the f*ck away from me. Asked why he flipped the motorcyclist off, the driver accuses a member of the group of wildly crossing through traffic something that is not visible on the video the motorcyclist uploaded to YouTube. You re all about to f*cking get shot, the passenger yells. Fortunately, no one was shot during the incident, and it is being investigated by the Henderson police. The motorcyclist says he regrets approaching the vehicle: No matter how big and bad you are or how much weight you lift, there s always somebody that s bigger and badder than you are that will put you in your place real quick. Unfortunately, in this situation, no one was bigger or badder. He encountered a small man whose own feelings of inadequacy caused him to react with threats of violence rather than words a small man who happened to have a gun. Watch the incident unfold here: youtubelink And a news report here:Featured image via screengrab\n"
     ]
    }
   ],
   "source": [
    "print(final_df2.iloc[2787, 0])"
   ]
  },
  {
   "cell_type": "markdown",
   "metadata": {},
   "source": [
    "## Counting Sentences using NLTK"
   ]
  },
  {
   "cell_type": "code",
   "execution_count": 52,
   "metadata": {},
   "outputs": [
    {
     "name": "stdout",
     "output_type": "stream",
     "text": [
      "                                                         text  \\\n",
      "date                                                            \n",
      "2015-03-31  The irony here isn t lost on us. Hillary is be...   \n",
      "2015-03-31  In case you missed it Sen. Harry Reid (R-NV), ...   \n",
      "2015-03-31  Nothing like political cronyism to make your s...   \n",
      "\n",
      "                                                        title  Real_Fake  \\\n",
      "date                                                                       \n",
      "2015-03-31  HILLARY RODHAM NIXON: A CANDIDATE WITH MORE BA...          1   \n",
      "2015-03-31  WATCH DIRTY HARRY REID ON HIS LIE ABOUT ROMNEY...          1   \n",
      "2015-03-31  OH NO! GUESS WHO FUNDED THE SHRINE TO TED KENNEDY          1   \n",
      "\n",
      "            Cat_Government News  Cat_Middle-east  Cat_News  Cat_US_News  \\\n",
      "date                                                                      \n",
      "2015-03-31                    0                0         0            0   \n",
      "2015-03-31                    0                0         0            0   \n",
      "2015-03-31                    0                0         0            0   \n",
      "\n",
      "            Cat_left-news  Cat_politics  Cat_politicsNews  Cat_worldnews  \\\n",
      "date                                                                       \n",
      "2015-03-31              1             1                 0              0   \n",
      "2015-03-31              1             1                 0              0   \n",
      "2015-03-31              0             1                 0              0   \n",
      "\n",
      "                                                    title_toc  \\\n",
      "date                                                            \n",
      "2015-03-31  [[HILLARY, RODHAM, NIXON, :, A, CANDIDATE, WIT...   \n",
      "2015-03-31  [[WATCH, DIRTY, HARRY, REID, ON, HIS, LIE, ABO...   \n",
      "2015-03-31  [[OH, NO, !], [GUESS, WHO, FUNDED, THE, SHRINE...   \n",
      "\n",
      "                                                     text_toc  sent_title  \\\n",
      "date                                                                        \n",
      "2015-03-31  [[The, irony, here, isn, t, lost, on, us, .], ...           1   \n",
      "2015-03-31  [[In, case, you, missed, it, Sen, ., Harry, Re...           1   \n",
      "2015-03-31  [[Nothing, like, political, cronyism, to, make...           2   \n",
      "\n",
      "            sent_text  \n",
      "date                   \n",
      "2015-03-31         17  \n",
      "2015-03-31          8  \n",
      "2015-03-31         19  \n"
     ]
    }
   ],
   "source": [
    "# I tried both spacy and nltk. Spacy counts 3 sententes in every title, which, considering that every title \n",
    "# is actually made by one single sentence, gives a 300% error. Nltk gets the number of sentences correct, but it fails \n",
    "# sometimens to recognize sentences boundaries such as:\n",
    "#... for slipperiness and'questionable fundraising.A strong primary challenge has provided...\"\"\n",
    "# which I fixed above by inserting white spaces after every '.'\n",
    "\n",
    "from nltk.tokenize import TweetTokenizer, sent_tokenize\n",
    "import nltk\n",
    "tokenizer_words = TweetTokenizer()\n",
    "\n",
    "final_df2['title_toc'] = final_df2['title'].apply(lambda x : [tokenizer_words.tokenize(t) for t in nltk.sent_tokenize(x)])\n",
    "final_df2['text_toc'] = final_df2['text'].apply(lambda x : [tokenizer_words.tokenize(t) for t in nltk.sent_tokenize(x)])\n",
    "# Sentence count len cols\n",
    "final_df2['sent_title'] = final_df2['title_toc'].str.len()\n",
    "final_df2['sent_text'] = final_df2['text_toc'].str.len()\n",
    "print(final_df2.head(3))\n",
    "#removing the tokenized treets (I just need to get an accurate count of the sentences)\n",
    "del final_df2['title_toc']\n",
    "del final_df2['text_toc']"
   ]
  },
  {
   "cell_type": "markdown",
   "metadata": {},
   "source": [
    "# Fixing vulgarities"
   ]
  },
  {
   "cell_type": "code",
   "execution_count": 53,
   "metadata": {},
   "outputs": [],
   "source": [
    "# Bad words everywhere... replaced them with some PC tokens\n",
    "final_df2['text'] = final_df2['text'].apply(lambda x: re.sub(' [nN]i{0,1}\\*.{0,4}[ars]?', ' nwordn', x))\n",
    "final_df2['text'] = final_df2['text'].apply(lambda x: re.sub(' [Ff]u{0,1}\\*\\S{0,8}[^ .,!?]', ' ffword', x))\n",
    "final_df2['text'] = final_df2['text'].apply(lambda x: re.sub('[Ff]\\*{1,3}k{0,1}', 'fuck', x))\n",
    "final_df2['text'] = final_df2['text'].apply(lambda x: re.sub(' [Dd]\\*\\S{0,8}[^ .,!?]', ' ddword', x))\n",
    "final_df2['text'] = final_df2['text'].apply(lambda x: re.sub(' [Bb]i{0,1}\\*\\S{0,5}[^ .,!?]', ' bitch', x))\n",
    "final_df2['text'] = final_df2['text'].apply(lambda x: re.sub(' [wW]h\\*\\S{0,5}[^ .,!?]', ' bitch', x))\n",
    "final_df2['text'] = final_df2['text'].apply(lambda x: re.sub(' [aA]s{0,2}h{0,1}\\*\\S{0,7}[^ .,!?]', ' aword', x))\n",
    "final_df2['text'] = final_df2['text'].apply(lambda x: re.sub(' [Ss]h{0,1}\\*\\S{0,4}[^ .,!?]', ' shit', x))\n",
    "final_df2['text'] = final_df2['text'].apply(lambda x: re.sub('[Ss][Hh]\\*[tT]', 'shit', x))\n",
    "final_df2['text'] = final_df2['text'].apply(lambda x: re.sub(' [gG]\\*\\S{0,8}[^ .,!?]', ' god', x))\n",
    "final_df2['text'] = final_df2['text'].apply(lambda x: re.sub(' [pP]u{0,1}\\*\\S{0,8}[^ .,!?]', ' pword', x))\n",
    "final_df2['text'] = final_df2['text'].apply(lambda x: re.sub('c\\*nt', ' pword', x))\n",
    "final_df2['text'] = final_df2['text'].apply(lambda x: re.sub('c\\*ck', ' pword', x))"
   ]
  },
  {
   "cell_type": "markdown",
   "metadata": {},
   "source": [
    "# Fixing contraction"
   ]
  },
  {
   "cell_type": "code",
   "execution_count": 54,
   "metadata": {
    "scrolled": false
   },
   "outputs": [
    {
     "name": "stdout",
     "output_type": "stream",
     "text": [
      "It s become quite clear that as much as Fox News wants to make the appearance of being honest and inclusive, it s very much on the surface, so don t believe everything you see. Recently on Fox News, Megyn Kelly interviewed Orange is the New Black star Laverne Cox. The pair discussed Cox being transgender with topics surrounding growing up, transitioning, as well as her love life. However, many were left scratching their heads that talk about North Carolina s discriminatory law, HB2, better known as the bathroom bill, wasn t discussed. Here s the thing it was. It was just edited out. Well, Media Matters has the edited dialogue and created a meme that Cox passionately posted on her Twitter account to make sure that people know she did, in fact, discuss the horrendous bill. Not only did she discuss it, she tore it to shreds with the truth. First, after being questioned why she didn t discuss the bill, she said:@dfoxfarrington we did talk about legislation specifically North Carolina's unconstitutional #HB2 but it didn't make it to air Laverne Cox (@Lavernecox) May 18, 2016Then later, she posted what was said: When a trans woman is called a man, that is an act of violence Discriminatory bills like HB2 in North Carolina misgender trans people The perpetuation of myths about who trans people are [is] at the root of this Those bills are about making us not exist. But I m a testament that trans people do exist. There are trans people all over this country that exist. twitterlink Laverne Cox (@Lavernecox) May 19, 2016Amen! So, as Fox News wants to pretend like this discrimination doesn t exist by cutting out Cox s very passionate plea to recognize that she s a human being and should be treated as such out of her aired interview, she s making sure it s told anyway. Good on you, Laverne! Featured Image via video screen capture\n"
     ]
    }
   ],
   "source": [
    "# this needs to be done in two steps since in some texts the apostrophe is gone leaving words such as 'isn t\"\n",
    "# see example above\n",
    "print(final_df2.iloc[7408,0])"
   ]
  },
  {
   "cell_type": "code",
   "execution_count": 55,
   "metadata": {},
   "outputs": [],
   "source": [
    "#function to fix contractions\n",
    "\n",
    "def find_replace_multi_ordered2(string, dict_conve):\n",
    "    \n",
    "    for item in dict_conve.keys():\n",
    "        string = re.sub(item, dict_conve[item], string)\n",
    "    return string"
   ]
  },
  {
   "cell_type": "code",
   "execution_count": 56,
   "metadata": {},
   "outputs": [],
   "source": [
    "# dictionary to fix contractions that lost the apostrophe:\n",
    "dict_conve = {' ain t ': ' ain\\'t ',\n",
    "     'aren t ': ' are not ',\n",
    "     ' can t ': ' cannot ',\n",
    "     'could ve ':' could have ',\n",
    "     'couldn t ':' could not ',\n",
    "     'didn t ':'did not ',\n",
    "     'doesn t ':'does not ',\n",
    "     'don t ':' do not ',\n",
    "     'everybody s ': 'everybody is ',\n",
    "     'hadn t ': 'had not ',\n",
    "     'hasn t ': 'has not ',\n",
    "     'haven t ':' have not ',\n",
    "     ' he d ' : ' he would ',\n",
    "     ' he ll ' : ' he will ',\n",
    "     ' he s ' : ' he is ',\n",
    "     'how d ' : 'how would ',\n",
    "     ' how s ' : ' how is ',\n",
    "     'i d ' : 'i would ',\n",
    "     'i ll ' : 'i will ',\n",
    "     'i m ' : 'i am ',\n",
    "     'i ve ' : 'i have ',\n",
    "     ' isn t ' : ' is not ',\n",
    "     'it d ' : 'it would ',\n",
    "     'it ll ' : 'it will ',\n",
    "     'it s ': 'it is ',\n",
    "     'let s ': 'let us ',\n",
    "     ' might ve ': ' might have ',\n",
    "     ' mustn t ': ' must not ',\n",
    "     ' must ve ': ' must have ',\n",
    "     ' needn t ': ' need not ',\n",
    "     ' o clock ': ' o\\'clock ',\n",
    "     'she d ': ' she would ',\n",
    "     'she ll ': ' she will ',\n",
    "     ' she s ': ' she is ',\n",
    "     ' should ve ': ' should have ',\n",
    "     ' shouldn t ': ' should not ',\n",
    "     ' somebody s ':' somebody is ',\n",
    "     ' something s ':' something is ',\n",
    "     ' someone s ':' someone is ',\n",
    "     ' that ll ' : ' that will ',\n",
    "     'that s ' : ' that is ',\n",
    "     'that d ' : ' that would ',\n",
    "     'there d ': ' there would ',\n",
    "     'there ll ': ' there will ',\n",
    "     'there re ': ' there are ',\n",
    "     'there s ': ' there is ',\n",
    "     'these re ': ' these are ',\n",
    "     'there ve ': ' there have ',\n",
    "     'they d ': ' they would ',\n",
    "     'they ll ': ' they will ',\n",
    "     'they re ': ' they are ',\n",
    "     'they ve ': 'they have ',\n",
    "     ' this s ': ' this is ',\n",
    "     ' wasn t ': ' was not ',\n",
    "     'we d ': ' we would ',\n",
    "     'we ll ': ' we will ',\n",
    "     'we re ': ' we are ',\n",
    "     'we ve ': 'we have ',\n",
    "     ' weren t ': ' were not ',\n",
    "     ' what re ': ' what are ',\n",
    "     ' what s ': ' what is ',\n",
    "     ' what ve ': ' what have ',\n",
    "     ' where d ': ' where did ',\n",
    "     ' where ll ': ' where will ',\n",
    "     ' where re ': ' where are ',\n",
    "     ' where s ': ' where is ',\n",
    "     ' where ve ': ' where have ',\n",
    "     ' who d ': ' who would ',\n",
    "     ' who ll ': ' who will ',\n",
    "     ' who re ': ' who are ',\n",
    "     ' who s ': ' who is ',\n",
    "     ' who ve ': ' who have ',\n",
    "     ' why d ': ' why would ',\n",
    "     ' won t ': ' will not ',\n",
    "     ' would ve ': ' would have ',\n",
    "     ' wouldn t ': ' would not ',\n",
    "     ' y all ': ' you all ',\n",
    "     ' y ll ': ' you will ',\n",
    "     'you re ': ' you are ',\n",
    "     'you ve ': ' you have ',\n",
    "     ' na ve': ' naive'\n",
    "             }\n",
    "\n",
    "# dictionary to fix contractions with apostrophe:\n",
    "contractions = { \n",
    "\"ain't \": \" am not \",\n",
    "\"aren't \": \" are not \",\n",
    "\"can't \": \" cannot \",\n",
    "\"can't've \": \" cannot have \",\n",
    "\" 'cause \" : \" because \",\n",
    "\"could've \": \" could have \",\n",
    "\"couldn't \": \" could not \",\n",
    "\"couldn't've \": \" could not have \",\n",
    "\"didn't \": \" did not \",\n",
    "\"doesn't \": \" does not \",\n",
    "\"don't \": \" do not \",\n",
    "\"here s \": \" here is \",\n",
    "\"hadn't \": \" had not \",\n",
    "\"hadn't've \": \" had not have \",\n",
    "\"hasn't \": \" has not \",\n",
    "\"haven't \": \" have not \",\n",
    "\"he'd\": \" he would \",\n",
    "\"he'd've \": \" he would have \",\n",
    "\"he'll \": \" he will \",\n",
    "\"he'll've \": \" he will have \",\n",
    "\"he's \": \" he is \",\n",
    "\"how'd \": \" how did \",\n",
    "\"how'd'y \": \" how do you \",\n",
    "\"how'll \": \" how will \",\n",
    "\"how's \": \" how is \",\n",
    "\" i'd \": \" i would \",\n",
    "\" i'd've \": \" i would have \",\n",
    "\" i'll \": \" i will \",\n",
    "\" i'll've \":  \"i will have \",\n",
    "\"i'm \": \"i am \",\n",
    "\" i've \": \" i have \",\n",
    "\" isn't\": \" is not \",\n",
    "\" it'd\": \" it would \",\n",
    "\" it'd've\": \" it would have \",\n",
    "\" it'll\": \" it will \",\n",
    "\" it'll've\": \" it will have \",\n",
    "\" it's\": \" it is \",\n",
    "\" let's\": \" let us \",\n",
    "\" ma'am\": \" madam \",\n",
    "\" mayn't \": \" may not \",\n",
    "\" might've \": \" might have \",\n",
    "\" mightn't \": \" might not \",\n",
    "\" mightn't've \": \" might not have \",\n",
    "\" must've \": \" must have \",\n",
    "\" mustn't \": \" must not \",\n",
    "\" mustn't've \": \" must not have \",\n",
    "\" needn't \": \" need not \",\n",
    "\" needn't've \": \" need not have \",\n",
    "\" o'clock \": \" of the clock \",\n",
    "\" oughtn't \": \" ought not \",\n",
    "\" oughtn't've \": \" ought not have \",\n",
    "\" shan't\": \" shall not \",\n",
    "\" sha'n't\": \" shall not \",\n",
    "\" shan't've\": \" shall not have \",\n",
    "\" she'd\": \" she would \",\n",
    "\" she'd've\": \" she would have \",\n",
    "\" she'll\": \" she will \",\n",
    "\" she'll've \": \" she will have \",\n",
    "\" she's \": \" she is \",\n",
    "\" should've \": \"should have \",\n",
    "\" shouldn't \": \" should not \",\n",
    "\" shouldn't've \": \" should not have \",\n",
    "\" so've \": \" so have \",\n",
    "\" so's \": \" so is \",\n",
    "\" that'd \": \" that would \",\n",
    "\" that'd've \": \" that would have \",\n",
    "\" that's \": \" that is \",\n",
    "\" there'd \": \" there would \",\n",
    "\" there'd've \": \" there would have \",\n",
    "\" there's \": \" there is \",\n",
    "\" they'd \": \" they would \",\n",
    "\" they'd've \": \" they would have \",\n",
    "\" they'll \": \" hey will \",\n",
    "\" they'll've \": \" they will have \",\n",
    "\" they're \": \" they are \",\n",
    "\" they've \": \" they have \",\n",
    "\" to've \": \" to have \",\n",
    "\" wasn't \": \" was not \",\n",
    "\" we'd \": \" we would \",\n",
    "\" we'd've \": \" we would have \",\n",
    "\" we'll \": \" we will \",\n",
    "\" we'll've \": \" we will have \",\n",
    "\"we're \": \"we are \",\n",
    "\"we've \": \"we have \",\n",
    "\" weren't \": \" were not \",\n",
    "\" what'll \": \" what will \",\n",
    "\" what'll've\": \" what will have \",\n",
    "\" what're \": \" what are \",\n",
    "\" what's \": \" what is \",\n",
    "\" what've \": \" what have \",\n",
    "\" when's \": \" when is \",\n",
    "\" when've \": \" when have \",\n",
    "\" where'd \": \" where did \",\n",
    "\" where's \": \" where is \",\n",
    "\" where've \": \"where have \",\n",
    "\" who'll \": \" who will \",\n",
    "\" who'll've \": \" who will have \",\n",
    "\" who's \": \" who is \",\n",
    "\" who've \": \" who have \",\n",
    "\" why's \": \" why is \",\n",
    "\" why've \": \" why have \",\n",
    "\" will've \": \" will have \",\n",
    "\" won't \": \" will not \",\n",
    "\" won't've \": \" will not have \",\n",
    "\" would've \": \" would have \",\n",
    "\" wouldn't \": \" would not \",\n",
    "\" wouldn't've \": \" would not have \",\n",
    "\" y'all\": \" you all \",\n",
    "\" y'all'd \": \" you all would \",\n",
    "\" y'all'd've \": \" you all would have \",\n",
    "\" y'all're \": \" you all are \",\n",
    "\" y'all've \": \" you all have \",\n",
    "\" you'd \": \" you would \",\n",
    "\" you'd've \": \" you would have \",\n",
    "\" you'll \": \" you will \",\n",
    "\" you'll've \": \" you will have \",\n",
    "\"you're \": \"you are \",\n",
    "\"you've \": \"you have \",\n",
    "    \"e-mail\": \"email\",\n",
    "    \"u. s.\": \" usa \",\n",
    "    \" u. s \": \" usa \",\n",
    "    \" u. s-\": \" usa \",\n",
    "    \"-u. s.\":\" usa \",\n",
    "    \" b*tch \": \" btch \",\n",
    "    \"n. y.\" : \"ny\",\n",
    "    \" f k \": \" fk \",\n",
    "    \" p. m. \": \" pm \",\n",
    "    \" g-20 \": \" gtw \",\n",
    "    \" g20 \": \" gtw \",\n",
    "    \" g7 \": \" gse \",\n",
    "    \" ll \": \" will \",\n",
    "    \" 'll \": \" will \"\n",
    "    \n",
    " }\n"
   ]
  },
  {
   "cell_type": "code",
   "execution_count": 57,
   "metadata": {},
   "outputs": [],
   "source": [
    "# to fix contractions at the beginning of the string, I added a space at the beggining of the string. \n",
    "def add_white(string_inp):\n",
    "    lens = len(string_inp) + 1\n",
    "    return string_inp.rjust(lens)\n",
    "final_df2['title'] = final_df2['title'].apply(lambda x: add_white(x))\n",
    "final_df2['text'] = final_df2['text'].apply(lambda x: add_white(x))"
   ]
  },
  {
   "cell_type": "code",
   "execution_count": 58,
   "metadata": {
    "scrolled": true
   },
   "outputs": [
    {
     "data": {
      "text/plain": [
       "' The irony here isn t lost on us. Hillary is being compared to the President she wanted to take down. Nixon s got nothing on this criminal who wiped her server clean after e-mails were requested from her. John Fund questions the Democrat s strategy to support a Nixonian type candidate with more baggage than a Samsonite factory She s secretive, scandal-plagued, and seemingly inevitable. Ever since Hillary Clinton s e-mail scandal broke, comparisons between her secretive style and that of Richard Nixon, whom she ironically pursued as a young lawyer on the House impeachment committee, have been frequent. But with the revelation that she wiped her private e-mail server clean after her records were requested by the State Department last year, the comparisons are becoming more concrete. Washington wags note that even Nixon never destroyed the tapes, but Hillary has permanently erased her e-mails. Exactly what would a Hillary presidency look like, and could it plunge the nation into another round of debilitating Clinton scandals? That s a question Democrats should ask themselves before they hand the nomination over to her. Many Democrats have reservations about Hillary s cozy relations with Wall Street, her 2002 vote for the Iraq War, and the Clinton couple s flexibility on issues. They love winning. They re both masters of it, Hillary maybe even more than Bill. But that s not the same as having a belief system, noted the liberal Rolling Stone magazine. But some Democrats also want Hillary to be challenged on her Nixonian penchant for slipperiness and questionable fundraising. A strong primary challenge has provided clues as to how she would run in a general election something Democrats should know. After all, the first Clinton presidency was good for the Clintons, but not for the Democratic party, which lost both houses of Congress along with a majority of the nation s governorships and during a time of economic prosperity and peace. Read more: National Review'"
      ]
     },
     "execution_count": 58,
     "metadata": {},
     "output_type": "execute_result"
    }
   ],
   "source": [
    "final_df2.iloc[0,0]"
   ]
  },
  {
   "cell_type": "code",
   "execution_count": 59,
   "metadata": {},
   "outputs": [],
   "source": [
    "# Expanding verbal contraction with no apostrophe\n",
    "final_df2['title'] = final_df2['title'].str.lower().apply(lambda stt: find_replace_multi_ordered2(stt, dict_conve))\n",
    "final_df2['text'] = final_df2['text'].str.lower().apply(lambda stt: find_replace_multi_ordered2(stt, dict_conve))\n",
    "\n",
    "# Expanding verbal contraction with apostrophe\n",
    "final_df2['title'] = final_df2['title'].apply(lambda stt: find_replace_multi_ordered2(stt, contractions))\n",
    "final_df2['text'] = final_df2['text'].apply(lambda stt: find_replace_multi_ordered2(stt, contractions))"
   ]
  },
  {
   "cell_type": "code",
   "execution_count": 60,
   "metadata": {
    "scrolled": true
   },
   "outputs": [
    {
     "name": "stdout",
     "output_type": "stream",
     "text": [
      " it is become quite clear that as much as fox news wants to make the appearance of being honest and inclusive, it is very much on the surface, so  do not believe everythinyu see. recently on fox news, megyn kelly interviewed orange is the new black star laverne cox. the pair discussed cox being transgender with topics surrounding growing up, transitioning, as well as her love life. however, many were left scratching their heads that talk about north carolina s discriminatory law, hb2, better known as the bathroom bill, was not discussed.  here is the thing it was. it was just edited out. well, media matters has the edited dialogue and created a meme that cox passionately posted on her twitter account to make sure that people know she did, in fact, discuss the horrendous bill. not only did she discuss it, she tore it to shreds with the truth. first, after being questioned why she did not discuss the bill, she said:@dfoxfarrington we did talk about legislation specifically north carolina's unconstitutional #hb2 but it  did not make it to air laverne cox (@lavernecox) may 18, 2016then later, she posted what was said: when a trans woman is called a man, that is an act of violence discriminatory bills like hb2 in north carolina misgender trans people the perpetuation of myths about who trans people are [is] at the root of this those bills are about making us not exist. but i am a testament that trans people do exist. there are trans people all over this country that exist. twitterlink laverne cox (@lavernecox) may 19, 2016amen! so, as fox news wants to pretend like this discrimination does not exist by cutting out cox s very passionate plea to recognize that she is a human being and should be treated as such out of her aired interview, she is making sure it is told anyway. good on you, laverne! featured image via video screen capture\n"
     ]
    }
   ],
   "source": [
    "print(final_df2.iloc[7408,0])"
   ]
  },
  {
   "cell_type": "code",
   "execution_count": 61,
   "metadata": {},
   "outputs": [],
   "source": [
    "final_df2['text'].to_csv('sss.csv')"
   ]
  },
  {
   "cell_type": "markdown",
   "metadata": {},
   "source": [
    "## Counting number of characters and words in title and text"
   ]
  },
  {
   "cell_type": "code",
   "execution_count": 62,
   "metadata": {},
   "outputs": [],
   "source": [
    "#Steps\n",
    "#1 extract only A-Z,a-z, \n",
    "#2 count characters after excluding white spaces and the artificial links I introduced (facbooolink, youtubelink, twitterlink, bitly and tmsnrt) which are 11-char\n",
    "#3 split the string, counts words exclusing single characters (such as s, ts and etc) and the artificial link I created\n"
   ]
  },
  {
   "cell_type": "code",
   "execution_count": 63,
   "metadata": {},
   "outputs": [],
   "source": [
    "# 1 and 2\n",
    "final_df2['words_in_title'] = final_df2['title'].apply(lambda stt: re.sub(r\"[^ABCDEFGHIJKLMNOPQRSTUVWXYZabcdefghijklmnopqrstuvwxyz]\", \" \", stt)).apply(lambda x: re.sub(' {1,20}', ' ', x))\n",
    "final_df2['char_title'] = final_df2['words_in_title'].str.len() - final_df2['words_in_title'].str.count(' ') - 11 * final_df2['words_in_title'].str.count('facbooolink') -  11 * final_df2['words_in_title'].str.count('youtubelink') - 11* final_df2['words_in_title'].str.count('twitterlink') - 11 * final_df2['words_in_title'].str.count('bitlyylinkk')- 11 * final_df2['words_in_title'].str.count('tmsnrtlinnk')\n",
    "\n",
    "final_df2['words_in_text'] = final_df2['text'].apply(lambda stt: re.sub(r\"[^ABCDEFGHIJKLMNOPQRSTUVWXYZabcdefghijklmnopqrstuvwxyz]\", \" \", stt)).apply(lambda x: re.sub(' {1,20}', ' ', x))\n",
    "final_df2['char_text'] = final_df2['words_in_text'].str.len() - final_df2['words_in_text'].str.count(' ') - 11 * final_df2['words_in_text'].str.count('facbooolink') -  11 * final_df2['words_in_text'].str.count('youtubelink') - 11* final_df2['words_in_text'].str.count('twitterlink') - 11 * final_df2['words_in_text'].str.count('bitlyylinkk') - 11 * final_df2['words_in_text'].str.count('tmsnrtlinnk')"
   ]
  },
  {
   "cell_type": "code",
   "execution_count": 64,
   "metadata": {},
   "outputs": [
    {
     "data": {
      "text/html": [
       "<div>\n",
       "<style scoped>\n",
       "    .dataframe tbody tr th:only-of-type {\n",
       "        vertical-align: middle;\n",
       "    }\n",
       "\n",
       "    .dataframe tbody tr th {\n",
       "        vertical-align: top;\n",
       "    }\n",
       "\n",
       "    .dataframe thead th {\n",
       "        text-align: right;\n",
       "    }\n",
       "</style>\n",
       "<table border=\"1\" class=\"dataframe\">\n",
       "  <thead>\n",
       "    <tr style=\"text-align: right;\">\n",
       "      <th></th>\n",
       "      <th>text</th>\n",
       "      <th>title</th>\n",
       "      <th>Real_Fake</th>\n",
       "      <th>Cat_Government News</th>\n",
       "      <th>Cat_Middle-east</th>\n",
       "      <th>Cat_News</th>\n",
       "      <th>Cat_US_News</th>\n",
       "      <th>Cat_left-news</th>\n",
       "      <th>Cat_politics</th>\n",
       "      <th>Cat_politicsNews</th>\n",
       "      <th>Cat_worldnews</th>\n",
       "      <th>sent_title</th>\n",
       "      <th>sent_text</th>\n",
       "      <th>words_in_title</th>\n",
       "      <th>char_title</th>\n",
       "      <th>words_in_text</th>\n",
       "      <th>char_text</th>\n",
       "    </tr>\n",
       "    <tr>\n",
       "      <th>date</th>\n",
       "      <th></th>\n",
       "      <th></th>\n",
       "      <th></th>\n",
       "      <th></th>\n",
       "      <th></th>\n",
       "      <th></th>\n",
       "      <th></th>\n",
       "      <th></th>\n",
       "      <th></th>\n",
       "      <th></th>\n",
       "      <th></th>\n",
       "      <th></th>\n",
       "      <th></th>\n",
       "      <th></th>\n",
       "      <th></th>\n",
       "      <th></th>\n",
       "      <th></th>\n",
       "    </tr>\n",
       "  </thead>\n",
       "  <tbody>\n",
       "    <tr>\n",
       "      <th>2015-03-31</th>\n",
       "      <td>the irony here is not lost on us. hillary is ...</td>\n",
       "      <td>hillary rodham nixon: a candidate with more b...</td>\n",
       "      <td>1</td>\n",
       "      <td>0</td>\n",
       "      <td>0</td>\n",
       "      <td>0</td>\n",
       "      <td>0</td>\n",
       "      <td>1</td>\n",
       "      <td>1</td>\n",
       "      <td>0</td>\n",
       "      <td>0</td>\n",
       "      <td>1</td>\n",
       "      <td>17</td>\n",
       "      <td>hillary rodham nixon a candidate with more ba...</td>\n",
       "      <td>64</td>\n",
       "      <td>the irony here is not lost on us hillary is b...</td>\n",
       "      <td>1626</td>\n",
       "    </tr>\n",
       "    <tr>\n",
       "      <th>2015-03-31</th>\n",
       "      <td>in case you missed it sen. harry reid (r-nv),...</td>\n",
       "      <td>watch dirty harry reid on his lie about romne...</td>\n",
       "      <td>1</td>\n",
       "      <td>0</td>\n",
       "      <td>0</td>\n",
       "      <td>0</td>\n",
       "      <td>0</td>\n",
       "      <td>1</td>\n",
       "      <td>1</td>\n",
       "      <td>0</td>\n",
       "      <td>0</td>\n",
       "      <td>1</td>\n",
       "      <td>8</td>\n",
       "      <td>watch dirty harry reid on his lie about romne...</td>\n",
       "      <td>60</td>\n",
       "      <td>in case you missed it sen harry reid r nv who...</td>\n",
       "      <td>500</td>\n",
       "    </tr>\n",
       "  </tbody>\n",
       "</table>\n",
       "</div>"
      ],
      "text/plain": [
       "                                                         text  \\\n",
       "date                                                            \n",
       "2015-03-31   the irony here is not lost on us. hillary is ...   \n",
       "2015-03-31   in case you missed it sen. harry reid (r-nv),...   \n",
       "\n",
       "                                                        title  Real_Fake  \\\n",
       "date                                                                       \n",
       "2015-03-31   hillary rodham nixon: a candidate with more b...          1   \n",
       "2015-03-31   watch dirty harry reid on his lie about romne...          1   \n",
       "\n",
       "            Cat_Government News  Cat_Middle-east  Cat_News  Cat_US_News  \\\n",
       "date                                                                      \n",
       "2015-03-31                    0                0         0            0   \n",
       "2015-03-31                    0                0         0            0   \n",
       "\n",
       "            Cat_left-news  Cat_politics  Cat_politicsNews  Cat_worldnews  \\\n",
       "date                                                                       \n",
       "2015-03-31              1             1                 0              0   \n",
       "2015-03-31              1             1                 0              0   \n",
       "\n",
       "            sent_title  sent_text  \\\n",
       "date                                \n",
       "2015-03-31           1         17   \n",
       "2015-03-31           1          8   \n",
       "\n",
       "                                               words_in_title  char_title  \\\n",
       "date                                                                        \n",
       "2015-03-31   hillary rodham nixon a candidate with more ba...          64   \n",
       "2015-03-31   watch dirty harry reid on his lie about romne...          60   \n",
       "\n",
       "                                                words_in_text  char_text  \n",
       "date                                                                      \n",
       "2015-03-31   the irony here is not lost on us hillary is b...       1626  \n",
       "2015-03-31   in case you missed it sen harry reid r nv who...        500  "
      ]
     },
     "execution_count": 64,
     "metadata": {},
     "output_type": "execute_result"
    }
   ],
   "source": [
    "final_df2.head(2)"
   ]
  },
  {
   "cell_type": "code",
   "execution_count": 65,
   "metadata": {},
   "outputs": [],
   "source": [
    "# 3\n",
    "final_df2['words_in_title'] = final_df2['words_in_title'].apply(lambda x : re.sub(\" [^ai] \", \" \", x))\n",
    "final_df2['words_in_title_split'] = final_df2['words_in_title'].str.split()\n",
    "final_df2['Count_words_title'] = final_df2['words_in_title_split'].str.len() - final_df2['words_in_title'].str.count(\"facbooolink\") - final_df2['words_in_title'].str.count(\"youtubelink\") - final_df2['words_in_title'].str.count(\"twitterlink\")- final_df2['words_in_title'].str.count(\"bitlyylinkk\") - final_df2['words_in_title'].str.count(\"tmsnrtlinnk\")\n",
    "\n",
    "final_df2['words_in_text'] = final_df2['words_in_text'].apply(lambda x : re.sub(\" [^ai] \", \" \", x))\n",
    "final_df2['words_in_text_split'] = final_df2['words_in_text'].str.split()\n",
    "final_df2['Count_words_text'] = final_df2['words_in_text_split'].str.len() - final_df2['words_in_text'].str.count(\"facbooolink\") - final_df2['words_in_text'].str.count(\"youtubelink\") - final_df2['words_in_text'].str.count(\"twitterlink\") - final_df2['words_in_text'].str.count(\"bitlyylinkk\") - final_df2['words_in_text'].str.count(\"tmsnrtlinnk\")\n",
    "\n"
   ]
  },
  {
   "cell_type": "code",
   "execution_count": 66,
   "metadata": {},
   "outputs": [
    {
     "data": {
      "text/html": [
       "<div>\n",
       "<style scoped>\n",
       "    .dataframe tbody tr th:only-of-type {\n",
       "        vertical-align: middle;\n",
       "    }\n",
       "\n",
       "    .dataframe tbody tr th {\n",
       "        vertical-align: top;\n",
       "    }\n",
       "\n",
       "    .dataframe thead th {\n",
       "        text-align: right;\n",
       "    }\n",
       "</style>\n",
       "<table border=\"1\" class=\"dataframe\">\n",
       "  <thead>\n",
       "    <tr style=\"text-align: right;\">\n",
       "      <th></th>\n",
       "      <th>text</th>\n",
       "      <th>title</th>\n",
       "      <th>Real_Fake</th>\n",
       "      <th>Cat_Government News</th>\n",
       "      <th>Cat_Middle-east</th>\n",
       "      <th>Cat_News</th>\n",
       "      <th>Cat_US_News</th>\n",
       "      <th>Cat_left-news</th>\n",
       "      <th>Cat_politics</th>\n",
       "      <th>Cat_politicsNews</th>\n",
       "      <th>Cat_worldnews</th>\n",
       "      <th>sent_title</th>\n",
       "      <th>sent_text</th>\n",
       "      <th>words_in_title</th>\n",
       "      <th>char_title</th>\n",
       "      <th>words_in_text</th>\n",
       "      <th>char_text</th>\n",
       "      <th>words_in_title_split</th>\n",
       "      <th>Count_words_title</th>\n",
       "      <th>words_in_text_split</th>\n",
       "      <th>Count_words_text</th>\n",
       "    </tr>\n",
       "    <tr>\n",
       "      <th>date</th>\n",
       "      <th></th>\n",
       "      <th></th>\n",
       "      <th></th>\n",
       "      <th></th>\n",
       "      <th></th>\n",
       "      <th></th>\n",
       "      <th></th>\n",
       "      <th></th>\n",
       "      <th></th>\n",
       "      <th></th>\n",
       "      <th></th>\n",
       "      <th></th>\n",
       "      <th></th>\n",
       "      <th></th>\n",
       "      <th></th>\n",
       "      <th></th>\n",
       "      <th></th>\n",
       "      <th></th>\n",
       "      <th></th>\n",
       "      <th></th>\n",
       "      <th></th>\n",
       "    </tr>\n",
       "  </thead>\n",
       "  <tbody>\n",
       "    <tr>\n",
       "      <th>2015-03-31</th>\n",
       "      <td>the irony here is not lost on us. hillary is ...</td>\n",
       "      <td>hillary rodham nixon: a candidate with more b...</td>\n",
       "      <td>1</td>\n",
       "      <td>0</td>\n",
       "      <td>0</td>\n",
       "      <td>0</td>\n",
       "      <td>0</td>\n",
       "      <td>1</td>\n",
       "      <td>1</td>\n",
       "      <td>0</td>\n",
       "      <td>0</td>\n",
       "      <td>1</td>\n",
       "      <td>17</td>\n",
       "      <td>hillary rodham nixon a candidate with more ba...</td>\n",
       "      <td>64</td>\n",
       "      <td>the irony here is not lost on us hillary is b...</td>\n",
       "      <td>1626</td>\n",
       "      <td>[hillary, rodham, nixon, a, candidate, with, m...</td>\n",
       "      <td>12</td>\n",
       "      <td>[the, irony, here, is, not, lost, on, us, hill...</td>\n",
       "      <td>319</td>\n",
       "    </tr>\n",
       "    <tr>\n",
       "      <th>2015-03-31</th>\n",
       "      <td>in case you missed it sen. harry reid (r-nv),...</td>\n",
       "      <td>watch dirty harry reid on his lie about romne...</td>\n",
       "      <td>1</td>\n",
       "      <td>0</td>\n",
       "      <td>0</td>\n",
       "      <td>0</td>\n",
       "      <td>0</td>\n",
       "      <td>1</td>\n",
       "      <td>1</td>\n",
       "      <td>0</td>\n",
       "      <td>0</td>\n",
       "      <td>1</td>\n",
       "      <td>8</td>\n",
       "      <td>watch dirty harry reid on his lie about romne...</td>\n",
       "      <td>60</td>\n",
       "      <td>in case you missed it sen harry reid nv who a...</td>\n",
       "      <td>500</td>\n",
       "      <td>[watch, dirty, harry, reid, on, his, lie, abou...</td>\n",
       "      <td>16</td>\n",
       "      <td>[in, case, you, missed, it, sen, harry, reid, ...</td>\n",
       "      <td>122</td>\n",
       "    </tr>\n",
       "    <tr>\n",
       "      <th>2015-03-31</th>\n",
       "      <td>nothing like political cronyism to make yo us...</td>\n",
       "      <td>oh no! guess who funded the shrine to ted ken...</td>\n",
       "      <td>1</td>\n",
       "      <td>0</td>\n",
       "      <td>0</td>\n",
       "      <td>0</td>\n",
       "      <td>0</td>\n",
       "      <td>0</td>\n",
       "      <td>1</td>\n",
       "      <td>0</td>\n",
       "      <td>0</td>\n",
       "      <td>2</td>\n",
       "      <td>19</td>\n",
       "      <td>oh no guess who funded the shrine to ted kennedy</td>\n",
       "      <td>39</td>\n",
       "      <td>nothing like political cronyism to make yo us...</td>\n",
       "      <td>2002</td>\n",
       "      <td>[oh, no, guess, who, funded, the, shrine, to, ...</td>\n",
       "      <td>10</td>\n",
       "      <td>[nothing, like, political, cronyism, to, make,...</td>\n",
       "      <td>414</td>\n",
       "    </tr>\n",
       "  </tbody>\n",
       "</table>\n",
       "</div>"
      ],
      "text/plain": [
       "                                                         text  \\\n",
       "date                                                            \n",
       "2015-03-31   the irony here is not lost on us. hillary is ...   \n",
       "2015-03-31   in case you missed it sen. harry reid (r-nv),...   \n",
       "2015-03-31   nothing like political cronyism to make yo us...   \n",
       "\n",
       "                                                        title  Real_Fake  \\\n",
       "date                                                                       \n",
       "2015-03-31   hillary rodham nixon: a candidate with more b...          1   \n",
       "2015-03-31   watch dirty harry reid on his lie about romne...          1   \n",
       "2015-03-31   oh no! guess who funded the shrine to ted ken...          1   \n",
       "\n",
       "            Cat_Government News  Cat_Middle-east  Cat_News  Cat_US_News  \\\n",
       "date                                                                      \n",
       "2015-03-31                    0                0         0            0   \n",
       "2015-03-31                    0                0         0            0   \n",
       "2015-03-31                    0                0         0            0   \n",
       "\n",
       "            Cat_left-news  Cat_politics  Cat_politicsNews  Cat_worldnews  \\\n",
       "date                                                                       \n",
       "2015-03-31              1             1                 0              0   \n",
       "2015-03-31              1             1                 0              0   \n",
       "2015-03-31              0             1                 0              0   \n",
       "\n",
       "            sent_title  sent_text  \\\n",
       "date                                \n",
       "2015-03-31           1         17   \n",
       "2015-03-31           1          8   \n",
       "2015-03-31           2         19   \n",
       "\n",
       "                                               words_in_title  char_title  \\\n",
       "date                                                                        \n",
       "2015-03-31   hillary rodham nixon a candidate with more ba...          64   \n",
       "2015-03-31   watch dirty harry reid on his lie about romne...          60   \n",
       "2015-03-31   oh no guess who funded the shrine to ted kennedy          39   \n",
       "\n",
       "                                                words_in_text  char_text  \\\n",
       "date                                                                       \n",
       "2015-03-31   the irony here is not lost on us hillary is b...       1626   \n",
       "2015-03-31   in case you missed it sen harry reid nv who a...        500   \n",
       "2015-03-31   nothing like political cronyism to make yo us...       2002   \n",
       "\n",
       "                                         words_in_title_split  \\\n",
       "date                                                            \n",
       "2015-03-31  [hillary, rodham, nixon, a, candidate, with, m...   \n",
       "2015-03-31  [watch, dirty, harry, reid, on, his, lie, abou...   \n",
       "2015-03-31  [oh, no, guess, who, funded, the, shrine, to, ...   \n",
       "\n",
       "            Count_words_title  \\\n",
       "date                            \n",
       "2015-03-31                 12   \n",
       "2015-03-31                 16   \n",
       "2015-03-31                 10   \n",
       "\n",
       "                                          words_in_text_split  \\\n",
       "date                                                            \n",
       "2015-03-31  [the, irony, here, is, not, lost, on, us, hill...   \n",
       "2015-03-31  [in, case, you, missed, it, sen, harry, reid, ...   \n",
       "2015-03-31  [nothing, like, political, cronyism, to, make,...   \n",
       "\n",
       "            Count_words_text  \n",
       "date                          \n",
       "2015-03-31               319  \n",
       "2015-03-31               122  \n",
       "2015-03-31               414  "
      ]
     },
     "execution_count": 66,
     "metadata": {},
     "output_type": "execute_result"
    }
   ],
   "source": [
    "final_df2.head(3)"
   ]
  },
  {
   "cell_type": "markdown",
   "metadata": {},
   "source": [
    "# Calculating linguistic indexes"
   ]
  },
  {
   "cell_type": "markdown",
   "metadata": {},
   "source": [
    "### Counting syllables, long and complex words"
   ]
  },
  {
   "cell_type": "code",
   "execution_count": 67,
   "metadata": {},
   "outputs": [],
   "source": [
    "# general function to calculate the number of syllables\n",
    "\n",
    "def sylco(word) :\n",
    "    word = word.lower()\n",
    "    exception_add = ['serious','crucial']\n",
    "    exception_del = ['fortunately','unfortunately']\n",
    "    co_one = ['cool','coach','coat','coal','count','coin','coarse','coup','coif','cook','coign','coiffe','coof','court']\n",
    "    co_two = ['coapt','coed','coinci']\n",
    "    pre_one = ['preach']\n",
    "    syls = 0 #added syllable number\n",
    "    disc = 0 #discarded syllable number\n",
    "    if len(word) <= 3 :\n",
    "        syls = 1\n",
    "        return syls\n",
    "    if word[-2:] == \"es\" or word[-2:] == \"ed\" :\n",
    "        doubleAndtripple_1 = len(re.findall(r'[eaoui][eaoui]',word))\n",
    "        if doubleAndtripple_1 > 1 or len(re.findall(r'[eaoui][^eaoui]',word)) > 1 :\n",
    "            if word[-3:] == \"ted\" or word[-3:] == \"tes\" or word[-3:] == \"ses\" or word[-3:] == \"ied\" or word[-3:] == \"ies\" :\n",
    "                pass\n",
    "            else :\n",
    "                disc+=1\n",
    "    le_except = ['whole','mobile','pole','male','female','hale','pale','tale','sale','aisle','whale','while']\n",
    "    if word[-1:] == \"e\" :\n",
    "        if word[-2:] == \"le\" and word not in le_except :\n",
    "            pass\n",
    "        else :\n",
    "            disc+=1\n",
    "    doubleAndtripple = len(re.findall(r'[eaoui][eaoui]',word))\n",
    "    tripple = len(re.findall(r'[eaoui][eaoui][eaoui]',word))\n",
    "    disc+=doubleAndtripple + tripple\n",
    "    numVowels = len(re.findall(r'[eaoui]',word))\n",
    "    if word[:2] == \"mc\" :\n",
    "        syls+=1\n",
    "    if word[-1:] == \"y\" and word[-2] not in \"aeoui\" :\n",
    "        syls +=1\n",
    "    for i,j in enumerate(word) :\n",
    "        if j == \"y\" :\n",
    "            if (i != 0) and (i != len(word)-1) :\n",
    "                if word[i-1] not in \"aeoui\" and word[i+1] not in \"aeoui\" :\n",
    "                    syls+=1\n",
    "    if word[:3] == \"tri\" and word[3] in \"aeoui\" :\n",
    "        syls+=1\n",
    "    if word[:2] == \"bi\" and word[2] in \"aeoui\" :\n",
    "        syls+=1\n",
    "    if word[-3:] == \"ian\" :\n",
    "        if word[-4:] == \"cian\" or word[-4:] == \"tian\" :\n",
    "            pass\n",
    "        else:\n",
    "            syls+=1\n",
    "    if word[:2] == \"co\" and word[2] in 'eaoui' :\n",
    "        if word[:4] in co_two or word[:5] in co_two or word[:6] in co_two :\n",
    "            syls+=1\n",
    "        elif word[:4] in co_one or word[:5] in co_one or word[:6] in co_one :\n",
    "            pass\n",
    "        else :\n",
    "            syls+=1\n",
    "    if word[:3] == \"pre\" and word[3] in 'eaoui' :\n",
    "        if word[:6] in pre_one :\n",
    "            pass\n",
    "        else :\n",
    "            syls+=1\n",
    "    negative = [\"doesn't\", \"isn't\", \"shouldn't\", \"couldn't\",\"wouldn't\"]\n",
    "    if word[-3:] == \"n't\" :\n",
    "        if word in negative :\n",
    "            syls+=1\n",
    "        else :\n",
    "            pass\n",
    "    if word in exception_del :\n",
    "        disc+=1\n",
    "    if word in exception_add :\n",
    "        syls+=1\n",
    "    return (numVowels - disc + syls)"
   ]
  },
  {
   "cell_type": "code",
   "execution_count": 68,
   "metadata": {},
   "outputs": [],
   "source": [
    "#function to calculate total number of syllables \n",
    "def tot_syl_counter(list_words):\n",
    "    counter = 0\n",
    "    for word in list_words:\n",
    "        if word not in ['facbooolink', 'youtubelink', 'twitterlink', 'bitlyylinkk', 'tmsnrtlinnk']:\n",
    "            sill = sylco(word)\n",
    "            counter += sill\n",
    "    return counter\n",
    "\n",
    "#function to calculate poly-syllables, more than one sullable\n",
    "def tot_POLY_syl_counter(list_words):\n",
    "    counter = 0\n",
    "    for word in list_words:\n",
    "        if word not in ['facbooolink', 'youtubelink', 'twitterlink', 'bitlyylinkk', 'tmsnrtlinnk']:\n",
    "            sill = sylco(word)\n",
    "            if sill >1:\n",
    "                counter += 1\n",
    "    return counter\n",
    "\n",
    "# complex words : words with >3 sillables\n",
    "def complex_words_c(list_words):\n",
    "    counter = 0\n",
    "    for word in list_words:\n",
    "        if word not in ['facbooolink', 'youtubelink', 'twitterlink', 'bitlyylinkk', 'tmsnrtlinnk']:\n",
    "            sill = sylco(word)\n",
    "            if sill >3:\n",
    "                counter += 1\n",
    "    return counter\n",
    "\n",
    "# long words: words longer than 6 characters\n",
    "def long_word(list_words):\n",
    "    counter = 0\n",
    "    for word in list_words:\n",
    "        if word not in ['facbooolink', 'youtubelink', 'twitterlink', 'bitlyylinkk', 'tmsnrtlinnk']:\n",
    "            if len(word) >6:\n",
    "                counter += 1\n",
    "    return counter\n",
    "            \n",
    "    "
   ]
  },
  {
   "cell_type": "code",
   "execution_count": 69,
   "metadata": {},
   "outputs": [],
   "source": [
    "#Add number of syllables for text and title\n",
    "final_df2['syllables_title'] = final_df2['words_in_title_split'].apply(lambda stt: tot_syl_counter(stt))\n",
    "final_df2['syllables_text'] = final_df2['words_in_text_split'].apply(lambda stt: tot_syl_counter(stt))"
   ]
  },
  {
   "cell_type": "code",
   "execution_count": 70,
   "metadata": {},
   "outputs": [],
   "source": [
    "#Add number of POLY_syllables for text and title\n",
    "final_df2['Poly_syllables_title'] = final_df2['words_in_title_split'].apply(lambda stt: tot_POLY_syl_counter(stt))\n",
    "final_df2['Poly_syllables_text'] = final_df2['words_in_text_split'].apply(lambda stt: tot_POLY_syl_counter(stt))"
   ]
  },
  {
   "cell_type": "code",
   "execution_count": 71,
   "metadata": {},
   "outputs": [],
   "source": [
    "#Add number of complex words (> 3 syllables) for text and title\n",
    "final_df2['Complex_words_title'] = final_df2['words_in_title_split'].apply(lambda stt: complex_words_c(stt))\n",
    "final_df2['Complex_words_text'] = final_df2['words_in_text_split'].apply(lambda stt: complex_words_c(stt))"
   ]
  },
  {
   "cell_type": "code",
   "execution_count": 72,
   "metadata": {},
   "outputs": [],
   "source": [
    "#Add number of long words (> 6 letters long) for text and title\n",
    "final_df2['Long_words_title'] = final_df2['words_in_title_split'].apply(lambda stt: long_word(stt))\n",
    "final_df2['Long_words_text'] = final_df2['words_in_text_split'].apply(lambda stt: long_word(stt))"
   ]
  },
  {
   "cell_type": "code",
   "execution_count": 73,
   "metadata": {
    "scrolled": true
   },
   "outputs": [
    {
     "data": {
      "text/html": [
       "<div>\n",
       "<style scoped>\n",
       "    .dataframe tbody tr th:only-of-type {\n",
       "        vertical-align: middle;\n",
       "    }\n",
       "\n",
       "    .dataframe tbody tr th {\n",
       "        vertical-align: top;\n",
       "    }\n",
       "\n",
       "    .dataframe thead th {\n",
       "        text-align: right;\n",
       "    }\n",
       "</style>\n",
       "<table border=\"1\" class=\"dataframe\">\n",
       "  <thead>\n",
       "    <tr style=\"text-align: right;\">\n",
       "      <th></th>\n",
       "      <th>text</th>\n",
       "      <th>title</th>\n",
       "      <th>Real_Fake</th>\n",
       "      <th>Cat_Government News</th>\n",
       "      <th>Cat_Middle-east</th>\n",
       "      <th>Cat_News</th>\n",
       "      <th>Cat_US_News</th>\n",
       "      <th>Cat_left-news</th>\n",
       "      <th>Cat_politics</th>\n",
       "      <th>Cat_politicsNews</th>\n",
       "      <th>Cat_worldnews</th>\n",
       "      <th>sent_title</th>\n",
       "      <th>sent_text</th>\n",
       "      <th>words_in_title</th>\n",
       "      <th>char_title</th>\n",
       "      <th>words_in_text</th>\n",
       "      <th>char_text</th>\n",
       "      <th>Count_words_title</th>\n",
       "      <th>Count_words_text</th>\n",
       "      <th>syllables_title</th>\n",
       "      <th>syllables_text</th>\n",
       "      <th>Poly_syllables_title</th>\n",
       "      <th>Poly_syllables_text</th>\n",
       "      <th>Complex_words_title</th>\n",
       "      <th>Complex_words_text</th>\n",
       "      <th>Long_words_title</th>\n",
       "      <th>Long_words_text</th>\n",
       "    </tr>\n",
       "    <tr>\n",
       "      <th>date</th>\n",
       "      <th></th>\n",
       "      <th></th>\n",
       "      <th></th>\n",
       "      <th></th>\n",
       "      <th></th>\n",
       "      <th></th>\n",
       "      <th></th>\n",
       "      <th></th>\n",
       "      <th></th>\n",
       "      <th></th>\n",
       "      <th></th>\n",
       "      <th></th>\n",
       "      <th></th>\n",
       "      <th></th>\n",
       "      <th></th>\n",
       "      <th></th>\n",
       "      <th></th>\n",
       "      <th></th>\n",
       "      <th></th>\n",
       "      <th></th>\n",
       "      <th></th>\n",
       "      <th></th>\n",
       "      <th></th>\n",
       "      <th></th>\n",
       "      <th></th>\n",
       "      <th></th>\n",
       "      <th></th>\n",
       "    </tr>\n",
       "  </thead>\n",
       "  <tbody>\n",
       "    <tr>\n",
       "      <th>2015-03-31</th>\n",
       "      <td>the irony here is not lost on us. hillary is ...</td>\n",
       "      <td>hillary rodham nixon: a candidate with more b...</td>\n",
       "      <td>1</td>\n",
       "      <td>0</td>\n",
       "      <td>0</td>\n",
       "      <td>0</td>\n",
       "      <td>0</td>\n",
       "      <td>1</td>\n",
       "      <td>1</td>\n",
       "      <td>0</td>\n",
       "      <td>0</td>\n",
       "      <td>1</td>\n",
       "      <td>17</td>\n",
       "      <td>hillary rodham nixon a candidate with more ba...</td>\n",
       "      <td>64</td>\n",
       "      <td>the irony here is not lost on us hillary is b...</td>\n",
       "      <td>1626</td>\n",
       "      <td>12</td>\n",
       "      <td>319</td>\n",
       "      <td>23</td>\n",
       "      <td>536</td>\n",
       "      <td>7</td>\n",
       "      <td>132</td>\n",
       "      <td>0</td>\n",
       "      <td>21</td>\n",
       "      <td>5</td>\n",
       "      <td>92</td>\n",
       "    </tr>\n",
       "    <tr>\n",
       "      <th>2015-03-31</th>\n",
       "      <td>in case you missed it sen. harry reid (r-nv),...</td>\n",
       "      <td>watch dirty harry reid on his lie about romne...</td>\n",
       "      <td>1</td>\n",
       "      <td>0</td>\n",
       "      <td>0</td>\n",
       "      <td>0</td>\n",
       "      <td>0</td>\n",
       "      <td>1</td>\n",
       "      <td>1</td>\n",
       "      <td>0</td>\n",
       "      <td>0</td>\n",
       "      <td>1</td>\n",
       "      <td>8</td>\n",
       "      <td>watch dirty harry reid on his lie about romne...</td>\n",
       "      <td>60</td>\n",
       "      <td>in case you missed it sen harry reid nv who a...</td>\n",
       "      <td>500</td>\n",
       "      <td>16</td>\n",
       "      <td>122</td>\n",
       "      <td>20</td>\n",
       "      <td>159</td>\n",
       "      <td>4</td>\n",
       "      <td>28</td>\n",
       "      <td>0</td>\n",
       "      <td>3</td>\n",
       "      <td>0</td>\n",
       "      <td>13</td>\n",
       "    </tr>\n",
       "  </tbody>\n",
       "</table>\n",
       "</div>"
      ],
      "text/plain": [
       "                                                         text  \\\n",
       "date                                                            \n",
       "2015-03-31   the irony here is not lost on us. hillary is ...   \n",
       "2015-03-31   in case you missed it sen. harry reid (r-nv),...   \n",
       "\n",
       "                                                        title  Real_Fake  \\\n",
       "date                                                                       \n",
       "2015-03-31   hillary rodham nixon: a candidate with more b...          1   \n",
       "2015-03-31   watch dirty harry reid on his lie about romne...          1   \n",
       "\n",
       "            Cat_Government News  Cat_Middle-east  Cat_News  Cat_US_News  \\\n",
       "date                                                                      \n",
       "2015-03-31                    0                0         0            0   \n",
       "2015-03-31                    0                0         0            0   \n",
       "\n",
       "            Cat_left-news  Cat_politics  Cat_politicsNews  Cat_worldnews  \\\n",
       "date                                                                       \n",
       "2015-03-31              1             1                 0              0   \n",
       "2015-03-31              1             1                 0              0   \n",
       "\n",
       "            sent_title  sent_text  \\\n",
       "date                                \n",
       "2015-03-31           1         17   \n",
       "2015-03-31           1          8   \n",
       "\n",
       "                                               words_in_title  char_title  \\\n",
       "date                                                                        \n",
       "2015-03-31   hillary rodham nixon a candidate with more ba...          64   \n",
       "2015-03-31   watch dirty harry reid on his lie about romne...          60   \n",
       "\n",
       "                                                words_in_text  char_text  \\\n",
       "date                                                                       \n",
       "2015-03-31   the irony here is not lost on us hillary is b...       1626   \n",
       "2015-03-31   in case you missed it sen harry reid nv who a...        500   \n",
       "\n",
       "            Count_words_title  Count_words_text  syllables_title  \\\n",
       "date                                                               \n",
       "2015-03-31                 12               319               23   \n",
       "2015-03-31                 16               122               20   \n",
       "\n",
       "            syllables_text  Poly_syllables_title  Poly_syllables_text  \\\n",
       "date                                                                    \n",
       "2015-03-31             536                     7                  132   \n",
       "2015-03-31             159                     4                   28   \n",
       "\n",
       "            Complex_words_title  Complex_words_text  Long_words_title  \\\n",
       "date                                                                    \n",
       "2015-03-31                    0                  21                 5   \n",
       "2015-03-31                    0                   3                 0   \n",
       "\n",
       "            Long_words_text  \n",
       "date                         \n",
       "2015-03-31               92  \n",
       "2015-03-31               13  "
      ]
     },
     "execution_count": 73,
     "metadata": {},
     "output_type": "execute_result"
    }
   ],
   "source": [
    "del final_df2['words_in_text_split']\n",
    "del final_df2['words_in_title_split']\n",
    "\n",
    "final_df2.head(2)"
   ]
  },
  {
   "cell_type": "markdown",
   "metadata": {},
   "source": [
    "###  Indexes Calculation"
   ]
  },
  {
   "cell_type": "code",
   "execution_count": 74,
   "metadata": {},
   "outputs": [],
   "source": [
    "# Calculate linguistic indexes for the title\n",
    "import numpy\n",
    "final_df2['Flesh_Kin_Grade_title'] = 0.39 * final_df2['Count_words_title'] / final_df2['sent_title'] +11.8 * final_df2['syllables_title'] / final_df2['Count_words_title'] - 15.59\n",
    "final_df2['Flesh_Read_easy_title'] = 206.835 -1.015 * final_df2['Count_words_title'] /final_df2['sent_title'] -84.6 * final_df2['syllables_title'] / final_df2['Count_words_title']\n",
    "final_df2['smog_title'] = 1.0430 * numpy.sqrt(final_df2['Poly_syllables_title'] * 30 / final_df2['sent_title'] + 3.1291)\n",
    "final_df2['Gunning_fox_title'] = 0.4 * (final_df2['Count_words_title'] / final_df2['sent_title'] + 100 *  final_df2['Complex_words_title'] / final_df2['Count_words_title'])\n",
    "final_df2['CLI_title'] = 0.0588  * final_df2['char_title'] / final_df2['Count_words_title'] - 0.296 * final_df2['sent_title'] / final_df2['Count_words_title']  - 15.8\n",
    "final_df2['ARI_title'] = 4.71 * final_df2['char_title'] / final_df2['Count_words_title'] + 0.5 *  final_df2['Count_words_title'] / final_df2['sent_title'] -21.43 \n",
    "final_df2['LIX_title'] = final_df2['Count_words_title'] / final_df2['sent_title'] + 100 *  final_df2['Long_words_title'] / final_df2['Count_words_title']\n",
    "final_df2['Gulpease_title'] = 89 + (300 * final_df2['sent_title'] - 10 * final_df2['char_title'] ) / final_df2['Count_words_title']\n",
    "\n"
   ]
  },
  {
   "cell_type": "code",
   "execution_count": 75,
   "metadata": {},
   "outputs": [],
   "source": [
    "# Calculate linguistic indexes for the text \n",
    "final_df2['Flesh_Kin_Grade_text'] = 0.39 * final_df2['Count_words_text'] / final_df2['sent_text'] + 11.8 * final_df2['syllables_text'] / final_df2['Count_words_text'] - 15.59\n",
    "final_df2['Flesh_Read_easy_text'] = 206.835 -1.015 * final_df2['Count_words_text'] / final_df2['sent_text'] -84.6 * final_df2['syllables_text'] / final_df2['Count_words_text']\n",
    "final_df2['smog_text'] = 1.0430 * numpy.sqrt(final_df2['Poly_syllables_text'] * 30 / final_df2['sent_text'] + 3.1291)\n",
    "final_df2['Gunning_fox_text'] = 0.4 * (final_df2['Count_words_text'] / final_df2['sent_text'] + 100 *  final_df2['Complex_words_text'] / final_df2['Count_words_text'])\n",
    "final_df2['CLI_text'] = 0.0588  * final_df2['char_text'] / final_df2['Count_words_text'] - 0.296 * final_df2['sent_text'] / final_df2['Count_words_text']  - 15.8\n",
    "final_df2['ARI_text'] = 4.71 * final_df2['char_text'] / final_df2['Count_words_text'] + 0.5 *  final_df2['Count_words_text'] / final_df2['sent_text'] -21.43 \n",
    "final_df2['LIX_text'] = final_df2['Count_words_text'] / final_df2['sent_text'] + 100 *  final_df2['Long_words_text']/ final_df2['Count_words_text']\n",
    "final_df2['Gulpease_text'] = 89 + (300 * final_df2['sent_text'] - 10 * final_df2['char_text'] ) / final_df2['Count_words_text']"
   ]
  },
  {
   "cell_type": "code",
   "execution_count": 76,
   "metadata": {
    "scrolled": true
   },
   "outputs": [
    {
     "data": {
      "text/html": [
       "<div>\n",
       "<style scoped>\n",
       "    .dataframe tbody tr th:only-of-type {\n",
       "        vertical-align: middle;\n",
       "    }\n",
       "\n",
       "    .dataframe tbody tr th {\n",
       "        vertical-align: top;\n",
       "    }\n",
       "\n",
       "    .dataframe thead th {\n",
       "        text-align: right;\n",
       "    }\n",
       "</style>\n",
       "<table border=\"1\" class=\"dataframe\">\n",
       "  <thead>\n",
       "    <tr style=\"text-align: right;\">\n",
       "      <th></th>\n",
       "      <th>text</th>\n",
       "      <th>title</th>\n",
       "      <th>Real_Fake</th>\n",
       "      <th>Cat_Government News</th>\n",
       "      <th>Cat_Middle-east</th>\n",
       "      <th>Cat_News</th>\n",
       "      <th>Cat_US_News</th>\n",
       "      <th>Cat_left-news</th>\n",
       "      <th>Cat_politics</th>\n",
       "      <th>Cat_politicsNews</th>\n",
       "      <th>Cat_worldnews</th>\n",
       "      <th>sent_title</th>\n",
       "      <th>sent_text</th>\n",
       "      <th>words_in_title</th>\n",
       "      <th>char_title</th>\n",
       "      <th>words_in_text</th>\n",
       "      <th>char_text</th>\n",
       "      <th>Count_words_title</th>\n",
       "      <th>Count_words_text</th>\n",
       "      <th>syllables_title</th>\n",
       "      <th>syllables_text</th>\n",
       "      <th>Poly_syllables_title</th>\n",
       "      <th>Poly_syllables_text</th>\n",
       "      <th>Complex_words_title</th>\n",
       "      <th>Complex_words_text</th>\n",
       "      <th>Long_words_title</th>\n",
       "      <th>Long_words_text</th>\n",
       "      <th>Flesh_Kin_Grade_title</th>\n",
       "      <th>Flesh_Read_easy_title</th>\n",
       "      <th>smog_title</th>\n",
       "      <th>Gunning_fox_title</th>\n",
       "      <th>CLI_title</th>\n",
       "      <th>ARI_title</th>\n",
       "      <th>LIX_title</th>\n",
       "      <th>Gulpease_title</th>\n",
       "      <th>Flesh_Kin_Grade_text</th>\n",
       "      <th>Flesh_Read_easy_text</th>\n",
       "      <th>smog_text</th>\n",
       "      <th>Gunning_fox_text</th>\n",
       "      <th>CLI_text</th>\n",
       "      <th>ARI_text</th>\n",
       "      <th>LIX_text</th>\n",
       "      <th>Gulpease_text</th>\n",
       "    </tr>\n",
       "    <tr>\n",
       "      <th>date</th>\n",
       "      <th></th>\n",
       "      <th></th>\n",
       "      <th></th>\n",
       "      <th></th>\n",
       "      <th></th>\n",
       "      <th></th>\n",
       "      <th></th>\n",
       "      <th></th>\n",
       "      <th></th>\n",
       "      <th></th>\n",
       "      <th></th>\n",
       "      <th></th>\n",
       "      <th></th>\n",
       "      <th></th>\n",
       "      <th></th>\n",
       "      <th></th>\n",
       "      <th></th>\n",
       "      <th></th>\n",
       "      <th></th>\n",
       "      <th></th>\n",
       "      <th></th>\n",
       "      <th></th>\n",
       "      <th></th>\n",
       "      <th></th>\n",
       "      <th></th>\n",
       "      <th></th>\n",
       "      <th></th>\n",
       "      <th></th>\n",
       "      <th></th>\n",
       "      <th></th>\n",
       "      <th></th>\n",
       "      <th></th>\n",
       "      <th></th>\n",
       "      <th></th>\n",
       "      <th></th>\n",
       "      <th></th>\n",
       "      <th></th>\n",
       "      <th></th>\n",
       "      <th></th>\n",
       "      <th></th>\n",
       "      <th></th>\n",
       "      <th></th>\n",
       "      <th></th>\n",
       "    </tr>\n",
       "  </thead>\n",
       "  <tbody>\n",
       "    <tr>\n",
       "      <th>2015-03-31</th>\n",
       "      <td>the irony here is not lost on us. hillary is ...</td>\n",
       "      <td>hillary rodham nixon: a candidate with more b...</td>\n",
       "      <td>1</td>\n",
       "      <td>0</td>\n",
       "      <td>0</td>\n",
       "      <td>0</td>\n",
       "      <td>0</td>\n",
       "      <td>1</td>\n",
       "      <td>1</td>\n",
       "      <td>0</td>\n",
       "      <td>0</td>\n",
       "      <td>1</td>\n",
       "      <td>17</td>\n",
       "      <td>hillary rodham nixon a candidate with more ba...</td>\n",
       "      <td>64</td>\n",
       "      <td>the irony here is not lost on us hillary is b...</td>\n",
       "      <td>1626</td>\n",
       "      <td>12</td>\n",
       "      <td>319</td>\n",
       "      <td>23</td>\n",
       "      <td>536</td>\n",
       "      <td>7</td>\n",
       "      <td>132</td>\n",
       "      <td>0</td>\n",
       "      <td>21</td>\n",
       "      <td>5</td>\n",
       "      <td>92</td>\n",
       "      <td>11.706667</td>\n",
       "      <td>32.505</td>\n",
       "      <td>15.226696</td>\n",
       "      <td>4.8</td>\n",
       "      <td>-15.511067</td>\n",
       "      <td>9.6900</td>\n",
       "      <td>53.666667</td>\n",
       "      <td>60.666667</td>\n",
       "      <td>11.555195</td>\n",
       "      <td>45.639607</td>\n",
       "      <td>16.025256</td>\n",
       "      <td>10.139111</td>\n",
       "      <td>-15.516060</td>\n",
       "      <td>11.960065</td>\n",
       "      <td>47.604831</td>\n",
       "      <td>54.015674</td>\n",
       "    </tr>\n",
       "    <tr>\n",
       "      <th>2015-03-31</th>\n",
       "      <td>in case you missed it sen. harry reid (r-nv),...</td>\n",
       "      <td>watch dirty harry reid on his lie about romne...</td>\n",
       "      <td>1</td>\n",
       "      <td>0</td>\n",
       "      <td>0</td>\n",
       "      <td>0</td>\n",
       "      <td>0</td>\n",
       "      <td>1</td>\n",
       "      <td>1</td>\n",
       "      <td>0</td>\n",
       "      <td>0</td>\n",
       "      <td>1</td>\n",
       "      <td>8</td>\n",
       "      <td>watch dirty harry reid on his lie about romne...</td>\n",
       "      <td>60</td>\n",
       "      <td>in case you missed it sen harry reid nv who a...</td>\n",
       "      <td>500</td>\n",
       "      <td>16</td>\n",
       "      <td>122</td>\n",
       "      <td>20</td>\n",
       "      <td>159</td>\n",
       "      <td>4</td>\n",
       "      <td>28</td>\n",
       "      <td>0</td>\n",
       "      <td>3</td>\n",
       "      <td>0</td>\n",
       "      <td>13</td>\n",
       "      <td>5.400000</td>\n",
       "      <td>84.845</td>\n",
       "      <td>11.573499</td>\n",
       "      <td>6.4</td>\n",
       "      <td>-15.598000</td>\n",
       "      <td>4.2325</td>\n",
       "      <td>16.000000</td>\n",
       "      <td>70.250000</td>\n",
       "      <td>5.736189</td>\n",
       "      <td>81.098873</td>\n",
       "      <td>10.845650</td>\n",
       "      <td>7.083607</td>\n",
       "      <td>-15.578426</td>\n",
       "      <td>5.498279</td>\n",
       "      <td>25.905738</td>\n",
       "      <td>67.688525</td>\n",
       "    </tr>\n",
       "  </tbody>\n",
       "</table>\n",
       "</div>"
      ],
      "text/plain": [
       "                                                         text  \\\n",
       "date                                                            \n",
       "2015-03-31   the irony here is not lost on us. hillary is ...   \n",
       "2015-03-31   in case you missed it sen. harry reid (r-nv),...   \n",
       "\n",
       "                                                        title  Real_Fake  \\\n",
       "date                                                                       \n",
       "2015-03-31   hillary rodham nixon: a candidate with more b...          1   \n",
       "2015-03-31   watch dirty harry reid on his lie about romne...          1   \n",
       "\n",
       "            Cat_Government News  Cat_Middle-east  Cat_News  Cat_US_News  \\\n",
       "date                                                                      \n",
       "2015-03-31                    0                0         0            0   \n",
       "2015-03-31                    0                0         0            0   \n",
       "\n",
       "            Cat_left-news  Cat_politics  Cat_politicsNews  Cat_worldnews  \\\n",
       "date                                                                       \n",
       "2015-03-31              1             1                 0              0   \n",
       "2015-03-31              1             1                 0              0   \n",
       "\n",
       "            sent_title  sent_text  \\\n",
       "date                                \n",
       "2015-03-31           1         17   \n",
       "2015-03-31           1          8   \n",
       "\n",
       "                                               words_in_title  char_title  \\\n",
       "date                                                                        \n",
       "2015-03-31   hillary rodham nixon a candidate with more ba...          64   \n",
       "2015-03-31   watch dirty harry reid on his lie about romne...          60   \n",
       "\n",
       "                                                words_in_text  char_text  \\\n",
       "date                                                                       \n",
       "2015-03-31   the irony here is not lost on us hillary is b...       1626   \n",
       "2015-03-31   in case you missed it sen harry reid nv who a...        500   \n",
       "\n",
       "            Count_words_title  Count_words_text  syllables_title  \\\n",
       "date                                                               \n",
       "2015-03-31                 12               319               23   \n",
       "2015-03-31                 16               122               20   \n",
       "\n",
       "            syllables_text  Poly_syllables_title  Poly_syllables_text  \\\n",
       "date                                                                    \n",
       "2015-03-31             536                     7                  132   \n",
       "2015-03-31             159                     4                   28   \n",
       "\n",
       "            Complex_words_title  Complex_words_text  Long_words_title  \\\n",
       "date                                                                    \n",
       "2015-03-31                    0                  21                 5   \n",
       "2015-03-31                    0                   3                 0   \n",
       "\n",
       "            Long_words_text  Flesh_Kin_Grade_title  Flesh_Read_easy_title  \\\n",
       "date                                                                        \n",
       "2015-03-31               92              11.706667                 32.505   \n",
       "2015-03-31               13               5.400000                 84.845   \n",
       "\n",
       "            smog_title  Gunning_fox_title  CLI_title  ARI_title  LIX_title  \\\n",
       "date                                                                         \n",
       "2015-03-31   15.226696                4.8 -15.511067     9.6900  53.666667   \n",
       "2015-03-31   11.573499                6.4 -15.598000     4.2325  16.000000   \n",
       "\n",
       "            Gulpease_title  Flesh_Kin_Grade_text  Flesh_Read_easy_text  \\\n",
       "date                                                                     \n",
       "2015-03-31       60.666667             11.555195             45.639607   \n",
       "2015-03-31       70.250000              5.736189             81.098873   \n",
       "\n",
       "            smog_text  Gunning_fox_text   CLI_text   ARI_text   LIX_text  \\\n",
       "date                                                                       \n",
       "2015-03-31  16.025256         10.139111 -15.516060  11.960065  47.604831   \n",
       "2015-03-31  10.845650          7.083607 -15.578426   5.498279  25.905738   \n",
       "\n",
       "            Gulpease_text  \n",
       "date                       \n",
       "2015-03-31      54.015674  \n",
       "2015-03-31      67.688525  "
      ]
     },
     "execution_count": 76,
     "metadata": {},
     "output_type": "execute_result"
    }
   ],
   "source": [
    "final_df2.head(2)"
   ]
  },
  {
   "cell_type": "markdown",
   "metadata": {},
   "source": [
    "## Removing Stop words"
   ]
  },
  {
   "cell_type": "code",
   "execution_count": 77,
   "metadata": {},
   "outputs": [],
   "source": [
    "import nltk\n",
    "from nltk.corpus import stopwords\n",
    "from nltk.tokenize import word_tokenize\n",
    "stop_words = set(stopwords.words('english'))\n",
    "final_df2['title_nlp'] = final_df2['words_in_title'].apply(lambda x : [i for i in word_tokenize(x) if i not in stop_words])\n",
    "final_df2['text_nlp'] = final_df2['words_in_text'].apply(lambda x : [i for i in word_tokenize(x) if i not in stop_words])"
   ]
  },
  {
   "cell_type": "code",
   "execution_count": 78,
   "metadata": {
    "scrolled": true
   },
   "outputs": [
    {
     "name": "stdout",
     "output_type": "stream",
     "text": [
      "['irony', 'lost', 'us', 'hillary', 'compared', 'president', 'wanted', 'take', 'nixon', 'got', 'nothing', 'criminal', 'wiped', 'server', 'clean', 'emails', 'requested', 'john', 'fund', 'questions', 'democrat', 'strategy', 'support', 'nixonian', 'type', 'candidate', 'baggage', 'samsonite', 'factory', 'secretive', 'scandal', 'plagued', 'seemingly', 'inevitable', 'ever', 'since', 'hillary', 'clinton', 'email', 'scandal', 'broke', 'comparisons', 'secretive', 'style', 'richard', 'nixon', 'ironically', 'pursued', 'young', 'lawyer', 'house', 'impeachment', 'committee', 'frequent', 'revelation', 'wiped', 'private', 'email', 'server', 'clean', 'records', 'requested', 'state', 'department', 'last', 'year', 'comparisons', 'becoming', 'concrete', 'washington', 'wags', 'note', 'even', 'nixon', 'never', 'destroyed', 'tapes', 'hillary', 'permanently', 'erased', 'emails', 'exactly', 'would', 'hillary', 'presidency', 'look', 'like', 'could', 'plunge', 'nation', 'another', 'round', 'debilitating', 'clinton', 'scandals', 'question', 'democrats', 'ask', 'hand', 'nomination', 'many', 'democrats', 'reservations', 'hillary', 'cozy', 'relations', 'wall', 'street', 'vote', 'iraq', 'war', 'clinton', 'couple', 'flexibility', 'issues', 'love', 'winning', 'masters', 'hillary', 'maybe', 'even', 'bill', 'belief', 'system', 'noted', 'liberal', 'rolling', 'stone', 'magazine', 'usa', 'democrats', 'also', 'want', 'hillary', 'challenged', 'nixonian', 'penchant', 'slipperiness', 'questionable', 'fundraising', 'strong', 'primary', 'challenge', 'provided', 'clues', 'would', 'run', 'general', 'election', 'something', 'democrats', 'know', 'first', 'clinton', 'presidency', 'good', 'clintons', 'democratic', 'party', 'lost', 'houses', 'congress', 'along', 'majority', 'nation', 'governorships', 'time', 'economic', 'prosperity', 'peace', 'read', 'national', 'review']\n"
     ]
    }
   ],
   "source": [
    "print(final_df2.iloc[0,-1])"
   ]
  },
  {
   "cell_type": "markdown",
   "metadata": {},
   "source": [
    "# Stemming "
   ]
  },
  {
   "cell_type": "code",
   "execution_count": 79,
   "metadata": {},
   "outputs": [],
   "source": [
    "from nltk.stem import PorterStemmer\n",
    "stemmer = PorterStemmer()\n",
    "final_df2['title_nlp_stem'] = final_df2['title_nlp'].apply(lambda x : [stemmer.stem(i) for i in x])\n",
    "final_df2['text_nlp_stem'] = final_df2['text_nlp'].apply(lambda x : [stemmer.stem(i) for i in x])"
   ]
  },
  {
   "cell_type": "code",
   "execution_count": 80,
   "metadata": {
    "scrolled": true
   },
   "outputs": [
    {
     "name": "stdout",
     "output_type": "stream",
     "text": [
      "['ironi', 'lost', 'us', 'hillari', 'compar', 'presid', 'want', 'take', 'nixon', 'got', 'noth', 'crimin', 'wipe', 'server', 'clean', 'email', 'request', 'john', 'fund', 'question', 'democrat', 'strategi', 'support', 'nixonian', 'type', 'candid', 'baggag', 'samsonit', 'factori', 'secret', 'scandal', 'plagu', 'seemingli', 'inevit', 'ever', 'sinc', 'hillari', 'clinton', 'email', 'scandal', 'broke', 'comparison', 'secret', 'style', 'richard', 'nixon', 'iron', 'pursu', 'young', 'lawyer', 'hous', 'impeach', 'committe', 'frequent', 'revel', 'wipe', 'privat', 'email', 'server', 'clean', 'record', 'request', 'state', 'depart', 'last', 'year', 'comparison', 'becom', 'concret', 'washington', 'wag', 'note', 'even', 'nixon', 'never', 'destroy', 'tape', 'hillari', 'perman', 'eras', 'email', 'exactli', 'would', 'hillari', 'presid', 'look', 'like', 'could', 'plung', 'nation', 'anoth', 'round', 'debilit', 'clinton', 'scandal', 'question', 'democrat', 'ask', 'hand', 'nomin', 'mani', 'democrat', 'reserv', 'hillari', 'cozi', 'relat', 'wall', 'street', 'vote', 'iraq', 'war', 'clinton', 'coupl', 'flexibl', 'issu', 'love', 'win', 'master', 'hillari', 'mayb', 'even', 'bill', 'belief', 'system', 'note', 'liber', 'roll', 'stone', 'magazin', 'usa', 'democrat', 'also', 'want', 'hillari', 'challeng', 'nixonian', 'penchant', 'slipperi', 'question', 'fundrais', 'strong', 'primari', 'challeng', 'provid', 'clue', 'would', 'run', 'gener', 'elect', 'someth', 'democrat', 'know', 'first', 'clinton', 'presid', 'good', 'clinton', 'democrat', 'parti', 'lost', 'hous', 'congress', 'along', 'major', 'nation', 'governorship', 'time', 'econom', 'prosper', 'peac', 'read', 'nation', 'review']\n"
     ]
    }
   ],
   "source": [
    "print(final_df2.iloc[0,-1])"
   ]
  },
  {
   "cell_type": "markdown",
   "metadata": {},
   "source": [
    "# Lemmatization"
   ]
  },
  {
   "cell_type": "code",
   "execution_count": 81,
   "metadata": {},
   "outputs": [],
   "source": [
    "from nltk.stem import WordNetLemmatizer\n",
    "lemmatizer = WordNetLemmatizer()\n",
    "final_df2['title_nlp_lem'] = final_df2['title_nlp'].apply(lambda x : [lemmatizer.lemmatize(i, 'v') for i in x])\n",
    "final_df2['text_nlp_lem'] = final_df2['text_nlp'].apply(lambda x : [lemmatizer.lemmatize(i, 'v') for i in x])"
   ]
  },
  {
   "cell_type": "code",
   "execution_count": 82,
   "metadata": {
    "scrolled": false
   },
   "outputs": [
    {
     "name": "stdout",
     "output_type": "stream",
     "text": [
      "['irony', 'lose', 'us', 'hillary', 'compare', 'president', 'want', 'take', 'nixon', 'get', 'nothing', 'criminal', 'wipe', 'server', 'clean', 'email', 'request', 'john', 'fund', 'question', 'democrat', 'strategy', 'support', 'nixonian', 'type', 'candidate', 'baggage', 'samsonite', 'factory', 'secretive', 'scandal', 'plague', 'seemingly', 'inevitable', 'ever', 'since', 'hillary', 'clinton', 'email', 'scandal', 'break', 'comparisons', 'secretive', 'style', 'richard', 'nixon', 'ironically', 'pursue', 'young', 'lawyer', 'house', 'impeachment', 'committee', 'frequent', 'revelation', 'wipe', 'private', 'email', 'server', 'clean', 'record', 'request', 'state', 'department', 'last', 'year', 'comparisons', 'become', 'concrete', 'washington', 'wag', 'note', 'even', 'nixon', 'never', 'destroy', 'tap', 'hillary', 'permanently', 'erase', 'email', 'exactly', 'would', 'hillary', 'presidency', 'look', 'like', 'could', 'plunge', 'nation', 'another', 'round', 'debilitate', 'clinton', 'scandals', 'question', 'democrats', 'ask', 'hand', 'nomination', 'many', 'democrats', 'reservations', 'hillary', 'cozy', 'relations', 'wall', 'street', 'vote', 'iraq', 'war', 'clinton', 'couple', 'flexibility', 'issue', 'love', 'win', 'master', 'hillary', 'maybe', 'even', 'bill', 'belief', 'system', 'note', 'liberal', 'roll', 'stone', 'magazine', 'usa', 'democrats', 'also', 'want', 'hillary', 'challenge', 'nixonian', 'penchant', 'slipperiness', 'questionable', 'fundraise', 'strong', 'primary', 'challenge', 'provide', 'clue', 'would', 'run', 'general', 'election', 'something', 'democrats', 'know', 'first', 'clinton', 'presidency', 'good', 'clintons', 'democratic', 'party', 'lose', 'house', 'congress', 'along', 'majority', 'nation', 'governorships', 'time', 'economic', 'prosperity', 'peace', 'read', 'national', 'review']\n"
     ]
    }
   ],
   "source": [
    "print(final_df2.iloc[0,-1])"
   ]
  },
  {
   "cell_type": "markdown",
   "metadata": {},
   "source": [
    "# Checking how the indexes relate to each other"
   ]
  },
  {
   "cell_type": "markdown",
   "metadata": {},
   "source": [
    "## In the title "
   ]
  },
  {
   "cell_type": "code",
   "execution_count": 83,
   "metadata": {},
   "outputs": [
    {
     "data": {
      "text/html": [
       "<div>\n",
       "<style scoped>\n",
       "    .dataframe tbody tr th:only-of-type {\n",
       "        vertical-align: middle;\n",
       "    }\n",
       "\n",
       "    .dataframe tbody tr th {\n",
       "        vertical-align: top;\n",
       "    }\n",
       "\n",
       "    .dataframe thead th {\n",
       "        text-align: right;\n",
       "    }\n",
       "</style>\n",
       "<table border=\"1\" class=\"dataframe\">\n",
       "  <thead>\n",
       "    <tr style=\"text-align: right;\">\n",
       "      <th></th>\n",
       "      <th>Flesh_Kin_Grade_title</th>\n",
       "      <th>Flesh_Read_easy_title</th>\n",
       "      <th>smog_title</th>\n",
       "      <th>Gunning_fox_title</th>\n",
       "      <th>CLI_title</th>\n",
       "      <th>ARI_title</th>\n",
       "      <th>LIX_title</th>\n",
       "      <th>Gulpease_title</th>\n",
       "    </tr>\n",
       "  </thead>\n",
       "  <tbody>\n",
       "    <tr>\n",
       "      <th>Flesh_Kin_Grade_title</th>\n",
       "      <td>1.000000</td>\n",
       "      <td>-0.960391</td>\n",
       "      <td>0.713576</td>\n",
       "      <td>0.629025</td>\n",
       "      <td>0.785484</td>\n",
       "      <td>0.839633</td>\n",
       "      <td>0.721433</td>\n",
       "      <td>-0.625177</td>\n",
       "    </tr>\n",
       "    <tr>\n",
       "      <th>Flesh_Read_easy_title</th>\n",
       "      <td>-0.960391</td>\n",
       "      <td>1.000000</td>\n",
       "      <td>-0.562137</td>\n",
       "      <td>-0.530752</td>\n",
       "      <td>-0.836815</td>\n",
       "      <td>-0.789292</td>\n",
       "      <td>-0.729541</td>\n",
       "      <td>0.469826</td>\n",
       "    </tr>\n",
       "    <tr>\n",
       "      <th>smog_title</th>\n",
       "      <td>0.713576</td>\n",
       "      <td>-0.562137</td>\n",
       "      <td>1.000000</td>\n",
       "      <td>0.335493</td>\n",
       "      <td>0.477377</td>\n",
       "      <td>0.659814</td>\n",
       "      <td>0.495163</td>\n",
       "      <td>-0.739808</td>\n",
       "    </tr>\n",
       "    <tr>\n",
       "      <th>Gunning_fox_title</th>\n",
       "      <td>0.629025</td>\n",
       "      <td>-0.530752</td>\n",
       "      <td>0.335493</td>\n",
       "      <td>1.000000</td>\n",
       "      <td>0.389106</td>\n",
       "      <td>0.515967</td>\n",
       "      <td>0.317172</td>\n",
       "      <td>-0.500287</td>\n",
       "    </tr>\n",
       "    <tr>\n",
       "      <th>CLI_title</th>\n",
       "      <td>0.785484</td>\n",
       "      <td>-0.836815</td>\n",
       "      <td>0.477377</td>\n",
       "      <td>0.389106</td>\n",
       "      <td>1.000000</td>\n",
       "      <td>0.928072</td>\n",
       "      <td>0.794161</td>\n",
       "      <td>-0.609557</td>\n",
       "    </tr>\n",
       "    <tr>\n",
       "      <th>ARI_title</th>\n",
       "      <td>0.839633</td>\n",
       "      <td>-0.789292</td>\n",
       "      <td>0.659814</td>\n",
       "      <td>0.515967</td>\n",
       "      <td>0.928072</td>\n",
       "      <td>1.000000</td>\n",
       "      <td>0.791169</td>\n",
       "      <td>-0.756561</td>\n",
       "    </tr>\n",
       "    <tr>\n",
       "      <th>LIX_title</th>\n",
       "      <td>0.721433</td>\n",
       "      <td>-0.729541</td>\n",
       "      <td>0.495163</td>\n",
       "      <td>0.317172</td>\n",
       "      <td>0.794161</td>\n",
       "      <td>0.791169</td>\n",
       "      <td>1.000000</td>\n",
       "      <td>-0.515798</td>\n",
       "    </tr>\n",
       "    <tr>\n",
       "      <th>Gulpease_title</th>\n",
       "      <td>-0.625177</td>\n",
       "      <td>0.469826</td>\n",
       "      <td>-0.739808</td>\n",
       "      <td>-0.500287</td>\n",
       "      <td>-0.609557</td>\n",
       "      <td>-0.756561</td>\n",
       "      <td>-0.515798</td>\n",
       "      <td>1.000000</td>\n",
       "    </tr>\n",
       "  </tbody>\n",
       "</table>\n",
       "</div>"
      ],
      "text/plain": [
       "                       Flesh_Kin_Grade_title  Flesh_Read_easy_title  \\\n",
       "Flesh_Kin_Grade_title               1.000000              -0.960391   \n",
       "Flesh_Read_easy_title              -0.960391               1.000000   \n",
       "smog_title                          0.713576              -0.562137   \n",
       "Gunning_fox_title                   0.629025              -0.530752   \n",
       "CLI_title                           0.785484              -0.836815   \n",
       "ARI_title                           0.839633              -0.789292   \n",
       "LIX_title                           0.721433              -0.729541   \n",
       "Gulpease_title                     -0.625177               0.469826   \n",
       "\n",
       "                       smog_title  Gunning_fox_title  CLI_title  ARI_title  \\\n",
       "Flesh_Kin_Grade_title    0.713576           0.629025   0.785484   0.839633   \n",
       "Flesh_Read_easy_title   -0.562137          -0.530752  -0.836815  -0.789292   \n",
       "smog_title               1.000000           0.335493   0.477377   0.659814   \n",
       "Gunning_fox_title        0.335493           1.000000   0.389106   0.515967   \n",
       "CLI_title                0.477377           0.389106   1.000000   0.928072   \n",
       "ARI_title                0.659814           0.515967   0.928072   1.000000   \n",
       "LIX_title                0.495163           0.317172   0.794161   0.791169   \n",
       "Gulpease_title          -0.739808          -0.500287  -0.609557  -0.756561   \n",
       "\n",
       "                       LIX_title  Gulpease_title  \n",
       "Flesh_Kin_Grade_title   0.721433       -0.625177  \n",
       "Flesh_Read_easy_title  -0.729541        0.469826  \n",
       "smog_title              0.495163       -0.739808  \n",
       "Gunning_fox_title       0.317172       -0.500287  \n",
       "CLI_title               0.794161       -0.609557  \n",
       "ARI_title               0.791169       -0.756561  \n",
       "LIX_title               1.000000       -0.515798  \n",
       "Gulpease_title         -0.515798        1.000000  "
      ]
     },
     "execution_count": 83,
     "metadata": {},
     "output_type": "execute_result"
    },
    {
     "data": {
      "image/png": "[encoded data removed]",
      "text/plain": [
       "<Figure size 576x576 with 2 Axes>"
      ]
     },
     "metadata": {
      "needs_background": "light"
     },
     "output_type": "display_data"
    }
   ],
   "source": [
    "title_index = final_df2[['Flesh_Kin_Grade_title', 'Flesh_Read_easy_title', 'smog_title', 'Gunning_fox_title', 'CLI_title', 'ARI_title', 'LIX_title', 'Gulpease_title']]\n",
    "corr_title = title_index.corr()\n",
    "\n",
    "plt.figure(figsize =(8,8))\n",
    "ax = sns.heatmap(\n",
    "    corr_title, \n",
    "    vmin=-1, vmax=1, center=0,\n",
    "    cmap=sns.diverging_palette(20, 220, n=200), annot= True,\n",
    "    square=True)\n",
    "ax.set_xticklabels(\n",
    "    ax.get_xticklabels(),\n",
    "    rotation=45,\n",
    "    horizontalalignment='right');\n",
    "\n",
    "title_index.corr()"
   ]
  },
  {
   "cell_type": "code",
   "execution_count": 84,
   "metadata": {},
   "outputs": [],
   "source": [
    "# Only one index is strongly correlated with Flesh_Kin_Grade: Flesh_Read_easy_title\n",
    "# For title, I will keep Flesh_Kin_Grade, smog, Gunning_fox, CLI, ARI, LIX_title and Gulpease.\n",
    "# dropping Flesh_Read_easy_title\n",
    "final_df2.drop(columns =['Flesh_Read_easy_title'], inplace = True)"
   ]
  },
  {
   "cell_type": "markdown",
   "metadata": {},
   "source": [
    "## In the text "
   ]
  },
  {
   "cell_type": "code",
   "execution_count": 85,
   "metadata": {},
   "outputs": [
    {
     "data": {
      "text/html": [
       "<div>\n",
       "<style scoped>\n",
       "    .dataframe tbody tr th:only-of-type {\n",
       "        vertical-align: middle;\n",
       "    }\n",
       "\n",
       "    .dataframe tbody tr th {\n",
       "        vertical-align: top;\n",
       "    }\n",
       "\n",
       "    .dataframe thead th {\n",
       "        text-align: right;\n",
       "    }\n",
       "</style>\n",
       "<table border=\"1\" class=\"dataframe\">\n",
       "  <thead>\n",
       "    <tr style=\"text-align: right;\">\n",
       "      <th></th>\n",
       "      <th>Flesh_Kin_Grade_text</th>\n",
       "      <th>Flesh_Read_easy_text</th>\n",
       "      <th>smog_text</th>\n",
       "      <th>Gunning_fox_text</th>\n",
       "      <th>CLI_text</th>\n",
       "      <th>ARI_text</th>\n",
       "      <th>LIX_text</th>\n",
       "      <th>Gulpease_text</th>\n",
       "    </tr>\n",
       "  </thead>\n",
       "  <tbody>\n",
       "    <tr>\n",
       "      <th>Flesh_Kin_Grade_text</th>\n",
       "      <td>1.000000</td>\n",
       "      <td>-0.940271</td>\n",
       "      <td>0.972479</td>\n",
       "      <td>0.960077</td>\n",
       "      <td>0.740009</td>\n",
       "      <td>0.987268</td>\n",
       "      <td>0.958337</td>\n",
       "      <td>-0.763573</td>\n",
       "    </tr>\n",
       "    <tr>\n",
       "      <th>Flesh_Read_easy_text</th>\n",
       "      <td>-0.940271</td>\n",
       "      <td>1.000000</td>\n",
       "      <td>-0.907882</td>\n",
       "      <td>-0.840152</td>\n",
       "      <td>-0.879980</td>\n",
       "      <td>-0.903873</td>\n",
       "      <td>-0.931370</td>\n",
       "      <td>0.746379</td>\n",
       "    </tr>\n",
       "    <tr>\n",
       "      <th>smog_text</th>\n",
       "      <td>0.972479</td>\n",
       "      <td>-0.907882</td>\n",
       "      <td>1.000000</td>\n",
       "      <td>0.911393</td>\n",
       "      <td>0.741408</td>\n",
       "      <td>0.964835</td>\n",
       "      <td>0.942773</td>\n",
       "      <td>-0.812819</td>\n",
       "    </tr>\n",
       "    <tr>\n",
       "      <th>Gunning_fox_text</th>\n",
       "      <td>0.960077</td>\n",
       "      <td>-0.840152</td>\n",
       "      <td>0.911393</td>\n",
       "      <td>1.000000</td>\n",
       "      <td>0.604585</td>\n",
       "      <td>0.958556</td>\n",
       "      <td>0.892213</td>\n",
       "      <td>-0.713912</td>\n",
       "    </tr>\n",
       "    <tr>\n",
       "      <th>CLI_text</th>\n",
       "      <td>0.740009</td>\n",
       "      <td>-0.879980</td>\n",
       "      <td>0.741408</td>\n",
       "      <td>0.604585</td>\n",
       "      <td>1.000000</td>\n",
       "      <td>0.739064</td>\n",
       "      <td>0.812039</td>\n",
       "      <td>-0.789801</td>\n",
       "    </tr>\n",
       "    <tr>\n",
       "      <th>ARI_text</th>\n",
       "      <td>0.987268</td>\n",
       "      <td>-0.903873</td>\n",
       "      <td>0.964835</td>\n",
       "      <td>0.958556</td>\n",
       "      <td>0.739064</td>\n",
       "      <td>1.000000</td>\n",
       "      <td>0.961439</td>\n",
       "      <td>-0.765284</td>\n",
       "    </tr>\n",
       "    <tr>\n",
       "      <th>LIX_text</th>\n",
       "      <td>0.958337</td>\n",
       "      <td>-0.931370</td>\n",
       "      <td>0.942773</td>\n",
       "      <td>0.892213</td>\n",
       "      <td>0.812039</td>\n",
       "      <td>0.961439</td>\n",
       "      <td>1.000000</td>\n",
       "      <td>-0.768926</td>\n",
       "    </tr>\n",
       "    <tr>\n",
       "      <th>Gulpease_text</th>\n",
       "      <td>-0.763573</td>\n",
       "      <td>0.746379</td>\n",
       "      <td>-0.812819</td>\n",
       "      <td>-0.713912</td>\n",
       "      <td>-0.789801</td>\n",
       "      <td>-0.765284</td>\n",
       "      <td>-0.768926</td>\n",
       "      <td>1.000000</td>\n",
       "    </tr>\n",
       "  </tbody>\n",
       "</table>\n",
       "</div>"
      ],
      "text/plain": [
       "                      Flesh_Kin_Grade_text  Flesh_Read_easy_text  smog_text  \\\n",
       "Flesh_Kin_Grade_text              1.000000             -0.940271   0.972479   \n",
       "Flesh_Read_easy_text             -0.940271              1.000000  -0.907882   \n",
       "smog_text                         0.972479             -0.907882   1.000000   \n",
       "Gunning_fox_text                  0.960077             -0.840152   0.911393   \n",
       "CLI_text                          0.740009             -0.879980   0.741408   \n",
       "ARI_text                          0.987268             -0.903873   0.964835   \n",
       "LIX_text                          0.958337             -0.931370   0.942773   \n",
       "Gulpease_text                    -0.763573              0.746379  -0.812819   \n",
       "\n",
       "                      Gunning_fox_text  CLI_text  ARI_text  LIX_text  \\\n",
       "Flesh_Kin_Grade_text          0.960077  0.740009  0.987268  0.958337   \n",
       "Flesh_Read_easy_text         -0.840152 -0.879980 -0.903873 -0.931370   \n",
       "smog_text                     0.911393  0.741408  0.964835  0.942773   \n",
       "Gunning_fox_text              1.000000  0.604585  0.958556  0.892213   \n",
       "CLI_text                      0.604585  1.000000  0.739064  0.812039   \n",
       "ARI_text                      0.958556  0.739064  1.000000  0.961439   \n",
       "LIX_text                      0.892213  0.812039  0.961439  1.000000   \n",
       "Gulpease_text                -0.713912 -0.789801 -0.765284 -0.768926   \n",
       "\n",
       "                      Gulpease_text  \n",
       "Flesh_Kin_Grade_text      -0.763573  \n",
       "Flesh_Read_easy_text       0.746379  \n",
       "smog_text                 -0.812819  \n",
       "Gunning_fox_text          -0.713912  \n",
       "CLI_text                  -0.789801  \n",
       "ARI_text                  -0.765284  \n",
       "LIX_text                  -0.768926  \n",
       "Gulpease_text              1.000000  "
      ]
     },
     "execution_count": 85,
     "metadata": {},
     "output_type": "execute_result"
    },
    {
     "data": {
      "image/png": "[encoded data removed]",
      "text/plain": [
       "<Figure size 576x576 with 2 Axes>"
      ]
     },
     "metadata": {
      "needs_background": "light"
     },
     "output_type": "display_data"
    }
   ],
   "source": [
    "text_index = final_df2[['Flesh_Kin_Grade_text', 'Flesh_Read_easy_text', 'smog_text', 'Gunning_fox_text', 'CLI_text', 'ARI_text', 'LIX_text', 'Gulpease_text']]\n",
    "corr_text = text_index.corr()\n",
    "\n",
    "plt.figure(figsize =(8,8))\n",
    "ax = sns.heatmap(\n",
    "    corr_text, \n",
    "    vmin=-1, vmax=1, center=0,\n",
    "    cmap=sns.diverging_palette(20, 220, n=200), annot = True,\n",
    "    square=True)\n",
    "ax.set_xticklabels(\n",
    "    ax.get_xticklabels(),\n",
    "    rotation=45,\n",
    "    horizontalalignment='right');\n",
    "\n",
    "text_index.corr()"
   ]
  },
  {
   "cell_type": "code",
   "execution_count": 86,
   "metadata": {},
   "outputs": [],
   "source": [
    "# For text: I will keep Flesh_Kin_Grade, Flesh_Read_easy,CLI and Gulpease indexes\n",
    "# dropping smog_text, Gunning_fox_text, ARI_text, LIX_text\n",
    "\n",
    "final_df2.drop(columns =['smog_text', 'Gunning_fox_text', 'ARI_text', 'LIX_text'], inplace = True)"
   ]
  },
  {
   "cell_type": "markdown",
   "metadata": {},
   "source": [
    "## Checking how  basic text features (number of words, characters, syllables, etc.) relate to each other"
   ]
  },
  {
   "cell_type": "code",
   "execution_count": 87,
   "metadata": {
    "scrolled": true
   },
   "outputs": [],
   "source": [
    "# Extrapolating number of (complex)words, characters, (poly)syllables number, \n",
    "word_syll_df_title = final_df2[['char_title', 'sent_title', 'Count_words_title',  'syllables_title',  'Poly_syllables_title', 'Complex_words_title',  'Long_words_title']]\n",
    "word_syll_df_text = final_df2[[ 'char_text', 'sent_text', 'Count_words_text',  'syllables_text',  'Poly_syllables_text',  'Complex_words_text', 'Long_words_text' ]]"
   ]
  },
  {
   "cell_type": "markdown",
   "metadata": {},
   "source": [
    "### For the title"
   ]
  },
  {
   "cell_type": "code",
   "execution_count": 88,
   "metadata": {},
   "outputs": [
    {
     "data": {
      "text/html": [
       "<div>\n",
       "<style scoped>\n",
       "    .dataframe tbody tr th:only-of-type {\n",
       "        vertical-align: middle;\n",
       "    }\n",
       "\n",
       "    .dataframe tbody tr th {\n",
       "        vertical-align: top;\n",
       "    }\n",
       "\n",
       "    .dataframe thead th {\n",
       "        text-align: right;\n",
       "    }\n",
       "</style>\n",
       "<table border=\"1\" class=\"dataframe\">\n",
       "  <thead>\n",
       "    <tr style=\"text-align: right;\">\n",
       "      <th></th>\n",
       "      <th>char_title</th>\n",
       "      <th>sent_title</th>\n",
       "      <th>Count_words_title</th>\n",
       "      <th>syllables_title</th>\n",
       "      <th>Poly_syllables_title</th>\n",
       "      <th>Complex_words_title</th>\n",
       "      <th>Long_words_title</th>\n",
       "    </tr>\n",
       "  </thead>\n",
       "  <tbody>\n",
       "    <tr>\n",
       "      <th>char_title</th>\n",
       "      <td>1.000000</td>\n",
       "      <td>0.230552</td>\n",
       "      <td>0.900317</td>\n",
       "      <td>0.958419</td>\n",
       "      <td>0.751598</td>\n",
       "      <td>0.196264</td>\n",
       "      <td>0.594846</td>\n",
       "    </tr>\n",
       "    <tr>\n",
       "      <th>sent_title</th>\n",
       "      <td>0.230552</td>\n",
       "      <td>1.000000</td>\n",
       "      <td>0.250319</td>\n",
       "      <td>0.224117</td>\n",
       "      <td>0.151122</td>\n",
       "      <td>-0.007842</td>\n",
       "      <td>0.090693</td>\n",
       "    </tr>\n",
       "    <tr>\n",
       "      <th>Count_words_title</th>\n",
       "      <td>0.900317</td>\n",
       "      <td>0.250319</td>\n",
       "      <td>1.000000</td>\n",
       "      <td>0.862276</td>\n",
       "      <td>0.535183</td>\n",
       "      <td>-0.003421</td>\n",
       "      <td>0.290967</td>\n",
       "    </tr>\n",
       "    <tr>\n",
       "      <th>syllables_title</th>\n",
       "      <td>0.958419</td>\n",
       "      <td>0.224117</td>\n",
       "      <td>0.862276</td>\n",
       "      <td>1.000000</td>\n",
       "      <td>0.815554</td>\n",
       "      <td>0.301117</td>\n",
       "      <td>0.602769</td>\n",
       "    </tr>\n",
       "    <tr>\n",
       "      <th>Poly_syllables_title</th>\n",
       "      <td>0.751598</td>\n",
       "      <td>0.151122</td>\n",
       "      <td>0.535183</td>\n",
       "      <td>0.815554</td>\n",
       "      <td>1.000000</td>\n",
       "      <td>0.173413</td>\n",
       "      <td>0.681040</td>\n",
       "    </tr>\n",
       "    <tr>\n",
       "      <th>Complex_words_title</th>\n",
       "      <td>0.196264</td>\n",
       "      <td>-0.007842</td>\n",
       "      <td>-0.003421</td>\n",
       "      <td>0.301117</td>\n",
       "      <td>0.173413</td>\n",
       "      <td>1.000000</td>\n",
       "      <td>0.314314</td>\n",
       "    </tr>\n",
       "    <tr>\n",
       "      <th>Long_words_title</th>\n",
       "      <td>0.594846</td>\n",
       "      <td>0.090693</td>\n",
       "      <td>0.290967</td>\n",
       "      <td>0.602769</td>\n",
       "      <td>0.681040</td>\n",
       "      <td>0.314314</td>\n",
       "      <td>1.000000</td>\n",
       "    </tr>\n",
       "  </tbody>\n",
       "</table>\n",
       "</div>"
      ],
      "text/plain": [
       "                      char_title  sent_title  Count_words_title  \\\n",
       "char_title              1.000000    0.230552           0.900317   \n",
       "sent_title              0.230552    1.000000           0.250319   \n",
       "Count_words_title       0.900317    0.250319           1.000000   \n",
       "syllables_title         0.958419    0.224117           0.862276   \n",
       "Poly_syllables_title    0.751598    0.151122           0.535183   \n",
       "Complex_words_title     0.196264   -0.007842          -0.003421   \n",
       "Long_words_title        0.594846    0.090693           0.290967   \n",
       "\n",
       "                      syllables_title  Poly_syllables_title  \\\n",
       "char_title                   0.958419              0.751598   \n",
       "sent_title                   0.224117              0.151122   \n",
       "Count_words_title            0.862276              0.535183   \n",
       "syllables_title              1.000000              0.815554   \n",
       "Poly_syllables_title         0.815554              1.000000   \n",
       "Complex_words_title          0.301117              0.173413   \n",
       "Long_words_title             0.602769              0.681040   \n",
       "\n",
       "                      Complex_words_title  Long_words_title  \n",
       "char_title                       0.196264          0.594846  \n",
       "sent_title                      -0.007842          0.090693  \n",
       "Count_words_title               -0.003421          0.290967  \n",
       "syllables_title                  0.301117          0.602769  \n",
       "Poly_syllables_title             0.173413          0.681040  \n",
       "Complex_words_title              1.000000          0.314314  \n",
       "Long_words_title                 0.314314          1.000000  "
      ]
     },
     "execution_count": 88,
     "metadata": {},
     "output_type": "execute_result"
    },
    {
     "data": {
      "image/png": "[encoded data removed]",
      "text/plain": [
       "<Figure size 576x576 with 2 Axes>"
      ]
     },
     "metadata": {
      "needs_background": "light"
     },
     "output_type": "display_data"
    }
   ],
   "source": [
    "plt.figure(figsize =(8,8))\n",
    "corr_title_word = word_syll_df_title.corr()\n",
    "ax = sns.heatmap(\n",
    "    corr_title_word, \n",
    "    vmin=-1, vmax=1, center=0,\n",
    "    cmap=sns.diverging_palette(20, 220, n=200),\n",
    "    square=True , annot = True)\n",
    "ax.set_xticklabels(\n",
    "    ax.get_xticklabels(),\n",
    "    rotation=45,\n",
    "    horizontalalignment='right');\n",
    "\n",
    "corr_title_word"
   ]
  },
  {
   "cell_type": "code",
   "execution_count": 89,
   "metadata": {},
   "outputs": [],
   "source": [
    "# For the title, I decide to keep:char_title, sent_title, Count_words, Poly_syllables_title, Complex_words_title, Long_words_title\n",
    "final_df2.drop(['syllables_title'], axis =1, inplace = True)"
   ]
  },
  {
   "cell_type": "markdown",
   "metadata": {},
   "source": [
    "### For the text"
   ]
  },
  {
   "cell_type": "code",
   "execution_count": 90,
   "metadata": {
    "scrolled": false
   },
   "outputs": [
    {
     "data": {
      "text/html": [
       "<div>\n",
       "<style scoped>\n",
       "    .dataframe tbody tr th:only-of-type {\n",
       "        vertical-align: middle;\n",
       "    }\n",
       "\n",
       "    .dataframe tbody tr th {\n",
       "        vertical-align: top;\n",
       "    }\n",
       "\n",
       "    .dataframe thead th {\n",
       "        text-align: right;\n",
       "    }\n",
       "</style>\n",
       "<table border=\"1\" class=\"dataframe\">\n",
       "  <thead>\n",
       "    <tr style=\"text-align: right;\">\n",
       "      <th></th>\n",
       "      <th>char_text</th>\n",
       "      <th>sent_text</th>\n",
       "      <th>Count_words_text</th>\n",
       "      <th>syllables_text</th>\n",
       "      <th>Poly_syllables_text</th>\n",
       "      <th>Complex_words_text</th>\n",
       "      <th>Long_words_text</th>\n",
       "    </tr>\n",
       "  </thead>\n",
       "  <tbody>\n",
       "    <tr>\n",
       "      <th>char_text</th>\n",
       "      <td>1.000000</td>\n",
       "      <td>0.909642</td>\n",
       "      <td>0.996004</td>\n",
       "      <td>0.999502</td>\n",
       "      <td>0.991833</td>\n",
       "      <td>0.910300</td>\n",
       "      <td>0.982678</td>\n",
       "    </tr>\n",
       "    <tr>\n",
       "      <th>sent_text</th>\n",
       "      <td>0.909642</td>\n",
       "      <td>1.000000</td>\n",
       "      <td>0.927510</td>\n",
       "      <td>0.907084</td>\n",
       "      <td>0.874100</td>\n",
       "      <td>0.771294</td>\n",
       "      <td>0.853164</td>\n",
       "    </tr>\n",
       "    <tr>\n",
       "      <th>Count_words_text</th>\n",
       "      <td>0.996004</td>\n",
       "      <td>0.927510</td>\n",
       "      <td>1.000000</td>\n",
       "      <td>0.995088</td>\n",
       "      <td>0.979207</td>\n",
       "      <td>0.882865</td>\n",
       "      <td>0.964259</td>\n",
       "    </tr>\n",
       "    <tr>\n",
       "      <th>syllables_text</th>\n",
       "      <td>0.999502</td>\n",
       "      <td>0.907084</td>\n",
       "      <td>0.995088</td>\n",
       "      <td>1.000000</td>\n",
       "      <td>0.993162</td>\n",
       "      <td>0.915807</td>\n",
       "      <td>0.983439</td>\n",
       "    </tr>\n",
       "    <tr>\n",
       "      <th>Poly_syllables_text</th>\n",
       "      <td>0.991833</td>\n",
       "      <td>0.874100</td>\n",
       "      <td>0.979207</td>\n",
       "      <td>0.993162</td>\n",
       "      <td>1.000000</td>\n",
       "      <td>0.920998</td>\n",
       "      <td>0.992024</td>\n",
       "    </tr>\n",
       "    <tr>\n",
       "      <th>Complex_words_text</th>\n",
       "      <td>0.910300</td>\n",
       "      <td>0.771294</td>\n",
       "      <td>0.882865</td>\n",
       "      <td>0.915807</td>\n",
       "      <td>0.920998</td>\n",
       "      <td>1.000000</td>\n",
       "      <td>0.934876</td>\n",
       "    </tr>\n",
       "    <tr>\n",
       "      <th>Long_words_text</th>\n",
       "      <td>0.982678</td>\n",
       "      <td>0.853164</td>\n",
       "      <td>0.964259</td>\n",
       "      <td>0.983439</td>\n",
       "      <td>0.992024</td>\n",
       "      <td>0.934876</td>\n",
       "      <td>1.000000</td>\n",
       "    </tr>\n",
       "  </tbody>\n",
       "</table>\n",
       "</div>"
      ],
      "text/plain": [
       "                     char_text  sent_text  Count_words_text  syllables_text  \\\n",
       "char_text             1.000000   0.909642          0.996004        0.999502   \n",
       "sent_text             0.909642   1.000000          0.927510        0.907084   \n",
       "Count_words_text      0.996004   0.927510          1.000000        0.995088   \n",
       "syllables_text        0.999502   0.907084          0.995088        1.000000   \n",
       "Poly_syllables_text   0.991833   0.874100          0.979207        0.993162   \n",
       "Complex_words_text    0.910300   0.771294          0.882865        0.915807   \n",
       "Long_words_text       0.982678   0.853164          0.964259        0.983439   \n",
       "\n",
       "                     Poly_syllables_text  Complex_words_text  Long_words_text  \n",
       "char_text                       0.991833            0.910300         0.982678  \n",
       "sent_text                       0.874100            0.771294         0.853164  \n",
       "Count_words_text                0.979207            0.882865         0.964259  \n",
       "syllables_text                  0.993162            0.915807         0.983439  \n",
       "Poly_syllables_text             1.000000            0.920998         0.992024  \n",
       "Complex_words_text              0.920998            1.000000         0.934876  \n",
       "Long_words_text                 0.992024            0.934876         1.000000  "
      ]
     },
     "execution_count": 90,
     "metadata": {},
     "output_type": "execute_result"
    },
    {
     "data": {
      "image/png": "[encoded data removed]",
      "text/plain": [
       "<Figure size 576x576 with 2 Axes>"
      ]
     },
     "metadata": {
      "needs_background": "light"
     },
     "output_type": "display_data"
    }
   ],
   "source": [
    "corr_text_word = word_syll_df_text.corr()\n",
    "plt.figure(figsize =(8,8))\n",
    "ax = sns.heatmap(\n",
    "    corr_text_word, \n",
    "    vmin=-1, vmax=1, center=0,\n",
    "    cmap=sns.diverging_palette(20, 220, n=200),\n",
    "    square=True, annot = True)\n",
    "ax.set_xticklabels(\n",
    "    ax.get_xticklabels(),\n",
    "    rotation=45,\n",
    "    horizontalalignment='right');\n",
    "\n",
    "corr_text_word"
   ]
  },
  {
   "cell_type": "code",
   "execution_count": 91,
   "metadata": {},
   "outputs": [],
   "source": [
    "#For the text, I decide to keep:  char_text, sent_text, Complex_words_text\n",
    "final_df2.drop(['Count_words_text', 'syllables_text', 'Poly_syllables_text', 'Long_words_text'], axis =1, inplace = True)"
   ]
  },
  {
   "cell_type": "code",
   "execution_count": 92,
   "metadata": {
    "scrolled": true
   },
   "outputs": [
    {
     "data": {
      "text/html": [
       "<div>\n",
       "<style scoped>\n",
       "    .dataframe tbody tr th:only-of-type {\n",
       "        vertical-align: middle;\n",
       "    }\n",
       "\n",
       "    .dataframe tbody tr th {\n",
       "        vertical-align: top;\n",
       "    }\n",
       "\n",
       "    .dataframe thead th {\n",
       "        text-align: right;\n",
       "    }\n",
       "</style>\n",
       "<table border=\"1\" class=\"dataframe\">\n",
       "  <thead>\n",
       "    <tr style=\"text-align: right;\">\n",
       "      <th></th>\n",
       "      <th>text</th>\n",
       "      <th>title</th>\n",
       "      <th>Real_Fake</th>\n",
       "      <th>Cat_Government News</th>\n",
       "      <th>Cat_Middle-east</th>\n",
       "      <th>Cat_News</th>\n",
       "      <th>Cat_US_News</th>\n",
       "      <th>Cat_left-news</th>\n",
       "      <th>Cat_politics</th>\n",
       "      <th>Cat_politicsNews</th>\n",
       "      <th>Cat_worldnews</th>\n",
       "      <th>sent_title</th>\n",
       "      <th>sent_text</th>\n",
       "      <th>words_in_title</th>\n",
       "      <th>char_title</th>\n",
       "      <th>words_in_text</th>\n",
       "      <th>char_text</th>\n",
       "      <th>Count_words_title</th>\n",
       "      <th>Poly_syllables_title</th>\n",
       "      <th>Complex_words_title</th>\n",
       "      <th>Complex_words_text</th>\n",
       "      <th>Long_words_title</th>\n",
       "      <th>Flesh_Kin_Grade_title</th>\n",
       "      <th>smog_title</th>\n",
       "      <th>Gunning_fox_title</th>\n",
       "      <th>CLI_title</th>\n",
       "      <th>ARI_title</th>\n",
       "      <th>LIX_title</th>\n",
       "      <th>Gulpease_title</th>\n",
       "      <th>Flesh_Kin_Grade_text</th>\n",
       "      <th>Flesh_Read_easy_text</th>\n",
       "      <th>CLI_text</th>\n",
       "      <th>Gulpease_text</th>\n",
       "      <th>title_nlp</th>\n",
       "      <th>text_nlp</th>\n",
       "      <th>title_nlp_stem</th>\n",
       "      <th>text_nlp_stem</th>\n",
       "      <th>title_nlp_lem</th>\n",
       "      <th>text_nlp_lem</th>\n",
       "    </tr>\n",
       "    <tr>\n",
       "      <th>date</th>\n",
       "      <th></th>\n",
       "      <th></th>\n",
       "      <th></th>\n",
       "      <th></th>\n",
       "      <th></th>\n",
       "      <th></th>\n",
       "      <th></th>\n",
       "      <th></th>\n",
       "      <th></th>\n",
       "      <th></th>\n",
       "      <th></th>\n",
       "      <th></th>\n",
       "      <th></th>\n",
       "      <th></th>\n",
       "      <th></th>\n",
       "      <th></th>\n",
       "      <th></th>\n",
       "      <th></th>\n",
       "      <th></th>\n",
       "      <th></th>\n",
       "      <th></th>\n",
       "      <th></th>\n",
       "      <th></th>\n",
       "      <th></th>\n",
       "      <th></th>\n",
       "      <th></th>\n",
       "      <th></th>\n",
       "      <th></th>\n",
       "      <th></th>\n",
       "      <th></th>\n",
       "      <th></th>\n",
       "      <th></th>\n",
       "      <th></th>\n",
       "      <th></th>\n",
       "      <th></th>\n",
       "      <th></th>\n",
       "      <th></th>\n",
       "      <th></th>\n",
       "      <th></th>\n",
       "    </tr>\n",
       "  </thead>\n",
       "  <tbody>\n",
       "    <tr>\n",
       "      <th>2015-03-31</th>\n",
       "      <td>the irony here is not lost on us. hillary is ...</td>\n",
       "      <td>hillary rodham nixon: a candidate with more b...</td>\n",
       "      <td>1</td>\n",
       "      <td>0</td>\n",
       "      <td>0</td>\n",
       "      <td>0</td>\n",
       "      <td>0</td>\n",
       "      <td>1</td>\n",
       "      <td>1</td>\n",
       "      <td>0</td>\n",
       "      <td>0</td>\n",
       "      <td>1</td>\n",
       "      <td>17</td>\n",
       "      <td>hillary rodham nixon a candidate with more ba...</td>\n",
       "      <td>64</td>\n",
       "      <td>the irony here is not lost on us hillary is b...</td>\n",
       "      <td>1626</td>\n",
       "      <td>12</td>\n",
       "      <td>7</td>\n",
       "      <td>0</td>\n",
       "      <td>21</td>\n",
       "      <td>5</td>\n",
       "      <td>11.706667</td>\n",
       "      <td>15.226696</td>\n",
       "      <td>4.8</td>\n",
       "      <td>-15.511067</td>\n",
       "      <td>9.6900</td>\n",
       "      <td>53.666667</td>\n",
       "      <td>60.666667</td>\n",
       "      <td>11.555195</td>\n",
       "      <td>45.639607</td>\n",
       "      <td>-15.516060</td>\n",
       "      <td>54.015674</td>\n",
       "      <td>[hillary, rodham, nixon, candidate, baggage, s...</td>\n",
       "      <td>[irony, lost, us, hillary, compared, president...</td>\n",
       "      <td>[hillari, rodham, nixon, candid, baggag, samso...</td>\n",
       "      <td>[ironi, lost, us, hillari, compar, presid, wan...</td>\n",
       "      <td>[hillary, rodham, nixon, candidate, baggage, s...</td>\n",
       "      <td>[irony, lose, us, hillary, compare, president,...</td>\n",
       "    </tr>\n",
       "    <tr>\n",
       "      <th>2015-03-31</th>\n",
       "      <td>in case you missed it sen. harry reid (r-nv),...</td>\n",
       "      <td>watch dirty harry reid on his lie about romne...</td>\n",
       "      <td>1</td>\n",
       "      <td>0</td>\n",
       "      <td>0</td>\n",
       "      <td>0</td>\n",
       "      <td>0</td>\n",
       "      <td>1</td>\n",
       "      <td>1</td>\n",
       "      <td>0</td>\n",
       "      <td>0</td>\n",
       "      <td>1</td>\n",
       "      <td>8</td>\n",
       "      <td>watch dirty harry reid on his lie about romne...</td>\n",
       "      <td>60</td>\n",
       "      <td>in case you missed it sen harry reid nv who a...</td>\n",
       "      <td>500</td>\n",
       "      <td>16</td>\n",
       "      <td>4</td>\n",
       "      <td>0</td>\n",
       "      <td>3</td>\n",
       "      <td>0</td>\n",
       "      <td>5.400000</td>\n",
       "      <td>11.573499</td>\n",
       "      <td>6.4</td>\n",
       "      <td>-15.598000</td>\n",
       "      <td>4.2325</td>\n",
       "      <td>16.000000</td>\n",
       "      <td>70.250000</td>\n",
       "      <td>5.736189</td>\n",
       "      <td>81.098873</td>\n",
       "      <td>-15.578426</td>\n",
       "      <td>67.688525</td>\n",
       "      <td>[watch, dirty, harry, reid, lie, romney, taxes...</td>\n",
       "      <td>[case, missed, sen, harry, reid, nv, announced...</td>\n",
       "      <td>[watch, dirti, harri, reid, lie, romney, tax, ...</td>\n",
       "      <td>[case, miss, sen, harri, reid, nv, announc, la...</td>\n",
       "      <td>[watch, dirty, harry, reid, lie, romney, tax, ...</td>\n",
       "      <td>[case, miss, sen, harry, reid, nv, announce, l...</td>\n",
       "    </tr>\n",
       "  </tbody>\n",
       "</table>\n",
       "</div>"
      ],
      "text/plain": [
       "                                                         text  \\\n",
       "date                                                            \n",
       "2015-03-31   the irony here is not lost on us. hillary is ...   \n",
       "2015-03-31   in case you missed it sen. harry reid (r-nv),...   \n",
       "\n",
       "                                                        title  Real_Fake  \\\n",
       "date                                                                       \n",
       "2015-03-31   hillary rodham nixon: a candidate with more b...          1   \n",
       "2015-03-31   watch dirty harry reid on his lie about romne...          1   \n",
       "\n",
       "            Cat_Government News  Cat_Middle-east  Cat_News  Cat_US_News  \\\n",
       "date                                                                      \n",
       "2015-03-31                    0                0         0            0   \n",
       "2015-03-31                    0                0         0            0   \n",
       "\n",
       "            Cat_left-news  Cat_politics  Cat_politicsNews  Cat_worldnews  \\\n",
       "date                                                                       \n",
       "2015-03-31              1             1                 0              0   \n",
       "2015-03-31              1             1                 0              0   \n",
       "\n",
       "            sent_title  sent_text  \\\n",
       "date                                \n",
       "2015-03-31           1         17   \n",
       "2015-03-31           1          8   \n",
       "\n",
       "                                               words_in_title  char_title  \\\n",
       "date                                                                        \n",
       "2015-03-31   hillary rodham nixon a candidate with more ba...          64   \n",
       "2015-03-31   watch dirty harry reid on his lie about romne...          60   \n",
       "\n",
       "                                                words_in_text  char_text  \\\n",
       "date                                                                       \n",
       "2015-03-31   the irony here is not lost on us hillary is b...       1626   \n",
       "2015-03-31   in case you missed it sen harry reid nv who a...        500   \n",
       "\n",
       "            Count_words_title  Poly_syllables_title  Complex_words_title  \\\n",
       "date                                                                       \n",
       "2015-03-31                 12                     7                    0   \n",
       "2015-03-31                 16                     4                    0   \n",
       "\n",
       "            Complex_words_text  Long_words_title  Flesh_Kin_Grade_title  \\\n",
       "date                                                                      \n",
       "2015-03-31                  21                 5              11.706667   \n",
       "2015-03-31                   3                 0               5.400000   \n",
       "\n",
       "            smog_title  Gunning_fox_title  CLI_title  ARI_title  LIX_title  \\\n",
       "date                                                                         \n",
       "2015-03-31   15.226696                4.8 -15.511067     9.6900  53.666667   \n",
       "2015-03-31   11.573499                6.4 -15.598000     4.2325  16.000000   \n",
       "\n",
       "            Gulpease_title  Flesh_Kin_Grade_text  Flesh_Read_easy_text  \\\n",
       "date                                                                     \n",
       "2015-03-31       60.666667             11.555195             45.639607   \n",
       "2015-03-31       70.250000              5.736189             81.098873   \n",
       "\n",
       "             CLI_text  Gulpease_text  \\\n",
       "date                                   \n",
       "2015-03-31 -15.516060      54.015674   \n",
       "2015-03-31 -15.578426      67.688525   \n",
       "\n",
       "                                                    title_nlp  \\\n",
       "date                                                            \n",
       "2015-03-31  [hillary, rodham, nixon, candidate, baggage, s...   \n",
       "2015-03-31  [watch, dirty, harry, reid, lie, romney, taxes...   \n",
       "\n",
       "                                                     text_nlp  \\\n",
       "date                                                            \n",
       "2015-03-31  [irony, lost, us, hillary, compared, president...   \n",
       "2015-03-31  [case, missed, sen, harry, reid, nv, announced...   \n",
       "\n",
       "                                               title_nlp_stem  \\\n",
       "date                                                            \n",
       "2015-03-31  [hillari, rodham, nixon, candid, baggag, samso...   \n",
       "2015-03-31  [watch, dirti, harri, reid, lie, romney, tax, ...   \n",
       "\n",
       "                                                text_nlp_stem  \\\n",
       "date                                                            \n",
       "2015-03-31  [ironi, lost, us, hillari, compar, presid, wan...   \n",
       "2015-03-31  [case, miss, sen, harri, reid, nv, announc, la...   \n",
       "\n",
       "                                                title_nlp_lem  \\\n",
       "date                                                            \n",
       "2015-03-31  [hillary, rodham, nixon, candidate, baggage, s...   \n",
       "2015-03-31  [watch, dirty, harry, reid, lie, romney, tax, ...   \n",
       "\n",
       "                                                 text_nlp_lem  \n",
       "date                                                           \n",
       "2015-03-31  [irony, lose, us, hillary, compare, president,...  \n",
       "2015-03-31  [case, miss, sen, harry, reid, nv, announce, l...  "
      ]
     },
     "execution_count": 92,
     "metadata": {},
     "output_type": "execute_result"
    }
   ],
   "source": [
    "final_df2.head(2)"
   ]
  },
  {
   "cell_type": "code",
   "execution_count": 93,
   "metadata": {},
   "outputs": [],
   "source": [
    "# Some indexes had NaN as value. This was caused by the fact that some texts just had link tokens, \n",
    "# which are not included in the calculation of sillables, words. Dividing by 0 gives you NaN.\n",
    "final_df2.dropna(inplace = True)\n",
    "# Save the final df\n",
    "final_df2.to_csv('C:\\\\Users\\\\gianl\\\\Capstone2\\\\data\\Real_fake_news_DWed.csv')"
   ]
  }
 ],
 "metadata": {
  "kernelspec": {
   "display_name": "Python 3",
   "language": "python",
   "name": "python3"
  },
  "language_info": {
   "codemirror_mode": {
    "name": "ipython",
    "version": 3
   },
   "file_extension": ".py",
   "mimetype": "text/x-python",
   "name": "python",
   "nbconvert_exporter": "python",
   "pygments_lexer": "ipython3",
   "version": "3.7.6"
  }
 },
 "nbformat": 4,
 "nbformat_minor": 4
}
